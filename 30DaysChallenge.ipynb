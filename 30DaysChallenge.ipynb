{
 "cells": [
  {
   "cell_type": "markdown",
   "id": "3f4411bd-3e6a-402b-b167-c73561a1cce3",
   "metadata": {},
   "source": [
    "<H3><CENTER>INDIAN DATA CLUB (IDC)"
   ]
  },
  {
   "cell_type": "markdown",
   "id": "340b73b5-6d2a-427f-9252-4d63754c106d",
   "metadata": {},
   "source": [
    "<h1>#30DaysOfPython 🐍"
   ]
  },
  {
   "cell_type": "markdown",
   "id": "97ad62f5-6ab1-44c5-a365-d14afd13a9f9",
   "metadata": {},
   "source": [
    "<h3><b>Day 0️⃣1️⃣: Introduction to Python</b></h1>\n",
    "<h5>Date: May 28, 2025"
   ]
  },
  {
   "cell_type": "markdown",
   "id": "124d2791-9462-49cd-b2e6-a143d9a3c0ad",
   "metadata": {},
   "source": [
    "🎯 Challenge\n",
    "- Write a program that prints \"Hello, World!\" followed by your name"
   ]
  },
  {
   "cell_type": "code",
   "execution_count": 15,
   "id": "d6c8dc47-7067-4acb-803d-9562e2bc25f3",
   "metadata": {},
   "outputs": [
    {
     "name": "stdout",
     "output_type": "stream",
     "text": [
      "Hello, World!\n",
      "I am Mohd Akif\n",
      "I am very excited for 30 days Python challenge\n",
      "Looking forward to rock!\n"
     ]
    }
   ],
   "source": [
    "# Approach 1: Using print() function\n",
    "print(\"Hello, World!\\nI am Mohd Akif\\nI am very excited for 30 days Python challenge\\nLooking forward to rock!\")"
   ]
  },
  {
   "cell_type": "code",
   "execution_count": 26,
   "id": "4e73dcf8-ba20-4006-a10f-97deece913b0",
   "metadata": {},
   "outputs": [
    {
     "name": "stdin",
     "output_type": "stream",
     "text": [
      "Aapka naam kya hai? : Mohd Akif\n"
     ]
    },
    {
     "name": "stdout",
     "output_type": "stream",
     "text": [
      "\n",
      "Hello, World!\n",
      "I am Mohd Akif \n",
      "I am very excited for 30 days Python challenge\n",
      "Looking forward to rock!\n"
     ]
    }
   ],
   "source": [
    "# Approach 2: Using input() function\n",
    "name = input(\"Aapka naam kya hai? :\") #input() function takes input from the user\n",
    "print(\"\\nHello, World!\\nI am\", name, \"\\nI am very excited for 30 days Python challenge\\nLooking forward to rock!\")"
   ]
  },
  {
   "cell_type": "markdown",
   "id": "928e3c01-5e4b-4f10-9c9d-388ad8c6a573",
   "metadata": {},
   "source": [
    "<h3><b>Day 0️⃣2️⃣: Variables and Data Types</b></h1>\n",
    "<h5>Date: May 29, 2025"
   ]
  },
  {
   "cell_type": "markdown",
   "id": "482e9e36-52e2-4567-b4f4-18bb8b892465",
   "metadata": {},
   "source": [
    "🎯 Challenge\n",
    "- Calculate the area of a rectangle using user-input length and width"
   ]
  },
  {
   "cell_type": "code",
   "execution_count": 14,
   "id": "fd3daa1d-9837-494d-b817-f2f71b39ff28",
   "metadata": {},
   "outputs": [
    {
     "name": "stdin",
     "output_type": "stream",
     "text": [
      "Enter the length: 1.3\n",
      "Enter the width: 2.6\n"
     ]
    },
    {
     "name": "stdout",
     "output_type": "stream",
     "text": [
      "Area of rectangle: 3.3800000000000003\n"
     ]
    }
   ],
   "source": [
    "length = float(input(\"Enter the length:\"))\n",
    "width = float(input(\"Enter the width:\"))\n",
    "print(\"Area of rectangle:\", length*width)"
   ]
  },
  {
   "cell_type": "markdown",
   "id": "d54ae35e-e072-4121-8f65-dab3b7e14c40",
   "metadata": {},
   "source": [
    "<h3><b>Day 0️⃣3️⃣: Lists, Tuples, and Dictionaries</b></h1>\n",
    "<h5>Date: May 30, 2025"
   ]
  },
  {
   "cell_type": "markdown",
   "id": "aac64e7e-2aef-4d34-a69c-ca3103398ee1",
   "metadata": {},
   "source": [
    "🎯 Challenge\n",
    "- Create an inventory system tracking items and quantities with a dictionary"
   ]
  },
  {
   "cell_type": "code",
   "execution_count": 46,
   "id": "159dc37c-44c4-4369-b2f9-a3e72a57fc88",
   "metadata": {},
   "outputs": [
    {
     "name": "stdout",
     "output_type": "stream",
     "text": [
      "*** Welcome to IDC Sabzi Wala ***\n",
      "\n",
      "Stock availability:\n",
      "\n",
      "1. Aloo (Potato): 5 kg\n",
      "2. Dhaniya (Coriander): 10 kg\n",
      "3. Karela (Balsam Pear): 0 kg\n",
      "4. Bayegan (Brinjal): 8 kg\n",
      "5. Paalak (Spinach): 3 kg\n"
     ]
    },
    {
     "name": "stdin",
     "output_type": "stream",
     "text": [
      "\n",
      "Enter between 1-5 to place your order:  1\n",
      "Enter the quantity of aloo you want to purchase (in kg):  3\n"
     ]
    },
    {
     "name": "stdout",
     "output_type": "stream",
     "text": [
      "\n",
      "Order successful! You bought 3 kg of aloo.\n",
      "\n",
      "Updated Stock:\n",
      "\n",
      "Aloo: 2 kg\n",
      "Dhaniya: 10 kg\n",
      "Karela: 0 kg\n",
      "Bayegan: 8 kg\n",
      "Paalak: 3 kg\n"
     ]
    }
   ],
   "source": [
    "sabzi = {\"aloo\": 5, \"dhaniya\": 10, \"karela\": 0, \"bayegan\": 8, \"paalak\": 3}\n",
    "\n",
    "# Mapping order_id to sabzi keys\n",
    "sabzi_menu = {1: \"aloo\", 2: \"dhaniya\", 3: \"karela\", 4: \"bayegan\", 5: \"paalak\"}\n",
    "\n",
    "print(\"*** Welcome to IDC Sabzi Wala ***\\n\")\n",
    "\n",
    "print(\"Stock availability:\\n\")\n",
    "print(\"1. Aloo (Potato):\", sabzi[\"aloo\"], \"kg\")\n",
    "print(\"2. Dhaniya (Coriander):\", sabzi[\"dhaniya\"], \"kg\")\n",
    "print(\"3. Karela (Balsam Pear):\", sabzi[\"karela\"], \"kg\")\n",
    "print(\"4. Bayegan (Brinjal):\", sabzi[\"bayegan\"], \"kg\")\n",
    "print(\"5. Paalak (Spinach):\", sabzi[\"paalak\"], \"kg\")\n",
    "\n",
    "order_id = int(input(\"\\nEnter between 1-5 to place your order: \")) #1\n",
    "\n",
    "if (order_id < 1) or (order_id > 5):\n",
    "    print(\"\\nPlease enter a correct order number (1-5)!\")\n",
    "else:\n",
    "    selected_item = sabzi_menu[order_id] #aloo\n",
    "    quantity = int(input(f\"Enter the quantity of {selected_item} you want to purchase (in kg): \")) #3\n",
    "\n",
    "    if quantity <= sabzi[selected_item]: #aloo ; 3 <= 5\n",
    "        sabzi[selected_item] -= quantity # 2\n",
    "        print(f\"\\nOrder successful! You bought {quantity} kg of {selected_item}.\")\n",
    "    else:\n",
    "        print(f\"\\nSorry, only {sabzi[selected_item]} kg of {selected_item} is available.\")\n",
    "\n",
    "# Print updated stock\n",
    "print(\"\\nUpdated Stock:\\n\")\n",
    "for item, stock in sabzi.items():\n",
    "    print(f\"{item.capitalize()}: {stock} kg\")\n"
   ]
  },
  {
   "cell_type": "code",
   "execution_count": null,
   "id": "64af888a-9cd9-4643-b44c-13da0d35d91f",
   "metadata": {},
   "outputs": [],
   "source": []
  }
 ],
 "metadata": {
  "kernelspec": {
   "display_name": "Python [conda env:base] *",
   "language": "python",
   "name": "conda-base-py"
  },
  "language_info": {
   "codemirror_mode": {
    "name": "ipython",
    "version": 3
   },
   "file_extension": ".py",
   "mimetype": "text/x-python",
   "name": "python",
   "nbconvert_exporter": "python",
   "pygments_lexer": "ipython3",
   "version": "3.12.7"
  }
 },
 "nbformat": 4,
 "nbformat_minor": 5
}
