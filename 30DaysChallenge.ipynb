{
 "cells": [
  {
   "cell_type": "markdown",
   "id": "3f4411bd-3e6a-402b-b167-c73561a1cce3",
   "metadata": {},
   "source": [
    "<H3><CENTER>INDIAN DATA CLUB (IDC)"
   ]
  },
  {
   "cell_type": "markdown",
   "id": "340b73b5-6d2a-427f-9252-4d63754c106d",
   "metadata": {},
   "source": [
    "<h1>#30DaysOfPython 🐍"
   ]
  },
  {
   "cell_type": "markdown",
   "id": "97ad62f5-6ab1-44c5-a365-d14afd13a9f9",
   "metadata": {},
   "source": [
    "<h3><b>Day 0️⃣1️⃣: Introduction to Python</b></h1>\n",
    "<h5>Date: May 28, 2025"
   ]
  },
  {
   "cell_type": "markdown",
   "id": "124d2791-9462-49cd-b2e6-a143d9a3c0ad",
   "metadata": {},
   "source": [
    "🎯 Challenge\n",
    "- Write a program that prints \"Hello, World!\" followed by your name"
   ]
  },
  {
   "cell_type": "code",
   "execution_count": 15,
   "id": "d6c8dc47-7067-4acb-803d-9562e2bc25f3",
   "metadata": {},
   "outputs": [
    {
     "name": "stdout",
     "output_type": "stream",
     "text": [
      "Hello, World!\n",
      "I am Mohd Akif\n",
      "I am very excited for 30 days Python challenge\n",
      "Looking forward to rock!\n"
     ]
    }
   ],
   "source": [
    "# Approach 1: Using print() function\n",
    "print(\"Hello, World!\\nI am Mohd Akif\\nI am very excited for 30 days Python challenge\\nLooking forward to rock!\")"
   ]
  },
  {
   "cell_type": "code",
   "execution_count": 26,
   "id": "4e73dcf8-ba20-4006-a10f-97deece913b0",
   "metadata": {},
   "outputs": [
    {
     "name": "stdin",
     "output_type": "stream",
     "text": [
      "Aapka naam kya hai? : Mohd Akif\n"
     ]
    },
    {
     "name": "stdout",
     "output_type": "stream",
     "text": [
      "\n",
      "Hello, World!\n",
      "I am Mohd Akif \n",
      "I am very excited for 30 days Python challenge\n",
      "Looking forward to rock!\n"
     ]
    }
   ],
   "source": [
    "# Approach 2: Using input() function\n",
    "name = input(\"Aapka naam kya hai? :\") #input() function takes input from the user\n",
    "print(\"\\nHello, World!\\nI am\", name, \"\\nI am very excited for 30 days Python challenge\\nLooking forward to rock!\")"
   ]
  },
  {
   "cell_type": "markdown",
   "id": "928e3c01-5e4b-4f10-9c9d-388ad8c6a573",
   "metadata": {},
   "source": [
    "<h3><b>Day 0️⃣2️⃣: Variables and Data Types</b></h1>\n",
    "<h5>Date: May 29, 2025"
   ]
  },
  {
   "cell_type": "markdown",
   "id": "482e9e36-52e2-4567-b4f4-18bb8b892465",
   "metadata": {},
   "source": [
    "🎯 Challenge\n",
    "- Calculate the area of a rectangle using user-input length and width"
   ]
  },
  {
   "cell_type": "code",
   "execution_count": 14,
   "id": "fd3daa1d-9837-494d-b817-f2f71b39ff28",
   "metadata": {},
   "outputs": [
    {
     "name": "stdin",
     "output_type": "stream",
     "text": [
      "Enter the length: 1.3\n",
      "Enter the width: 2.6\n"
     ]
    },
    {
     "name": "stdout",
     "output_type": "stream",
     "text": [
      "Area of rectangle: 3.3800000000000003\n"
     ]
    }
   ],
   "source": [
    "length = float(input(\"Enter the length:\"))\n",
    "width = float(input(\"Enter the width:\"))\n",
    "print(\"Area of rectangle:\", length*width)"
   ]
  },
  {
   "cell_type": "code",
   "execution_count": null,
   "id": "e602d2fe-0dda-4e96-a0d8-7d2f14d5a1b3",
   "metadata": {},
   "outputs": [],
   "source": []
  }
 ],
 "metadata": {
  "kernelspec": {
   "display_name": "Python [conda env:base] *",
   "language": "python",
   "name": "conda-base-py"
  },
  "language_info": {
   "codemirror_mode": {
    "name": "ipython",
    "version": 3
   },
   "file_extension": ".py",
   "mimetype": "text/x-python",
   "name": "python",
   "nbconvert_exporter": "python",
   "pygments_lexer": "ipython3",
   "version": "3.12.7"
  }
 },
 "nbformat": 4,
 "nbformat_minor": 5
}
