{
 "cells": [
  {
   "cell_type": "markdown",
   "id": "3f4411bd-3e6a-402b-b167-c73561a1cce3",
   "metadata": {},
   "source": [
    "<H3><CENTER>INDIAN DATA CLUB (IDC)"
   ]
  },
  {
   "cell_type": "markdown",
   "id": "340b73b5-6d2a-427f-9252-4d63754c106d",
   "metadata": {},
   "source": [
    "<h1>#30DaysOfPython 🐍"
   ]
  },
  {
   "cell_type": "markdown",
   "id": "97ad62f5-6ab1-44c5-a365-d14afd13a9f9",
   "metadata": {},
   "source": [
    "<h3><b>Day 0️⃣1️⃣: Introduction to Python</b></h1>\n",
    "<h5>Date: May 28, 2025"
   ]
  },
  {
   "cell_type": "markdown",
   "id": "124d2791-9462-49cd-b2e6-a143d9a3c0ad",
   "metadata": {},
   "source": [
    "🎯 Challenge\n",
    "- Write a program that prints \"Hello, World!\" followed by your name"
   ]
  },
  {
   "cell_type": "code",
   "execution_count": 15,
   "id": "d6c8dc47-7067-4acb-803d-9562e2bc25f3",
   "metadata": {},
   "outputs": [
    {
     "name": "stdout",
     "output_type": "stream",
     "text": [
      "Hello, World!\n",
      "I am Mohd Akif\n",
      "I am very excited for 30 days Python challenge\n",
      "Looking forward to rock!\n"
     ]
    }
   ],
   "source": [
    "# Approach 1: Using print() function\n",
    "print(\"Hello, World!\\nI am Mohd Akif\\nI am very excited for 30 days Python challenge\\nLooking forward to rock!\")"
   ]
  },
  {
   "cell_type": "code",
   "execution_count": 26,
   "id": "4e73dcf8-ba20-4006-a10f-97deece913b0",
   "metadata": {},
   "outputs": [
    {
     "name": "stdin",
     "output_type": "stream",
     "text": [
      "Aapka naam kya hai? : Mohd Akif\n"
     ]
    },
    {
     "name": "stdout",
     "output_type": "stream",
     "text": [
      "\n",
      "Hello, World!\n",
      "I am Mohd Akif \n",
      "I am very excited for 30 days Python challenge\n",
      "Looking forward to rock!\n"
     ]
    }
   ],
   "source": [
    "# Approach 2: Using input() function\n",
    "name = input(\"Aapka naam kya hai? :\") #input() function takes input from the user\n",
    "print(\"\\nHello, World!\\nI am\", name, \"\\nI am very excited for 30 days Python challenge\\nLooking forward to rock!\")"
   ]
  },
  {
   "cell_type": "markdown",
   "id": "928e3c01-5e4b-4f10-9c9d-388ad8c6a573",
   "metadata": {},
   "source": [
    "<h3><b>Day 0️⃣2️⃣: Variables and Data Types</b></h1>\n",
    "<h5>Date: May 29, 2025"
   ]
  },
  {
   "cell_type": "markdown",
   "id": "482e9e36-52e2-4567-b4f4-18bb8b892465",
   "metadata": {},
   "source": [
    "🎯 Challenge\n",
    "- Calculate the area of a rectangle using user-input length and width"
   ]
  },
  {
   "cell_type": "code",
   "execution_count": 14,
   "id": "fd3daa1d-9837-494d-b817-f2f71b39ff28",
   "metadata": {},
   "outputs": [
    {
     "name": "stdin",
     "output_type": "stream",
     "text": [
      "Enter the length: 1.3\n",
      "Enter the width: 2.6\n"
     ]
    },
    {
     "name": "stdout",
     "output_type": "stream",
     "text": [
      "Area of rectangle: 3.3800000000000003\n"
     ]
    }
   ],
   "source": [
    "length = float(input(\"Enter the length:\"))\n",
    "width = float(input(\"Enter the width:\"))\n",
    "print(\"Area of rectangle:\", length*width)"
   ]
  },
  {
   "cell_type": "markdown",
   "id": "0baa7761-e258-49d6-a29f-822bfb0b9e81",
   "metadata": {},
   "source": [
    "<h3><b>Day 0️⃣3️⃣: Lists, Tuples, and Dictionaries</b></h1>\n",
    "<h5>Date: May 30, 2025"
   ]
  },
  {
   "cell_type": "markdown",
   "id": "2497932f-d306-4fd4-9a56-e2f29b829960",
   "metadata": {},
   "source": [
    "🎯 Challenge\n",
    "- Create an inventory system tracking items and quantities with a dictionary"
   ]
  },
  {
   "cell_type": "code",
   "execution_count": 1,
   "id": "0fb93104-b92d-4ac8-a465-1cff643da9b5",
   "metadata": {},
   "outputs": [
    {
     "name": "stdout",
     "output_type": "stream",
     "text": [
      "*** Welcome to IDC Sabzi Wala ***\n",
      "\n",
      "Stock availability:\n",
      "\n",
      "1. Aloo (Potato): 5 kg\n",
      "2. Dhaniya (Coriander): 10 kg\n",
      "3. Karela (Balsam Pear): 0 kg\n",
      "4. Bayegan (Brinjal): 8 kg\n",
      "5. Paalak (Spinach): 3 kg\n"
     ]
    },
    {
     "name": "stdin",
     "output_type": "stream",
     "text": [
      "\n",
      "Enter between 1-5 to place your order:  5\n",
      "Enter the quantity of paalak you want to purchase (in kg):  5\n"
     ]
    },
    {
     "name": "stdout",
     "output_type": "stream",
     "text": [
      "\n",
      "Sorry, only 3 kg of paalak is available.\n",
      "\n",
      "Updated Stock:\n",
      "\n",
      "Aloo: 5 kg\n",
      "Dhaniya: 10 kg\n",
      "Karela: 0 kg\n",
      "Bayegan: 8 kg\n",
      "Paalak: 3 kg\n"
     ]
    }
   ],
   "source": [
    "sabzi = {\"aloo\": 5, \"dhaniya\": 10, \"karela\": 0, \"bayegan\": 8, \"paalak\": 3}\n",
    "\n",
    "# Mapping order_id to sabzi keys\n",
    "sabzi_menu = {1: \"aloo\", 2: \"dhaniya\", 3: \"karela\", 4: \"bayegan\", 5: \"paalak\"}\n",
    "\n",
    "print(\"*** Welcome to IDC Sabzi Wala ***\\n\")\n",
    "\n",
    "print(\"Stock availability:\\n\")\n",
    "print(\"1. Aloo (Potato):\", sabzi[\"aloo\"], \"kg\")\n",
    "print(\"2. Dhaniya (Coriander):\", sabzi[\"dhaniya\"], \"kg\")\n",
    "print(\"3. Karela (Balsam Pear):\", sabzi[\"karela\"], \"kg\")\n",
    "print(\"4. Bayegan (Brinjal):\", sabzi[\"bayegan\"], \"kg\")\n",
    "print(\"5. Paalak (Spinach):\", sabzi[\"paalak\"], \"kg\")\n",
    "\n",
    "order_id = int(input(\"\\nEnter between 1-5 to place your order: \")) #1\n",
    "\n",
    "if (order_id < 1) or (order_id > 5):\n",
    "    print(\"\\nPlease enter a correct order number (1-5)!\")\n",
    "else:\n",
    "    selected_item = sabzi_menu[order_id] #aloo\n",
    "    quantity = int(input(f\"Enter the quantity of {selected_item} you want to purchase (in kg): \")) #3\n",
    "\n",
    "    if quantity <= sabzi[selected_item]: #aloo ; 3 <= 5\n",
    "        sabzi[selected_item] -= quantity # 2\n",
    "        print(f\"\\nOrder successful! You bought {quantity} kg of {selected_item}.\")\n",
    "    else:\n",
    "        print(f\"\\nSorry, only {sabzi[selected_item]} kg of {selected_item} is available.\")\n",
    "\n",
    "# Print updated stock\n",
    "print(\"\\nUpdated Stock:\\n\")\n",
    "for item, stock in sabzi.items():\n",
    "    print(f\"{item.capitalize()}: {stock} kg\")\n"
   ]
  },
  {
   "cell_type": "markdown",
   "id": "a8a8fe3e-5aba-481a-826b-fb8f32cb1a63",
   "metadata": {},
   "source": [
    "<h3><b>Day 0️⃣4️⃣: Control Structures</b></h1>\n",
    "<h5>Date: May 31, 2025"
   ]
  },
  {
   "cell_type": "markdown",
   "id": "a75db35e-fdeb-4e07-a909-0141e3b99b7b",
   "metadata": {},
   "source": [
    "🎯 Challenge\n",
    "- Check if a user-entered number is prime"
   ]
  },
  {
   "cell_type": "code",
   "execution_count": 2,
   "id": "efd00e1d-85dd-4537-8594-ece365001fbb",
   "metadata": {},
   "outputs": [
    {
     "name": "stdin",
     "output_type": "stream",
     "text": [
      "Enter the number: 5\n"
     ]
    },
    {
     "name": "stdout",
     "output_type": "stream",
     "text": [
      "5 is a prime number\n"
     ]
    }
   ],
   "source": [
    "number = int(input(\"Enter the number:\")) #number = 4\n",
    "\n",
    "count = 0 #3\n",
    "\n",
    "if number <= 1:\n",
    "    print(f\"{number} is neither prime nor composite\")\n",
    "else:\n",
    "    for i in range (1, number+1): #1, 2, 3, 4\n",
    "        if number % i == 0:\n",
    "            count+=1\n",
    "    if count > 2:\n",
    "        print(f\"{number} is a composite number\")\n",
    "    else:\n",
    "        print(f\"{number} is a prime number\")"
   ]
  },
  {
   "cell_type": "markdown",
   "id": "5cd3a1d5-dec1-4a42-9773-b8937b8f8563",
   "metadata": {},
   "source": [
    "<h3><b>Day 0️⃣5️⃣: Functions</b></h1>\n",
    "<h5>Date: June 1, 2025"
   ]
  },
  {
   "cell_type": "markdown",
   "id": "4c797e79-0cb9-4cb2-b876-1467746da85f",
   "metadata": {},
   "source": [
    "🎯 Challenge\n",
    "- Write a function that computes the sum and average of a list of numbers"
   ]
  },
  {
   "cell_type": "code",
   "execution_count": 138,
   "id": "84bb8372-cd03-438c-9071-bc7af40f0048",
   "metadata": {},
   "outputs": [
    {
     "name": "stdin",
     "output_type": "stream",
     "text": [
      "\n",
      "Enter the number of element you want to have in your list: 5\n",
      "Enter the 1 element: 1\n",
      "Enter the 2 element: 2\n",
      "Enter the 3 element: 3\n",
      "Enter the 4 element: 4\n",
      "Enter the 5 element: 5\n"
     ]
    },
    {
     "name": "stdout",
     "output_type": "stream",
     "text": [
      "\n",
      "The list is: [1, 2, 3, 4, 5]\n",
      "Sum: 15\n",
      "Avg: 3.0\n"
     ]
    }
   ],
   "source": [
    "list_value = [] # ['1','2','3','4',5']\n",
    "\n",
    "number_of_element = int(input(\"\\nEnter the number of element you want to have in your list:\"))\n",
    "\n",
    "for i in range(number_of_element):\n",
    "    \n",
    "    element = int(input(f\"Enter the {i+1} element:\"))\n",
    "    list_value.append(element) #append() is used to insert a value in the end of the list\n",
    "\n",
    "print(\"\\nThe list is:\",list_value)\n",
    "\n",
    "def calc(num_list):\n",
    "    \n",
    "    total = 0\n",
    "    avg = 0\n",
    "    \n",
    "    for i in num_list: # i iterates (travel) through each element of num_list and then store its different values in each iteration\n",
    "        total += i # It means total = total + i\n",
    "        \n",
    "    avg = total/len(num_list) #len() is used to calculate the number of elements present in an object(in our case it is a list).\n",
    "    \n",
    "    print(\"Sum:\", total)\n",
    "    print(\"Avg:\",avg)\n",
    "    \n",
    "calc(list_value) #We are calling this function to perform its task which was defined"
   ]
  },
  {
   "cell_type": "markdown",
   "id": "869ea905-59e5-419b-b9d8-12dce3af9152",
   "metadata": {},
   "source": [
    "<h3><b>Day 0️⃣6️⃣: Modules and Packages</b></h1>\n",
    "<h5>Date: June 2, 2025"
   ]
  },
  {
   "cell_type": "markdown",
   "id": "9fde9927-075c-449a-aa52-1182a4162bb5",
   "metadata": {},
   "source": [
    "🎯 Challenge\n",
    "- Generate a random 8-character password"
   ]
  },
  {
   "cell_type": "code",
   "execution_count": 151,
   "id": "2dd7571c-a55d-4160-af01-24cc83fe5874",
   "metadata": {},
   "outputs": [
    {
     "name": "stdout",
     "output_type": "stream",
     "text": [
      "Random 8-character password: +5'3\\!4%\n"
     ]
    }
   ],
   "source": [
    "import secrets, string\n",
    "\n",
    "# Define the set of characters to choose from: digits (0-9) and punctuation marks (e.g., !, @, #, etc.)\n",
    "list_of_characters = string.digits + string.punctuation\n",
    "\n",
    "password = \"\"  # Initialize an empty string to store the generated password\n",
    "\n",
    "# Loop 8 times to generate an 8-character password\n",
    "for i in range(8):\n",
    "    # Randomly select a character from the list_of_characters variable and append it to the password variable\n",
    "    password = password + secrets.choice(list_of_characters)\n",
    "    \n",
    "# Print the generated random password\n",
    "print(\"Random 8-character password:\", password)\n"
   ]
  },
  {
   "cell_type": "markdown",
   "id": "52dbf3e5-4586-4c16-818a-89cd946dec7b",
   "metadata": {},
   "source": [
    "<h3><b>Day 0️⃣7️⃣: File Handling</b></h1>\n",
    "<h5>Date: June 3, 2025"
   ]
  },
  {
   "cell_type": "markdown",
   "id": "67713b51-d594-4a26-9dc2-5a6069109aed",
   "metadata": {},
   "source": [
    "🎯 Challenge\n",
    "- Count word frequencies in a text file"
   ]
  },
  {
   "cell_type": "code",
   "execution_count": 26,
   "id": "bee93b15-046f-480d-bff8-17e146d7e130",
   "metadata": {},
   "outputs": [
    {
     "name": "stdout",
     "output_type": "stream",
     "text": [
      "the : 8\n",
      "indian : 1\n",
      "data : 7\n",
      "club : 3\n",
      "idc : 4\n",
      "is : 3\n",
      "a : 3\n",
      "nonprofit : 1\n",
      "organization : 1\n",
      "established : 2\n",
      "in : 5\n",
      "november : 1\n",
      "2024 : 1\n",
      "headquartered : 1\n",
      "hyderabad : 1\n",
      "telangana : 2\n",
      "inaugurated : 1\n",
      "by : 1\n",
      "honorable : 1\n",
      "education : 1\n",
      "minister : 1\n",
      "of : 3\n",
      "aims : 1\n",
      "to : 8\n",
      "build : 1\n",
      "india's : 1\n",
      "most : 1\n",
      "unified : 1\n",
      "community : 4\n",
      "bringing : 1\n",
      "together : 1\n",
      "enthusiasts : 1\n",
      "and : 19\n",
      "professionals : 2\n",
      "collaborate : 1\n",
      "share : 1\n",
      "experiences : 1\n",
      "network : 1\n",
      "mission : 2\n",
      "activities : 1\n",
      "idc's : 2\n",
      "foster : 2\n",
      "collaborative : 1\n",
      "environment : 1\n",
      "where : 1\n",
      "individuals : 2\n",
      "passionate : 1\n",
      "about : 1\n",
      "can : 2\n",
      "connect : 2\n",
      "grow : 1\n",
      "organizes : 1\n",
      "various : 1\n",
      "events : 6\n",
      "initiatives : 2\n",
      "including : 1\n",
      "workshops : 1\n",
      "webinars : 1\n",
      "sessions : 1\n",
      "focused : 1\n",
      "on : 4\n",
      "tools : 1\n",
      "user : 1\n",
      "experience : 1\n",
      "design : 1\n",
      "such : 2\n",
      "as : 2\n",
      "power : 1\n",
      "bi : 1\n",
      "dashboard : 1\n",
      "development : 1\n",
      "featuring : 1\n",
      "industry : 2\n",
      "experts : 1\n",
      "like : 4\n",
      "ashish : 1\n",
      "babaria : 1\n",
      "challenges : 3\n",
      "competitions : 1\n",
      "30 : 1\n",
      "days : 1\n",
      "python : 1\n",
      "challenge : 1\n",
      "encourage : 1\n",
      "members : 2\n",
      "enhance : 1\n",
      "their : 2\n",
      "programming : 1\n",
      "skills : 1\n",
      "through : 2\n",
      "daily : 1\n",
      "tasks : 1\n",
      "support : 1\n",
      "networking : 1\n",
      "meetups : 1\n",
      "at : 3\n",
      "venues : 1\n",
      "microsoft : 1\n",
      "campus : 1\n",
      "provide : 1\n",
      "opportunities : 1\n",
      "for : 3\n",
      "engage : 2\n",
      "with : 1\n",
      "peers : 1\n",
      "outreach : 1\n",
      "has : 1\n",
      "university : 2\n",
      "chapters : 1\n",
      "chandigarh : 1\n",
      "students : 1\n",
      "communities : 1\n",
      "academic : 1\n",
      "level : 1\n",
      "maintains : 1\n",
      "an : 1\n",
      "active : 1\n",
      "presence : 1\n",
      "social : 2\n",
      "media : 2\n",
      "platforms : 1\n",
      "instagram : 2\n",
      "linkedin : 2\n",
      "sharing : 1\n",
      "updates : 1\n",
      "highlights : 1\n",
      "get : 1\n",
      "involved : 1\n",
      "interested : 1\n",
      "joining : 1\n",
      "official : 1\n",
      "website : 1\n",
      "or : 2\n",
      "channels : 1\n",
      "participation : 1\n",
      "discussions : 1\n",
      "open : 1\n",
      "all : 1\n",
      "providing : 1\n",
      "platform : 1\n",
      "continuous : 1\n",
      "learning : 1\n",
      "professional : 1\n",
      "growth : 1\n",
      "field : 1\n",
      "science : 1\n",
      "analytics : 1\n",
      "more : 1\n",
      "information : 1\n",
      "stay : 1\n",
      "updated : 1\n",
      "upcoming : 1\n",
      "visit : 1\n",
      "page : 1\n",
      "profile : 1\n"
     ]
    }
   ],
   "source": [
    "import string  # Import string module to access punctuation characters\n",
    "\n",
    "file = open(\"idc.txt\", \"r\")  # Open the file in read mode\n",
    "\n",
    "frequency = {}  # Create an empty dictionary to store word counts\n",
    "\n",
    "for line in file:  # Loop through each line in the file\n",
    "    word = line.split()  # Split the line into words\n",
    "    for count_of_words in word:  # Loop through each word\n",
    "        \n",
    "        # Convert word to lowercase and remove punctuation from start/end\n",
    "        count_of_words = count_of_words.lower().strip(string.punctuation)\n",
    "        \n",
    "        # Update the word count in the dictionary\n",
    "        if count_of_words in frequency:\n",
    "            frequency[count_of_words] += 1\n",
    "        else:\n",
    "            frequency[count_of_words] = 1\n",
    "\n",
    "for key, val in frequency.items():  # Loop through each word and its count\n",
    "    print(f\"{key} : {val}\")  # Print word and its frequency\n"
   ]
  },
  {
   "cell_type": "markdown",
   "id": "72a37e5b-b1d8-43e1-b96e-158381cf7daa",
   "metadata": {},
   "source": [
    "Steps of Day 7 Challenge:\n",
    "\n",
    "1. Open the file in read mode\n",
    "2. Create an empty dictionary to store the word and its frequency\n",
    "3. Loop through each line of the file or let's say we will pick each line of the file\n",
    "4. Split the line into words and store all the words in a variable\n",
    "5. Remove punctuations and convert all words into lower-case\n",
    "6. Loop through each word or let's say we will pick each word\n",
    "7. Check if the word is present in the dictionary. If yes, increment its occurence value by 1 everytime, if not then keep it as 1 only\n",
    "8. Print the dictionary"
   ]
  },
  {
   "cell_type": "markdown",
   "id": "5c8f779b-eefb-4106-aa95-468d255a0321",
   "metadata": {},
   "source": [
    "<h3><b>Day 0️⃣8️⃣: Object-Oriented Programming (Part 1)</b></h1>\n",
    "<h5>Date: June 4, 2025"
   ]
  },
  {
   "cell_type": "markdown",
   "id": "6249773e-c221-42fb-9335-e6691bdb5506",
   "metadata": {},
   "source": [
    "🎯 Challenge\n",
    "- Create a Car class with attributes and a display method"
   ]
  },
  {
   "cell_type": "code",
   "execution_count": 16,
   "id": "9a771c7c-70cd-4580-9e28-71792f64e5c1",
   "metadata": {},
   "outputs": [
    {
     "name": "stdout",
     "output_type": "stream",
     "text": [
      "**Car Information**\n",
      "\n",
      "Name: Taarzan\n",
      "Model: The Wonder Car\n",
      "Color: Purple\n",
      "Price: Rs.60000\n",
      "Owner: Raj\n"
     ]
    }
   ],
   "source": [
    "class Car:\n",
    "    def __init__(self, name, model, color, price, owner):\n",
    "        self.name = name\n",
    "        self.model = model\n",
    "        self.color = color\n",
    "        self.price = price\n",
    "        self.owner = owner\n",
    "\n",
    "    def car_info(self):\n",
    "        print(\"**Car Information**\\n\")\n",
    "        print(\"Name:\",self.name)\n",
    "        print(\"Model:\",self.model)\n",
    "        print(\"Color:\",self.color)\n",
    "        print(\"Price:\", self.price)\n",
    "        print(\"Owner:\", self.owner)\n",
    "\n",
    "taarzan = Car(\"Taarzan\",\"The Wonder Car\",\"Purple\",\"Rs.60000\",\"Raj\")\n",
    "taarzan.car_info()"
   ]
  },
  {
   "cell_type": "markdown",
   "id": "f4c75a95-164b-4480-afbd-2b14d9bb638a",
   "metadata": {},
   "source": [
    "<h3><b>Day 0️⃣9️⃣: Object-Oriented Programming (Part 2)</b></h1>\n",
    "<h5>Date: June 5, 2025"
   ]
  },
  {
   "cell_type": "markdown",
   "id": "3b0073f0-27f1-4376-9dfa-ab973ab318eb",
   "metadata": {},
   "source": [
    "🎯 Challenge\n",
    "- Extend Car into an ElectricCar subclass with battery capacity"
   ]
  },
  {
   "cell_type": "code",
   "execution_count": 24,
   "id": "f536debc-3869-42de-acf9-836524e250e1",
   "metadata": {},
   "outputs": [
    {
     "name": "stdout",
     "output_type": "stream",
     "text": [
      "**Car Information**\n",
      "\n",
      "Name: Tata\n",
      "Model: Nexon EV\n",
      "Color: Black\n",
      "\n",
      "I am an EV, and my battery capacity is: 46.08 kWh\n"
     ]
    }
   ],
   "source": [
    "class Car:\n",
    "    def __init__(self, name, model, color):\n",
    "        self.name = name\n",
    "        self.model = model\n",
    "        self.color = color\n",
    "\n",
    "class ElectricCar(Car):\n",
    "    def __init__(self, name, model, color, battery):\n",
    "        super().__init__(name, model, color)\n",
    "        self.battery = battery\n",
    "        \n",
    "    def battery_info(self):\n",
    "        print(\"\\nI am an EV, and my battery capacity is:\",self.battery,\"kWh\")\n",
    "\n",
    "    def display_info(self):\n",
    "        print(\"**Car Information**\\n\")\n",
    "        print(\"Name:\", self.name)\n",
    "        print(\"Model:\",self.model)\n",
    "        print(\"Color:\",self.color)\n",
    "\n",
    "nexon = ElectricCar(\"Tata\", \"Nexon EV\", \"Black\", 46.08)\n",
    "nexon.display_info()\n",
    "nexon.battery_info()"
   ]
  },
  {
   "cell_type": "markdown",
   "id": "96921120-5de4-40c8-b803-2e0fdf7c543f",
   "metadata": {},
   "source": [
    "<h3><b>Day 1️⃣0️⃣: Exception Handling</b></h1>\n",
    "<h5>Date: June 6, 2025"
   ]
  },
  {
   "cell_type": "markdown",
   "id": "9a5198dd-e668-4e2f-b20a-dbabc8579e77",
   "metadata": {},
   "source": [
    "🎯 Challenge\n",
    "- Read numbers from a file and handle errors gracefully"
   ]
  },
  {
   "cell_type": "code",
   "execution_count": 23,
   "id": "831bbcac-8cbe-4da9-94af-64c7165ce34c",
   "metadata": {},
   "outputs": [
    {
     "name": "stdout",
     "output_type": "stream",
     "text": [
      "Content of the file:\n",
      "\n",
      "Saanp\n",
      "7.5\n",
      "Indian Data Club\n",
      "34\n",
      "-5\n",
      "88\n",
      "\n",
      "Skipping invalid number on line 1: 'Saanp'\n",
      "Skipping invalid number on line 3: 'Indian Data Club'\n",
      "Valid numbers: [7.5, 34.0, -5.0, 88.0]\n"
     ]
    }
   ],
   "source": [
    "def read_numbers_from_file(filename):\n",
    "    numbers = []\n",
    "    try:\n",
    "        with open(filename, 'r') as file:\n",
    "            for line_number, line in enumerate(file, start=1):\n",
    "                try:\n",
    "                    number = float(line.strip())\n",
    "                    numbers.append(number)\n",
    "                except ValueError:\n",
    "                    print(f\"Skipping invalid number on line {line_number}: '{line.strip()}'\")\n",
    "    except FileNotFoundError:\n",
    "        print(f\"Error: The file '{filename}' does not exist.\")\n",
    "    \n",
    "    return numbers\n",
    "\n",
    "filename = \"numbers.txt\"\n",
    "\n",
    "#Reading the content of file\n",
    "f = open(filename)\n",
    "print(\"Content of the file:\\n\")\n",
    "print(f.read())\n",
    "\n",
    "#Reading numbers from the file\n",
    "valid_numbers = read_numbers_from_file(filename)\n",
    "print(\"Valid numbers:\", valid_numbers)\n"
   ]
  },
  {
   "cell_type": "markdown",
   "id": "66480750-848f-4df4-aceb-2d272c9f5cda",
   "metadata": {},
   "source": [
    "<h3><b>Day 1️⃣1️⃣: Working with Dates and Times</b></h1>\n",
    "<h5>Date: June 7, 2025"
   ]
  },
  {
   "cell_type": "markdown",
   "id": "9dfec550-b351-4771-b177-68a27ee02d1f",
   "metadata": {},
   "source": [
    "🎯 Challenge\n",
    "- Calculate the days between two dates"
   ]
  },
  {
   "cell_type": "code",
   "execution_count": 14,
   "id": "5c0171fe-e9ef-4311-8338-fb1ebd58dab3",
   "metadata": {},
   "outputs": [
    {
     "name": "stdout",
     "output_type": "stream",
     "text": [
      "My Birthday: 2002-11-24\n",
      "Current date: 2025-06-08\n",
      "Difference between these two days: 8232 days\n"
     ]
    }
   ],
   "source": [
    "from datetime import date\n",
    "\n",
    "my_birthday = date(2002,11,24)\n",
    "current_date = date.today() #today() returns the current date\n",
    "\n",
    "print(f\"My Birthday: {my_birthday}\")\n",
    "print(f\"Current date: {current_date}\")\n",
    "\n",
    "difference = abs((my_birthday - current_date).days)\n",
    "\n",
    "print(f\"Difference between these two days: {difference} days\")"
   ]
  },
  {
   "cell_type": "markdown",
   "id": "cb69d603-f4eb-4c3c-974d-ea74275816df",
   "metadata": {},
   "source": [
    "<h3><b>Day 1️⃣2️⃣: Regular Expressions</b></h1>\n",
    "<h5>Date: June 8, 2025"
   ]
  },
  {
   "cell_type": "markdown",
   "id": "98bcfe95-d43f-41cb-97f6-c37f2296f4ca",
   "metadata": {},
   "source": [
    "🎯 Challenge\n",
    "- Validate gmail addresses using regex"
   ]
  },
  {
   "cell_type": "code",
   "execution_count": 55,
   "id": "08a4cb3c-4026-464d-b59b-a00f2441751b",
   "metadata": {},
   "outputs": [
    {
     "name": "stdout",
     "output_type": "stream",
     "text": [
      "The text:\n",
      "\n",
      " Hello I am Akif and my email addresss is mohdakif919@gmail.com, nice to meet you.\n",
      "    My friend's email is ironman3000@gmail.com and also my other friend's email is thor@thoringtime.com\n",
      "\n",
      "The email addresses from the above text:\n",
      "\n",
      "['mohdakif919@gmail.com', 'ironman3000@gmail.com', 'thor@thoringtime.com'] \n",
      "\n",
      "The email address 'mohdakif919@gmail.com': Valid\n",
      "The email address 'ironman3000@gmail.com': Valid\n",
      "The email address 'thor@thoringtime.com': Invalid\n"
     ]
    }
   ],
   "source": [
    "import re\n",
    "\n",
    "# Function to extract all email addresses from a given text\n",
    "def email_extract(email):\n",
    "    # General email pattern: matches most standard email formats\n",
    "    pattern = r\"[a-zA-Z0-9._%+-]+@[a-zA-Z0-9.-]+\\.[a-zA-Z]{2,}\"\n",
    "    \n",
    "    # Find all matches in the input string\n",
    "    result = re.findall(pattern, email)\n",
    "\n",
    "    return result\n",
    "\n",
    "# Function to validate if an email is specifically a Gmail address\n",
    "def validate_email(email):\n",
    "    # Pattern restricted to gmail only\n",
    "    pattern = r\"[a-zA-Z0-9._%+-]+@gmail\\.com\"\n",
    "    \n",
    "    # Use re.match to validate if the email matches the pattern\n",
    "    if re.match(pattern, email):\n",
    "        return \"Valid\"\n",
    "    else:\n",
    "        return \"Invalid\"\n",
    "\n",
    "# Multiline text containing multiple email addresses\n",
    "text = '''Hello I am Akif and my email addresss is mohdakif919@gmail.com, nice to meet you.\n",
    "    My friend's email is ironman3000@gmail.com and also my other friend's email is thor@thoringtime.com'''\n",
    "\n",
    "# Display the original text\n",
    "print(\"The text:\\n\\n\", text)\n",
    "\n",
    "# Extract all email addresses from the given text\n",
    "email_container = email_extract(text)\n",
    "\n",
    "# Display the extracted email addresses\n",
    "print(\"\\nThe email addresses from the above text:\\n\")\n",
    "print(email_container, \"\\n\")\n",
    "\n",
    "# Loop through each extracted email address and check if it's a valid Gmail address\n",
    "for gmail_addresses in email_container:\n",
    "    print(f\"The email address '{gmail_addresses}': {validate_email(gmail_addresses)}\")\n"
   ]
  },
  {
   "cell_type": "markdown",
   "id": "c25d2f17-027d-4c80-9875-a1869252d38a",
   "metadata": {},
   "source": [
    "To extract any email addresses: [a-zA-Z0-9._%+-]+@[a-zA-Z0-9.-]+\\.[a-zA-Z]{2,}\n",
    "\n",
    "\n",
    "1. [a-zA-Z0-9._%+-]+@  -> Matches the local part of the email (before the @ symbol). e.g. : mohd.akif@\n",
    "\n",
    "2. [a-zA-Z0-9.-]+  -> This matches the domain name (e.g. gmail, yahoo, sub.domain, abc-xyz123) \n",
    "\n",
    "3. \\.  -> This matches the .(dot) character between the domain and the extension.\n",
    "\n",
    "4. [a-zA-Z]{2,}  -> This matches the top-level domain like .com, .in, .net, .org, etc."
   ]
  },
  {
   "cell_type": "markdown",
   "id": "698f10c7-1ed0-4b6c-93fe-79947764035f",
   "metadata": {},
   "source": [
    "To extract only gmail addresses: [a-zA-Z0-9._%+-]+@gmail\\.com\n",
    "\n",
    "\n",
    "1. [a-zA-Z0-9._%+-]+@  -> Matches the local part of the email (before the @ symbol). e.g. : mohd.akif@\n",
    "\n",
    "2. gmail\\.com  -> Matches the gmail.com part (which is going to be fixed)"
   ]
  },
  {
   "cell_type": "markdown",
   "id": "513e6194-d013-4e7f-bad8-b3874ac2952a",
   "metadata": {},
   "source": [
    "<h3><b>Day 1️⃣3️⃣: Data Structures</b></h1>\n",
    "<h5>Date: June 9, 2025"
   ]
  },
  {
   "cell_type": "markdown",
   "id": "c54de804-9bd5-4936-ad8e-341c0a2642e8",
   "metadata": {},
   "source": [
    "🎯 Challenge\n",
    "- Implement a stack with push, pop, and peek"
   ]
  },
  {
   "cell_type": "code",
   "execution_count": 42,
   "id": "9c19cd05-f043-4b12-96e7-edf959073489",
   "metadata": {},
   "outputs": [
    {
     "name": "stdout",
     "output_type": "stream",
     "text": [
      "50\n",
      "50\n",
      "40\n"
     ]
    }
   ],
   "source": [
    "class stack:\n",
    "    \n",
    "    # Constructor to initialize an empty list to store stack elements\n",
    "    def __init__(self):\n",
    "        self.stack_data = []\n",
    "\n",
    "    # Method to push (add) an element to the top of the stack\n",
    "    def push(self, element):\n",
    "        self.stack_data.append(element)\n",
    "\n",
    "    # Method to pop (remove and return) the top element of the stack\n",
    "    def pop(self):\n",
    "        # If the stack is empty, raise an error\n",
    "        if len(self.stack_data) == 0:\n",
    "            raise IndexError(\"No element is inside the stack\")\n",
    "            \n",
    "        # Remove and return the top element\n",
    "        return self.stack_data.pop()\n",
    "\n",
    "    # Method to peek (view) the top element of the stack without removing it\n",
    "    def peek(self):\n",
    "        # If the stack is empty, raise an error\n",
    "        if len(self.stack_data) == 0:\n",
    "            raise IndexError(\"No element is inside the stack\")\n",
    "            \n",
    "        # Return the top element without removing it\n",
    "        return self.stack_data[-1]\n",
    "\n",
    "# Create a new stack object\n",
    "stack1 = stack()\n",
    "\n",
    "# Push elements onto the stack\n",
    "stack1.push(20)\n",
    "stack1.push(30)\n",
    "stack1.push(40)\n",
    "stack1.push(50)\n",
    "\n",
    "# View the top element (should be 50)\n",
    "print(stack1.peek())  # Output: 50\n",
    "\n",
    "# Pop the top element (removes 50)\n",
    "print(stack1.pop())   # Output: 50\n",
    "\n",
    "# Pop the next top element (removes 40)\n",
    "print(stack1.pop())   # Output: 40\n"
   ]
  },
  {
   "cell_type": "code",
   "execution_count": null,
   "id": "a7c3de09-56b2-48ee-be8d-0a64024c0bb2",
   "metadata": {},
   "outputs": [],
   "source": [
    "list1 = [1,2,3,4,5]\n",
    "list1.append(6) #to push element 6 into [1,2,3,4,5]\n",
    "list1"
   ]
  },
  {
   "cell_type": "code",
   "execution_count": 40,
   "id": "673d5ac0-0d93-4b37-b6c5-040246e4e224",
   "metadata": {},
   "outputs": [
    {
     "data": {
      "text/plain": [
       "[1, 2, 3, 4, 5]"
      ]
     },
     "execution_count": 40,
     "metadata": {},
     "output_type": "execute_result"
    }
   ],
   "source": [
    "list1.pop() # to return and delete the top element, i.e. 6\n",
    "list1"
   ]
  },
  {
   "cell_type": "code",
   "execution_count": 41,
   "id": "e9b9e59c-8183-4520-b215-48d0a7fa09f0",
   "metadata": {},
   "outputs": [
    {
     "data": {
      "text/plain": [
       "5"
      ]
     },
     "execution_count": 41,
     "metadata": {},
     "output_type": "execute_result"
    }
   ],
   "source": [
    "list1[-1]"
   ]
  },
  {
   "cell_type": "code",
   "execution_count": 34,
   "id": "38cdf1e8-8b50-45b6-8c94-8221d2d7143f",
   "metadata": {},
   "outputs": [
    {
     "data": {
      "text/plain": [
       "[1, 2, 3, 4, 5]"
      ]
     },
     "execution_count": 34,
     "metadata": {},
     "output_type": "execute_result"
    }
   ],
   "source": [
    "list1"
   ]
  },
  {
   "cell_type": "markdown",
   "id": "cbe0ed5b-acf6-44e7-8f5a-d1492bc4796d",
   "metadata": {},
   "source": [
    "<h3><b>Day 1️⃣4️⃣: Recursion</b></h1>\n",
    "<h5>Date: June 10, 2025"
   ]
  },
  {
   "cell_type": "markdown",
   "id": "f95af58e-a4e7-4346-a55a-0921cc169895",
   "metadata": {},
   "source": [
    "🎯 Challenge\n",
    "- Calculate factorial recursively"
   ]
  },
  {
   "cell_type": "code",
   "execution_count": 11,
   "id": "deab4500-17a9-450a-858b-9cdc19ad518c",
   "metadata": {},
   "outputs": [
    {
     "name": "stdin",
     "output_type": "stream",
     "text": [
      "Enter the number:  7\n"
     ]
    },
    {
     "name": "stdout",
     "output_type": "stream",
     "text": [
      "Factorial of 7 is: 5040\n"
     ]
    }
   ],
   "source": [
    "def fact(n):\n",
    "    \n",
    "    if n < 0:\n",
    "        raise ValueError(\"Cannot calculate factorial of a negative number\")\n",
    "        \n",
    "    elif n == 0 or n == 1:\n",
    "        return 1\n",
    "        \n",
    "    else:\n",
    "        return n * fact(n - 1)\n",
    "\n",
    "try:\n",
    "    number = int(input(\"Enter the number: \"))\n",
    "    print(f\"Factorial of {number} is: {fact(number)}\")\n",
    "    \n",
    "except ValueError as e:\n",
    "    print(e)\n"
   ]
  },
  {
   "cell_type": "markdown",
   "id": "47a1749b-9617-4e31-83b5-2ee70852381b",
   "metadata": {},
   "source": [
    "n * fact(n-1)\n",
    "\n",
    "1. fact(5)\n",
    "   → not 0 or 1, so go to else:\n",
    "   → return 5 * fact(4)\n",
    "\n",
    "2. fact(4)\n",
    "   → return 4 * fact(3)\n",
    "\n",
    "3. fact(3)\n",
    "   → return 3 * fact(2)\n",
    "\n",
    "4. fact(2)\n",
    "   → return 2 * fact(1)\n",
    "\n",
    "5. fact(1)\n",
    "   → base case → return 1\n",
    "\n",
    "---\n",
    "\n",
    "Now the function starts the calls in reverse order:\n",
    "\n",
    "6. fact(2) → 2 * fact(1) → 2 * 1 = 2\n",
    "\n",
    "7. fact(3) → 3 * fact(2) → 3 * 2 = 6\n",
    "\n",
    "8. fact(4) → 4 * fact(3) → 4 * 6 = 24\n",
    "\n",
    "9. fact(5) → 5 * fact(4) → 5 * 24 = 120"
   ]
  },
  {
   "cell_type": "markdown",
   "id": "003ee9d6-9152-4dbf-b627-d4dc3cc2ace3",
   "metadata": {},
   "source": [
    "<h3><b>Day 1️⃣5️⃣: Decorators</b></h1>\n",
    "<h5>Date: June 11, 2025"
   ]
  },
  {
   "cell_type": "markdown",
   "id": "94ee6257-0951-49c6-abb5-bf218c46a6a1",
   "metadata": {},
   "source": [
    "🎯 Challenge\n",
    "- Create a decorator to log function execution time"
   ]
  },
  {
   "cell_type": "code",
   "execution_count": 71,
   "id": "12650bad-bb68-45db-95b8-7b5dc44b84e4",
   "metadata": {
    "scrolled": true
   },
   "outputs": [
    {
     "name": "stdout",
     "output_type": "stream",
     "text": [
      "fact took 0.0035 miliseconds\n"
     ]
    }
   ],
   "source": [
    "import time\n",
    "\n",
    "def time_calc(func):\n",
    "    \n",
    "    def wrapper(*args, **kwargs):\n",
    "        \n",
    "        start = time.perf_counter()\n",
    "        result = func(*args, **kwargs)\n",
    "        end = time.perf_counter()\n",
    "        print(func.__name__+\" took \" + str(round(((end-start)*1000),4)) + \" miliseconds\")\n",
    "        return result\n",
    "        \n",
    "    return wrapper\n",
    "        \n",
    "@time_calc\n",
    "def fact(n):\n",
    "    if n == 0 or n == 1:\n",
    "        return 1\n",
    "    else:\n",
    "        result = 1\n",
    "        for number in range (n,1,-1):\n",
    "            result *= number\n",
    "\n",
    "fact(5)"
   ]
  },
  {
   "cell_type": "markdown",
   "id": "20e42aa0-d41e-4232-b54f-689dc6408517",
   "metadata": {},
   "source": [
    "<h3><b>Day 1️⃣6️⃣: Generators and Iterators</b></h1>\n",
    "<h5>Date: June 12, 2025"
   ]
  },
  {
   "cell_type": "markdown",
   "id": "5cbc941d-5ea9-45d4-ba7d-9e340f81cad9",
   "metadata": {},
   "source": [
    "🎯 Challenge\n",
    "-  Generate the first n Fibonacci numbers with a generator"
   ]
  },
  {
   "cell_type": "code",
   "execution_count": 20,
   "id": "dc5d509f-23ae-4a9b-b9d9-1dc6c8883958",
   "metadata": {},
   "outputs": [
    {
     "name": "stdin",
     "output_type": "stream",
     "text": [
      "Enter the number: 10\n"
     ]
    },
    {
     "name": "stdout",
     "output_type": "stream",
     "text": [
      "0 1 1 2 3 5 8 13 21 34 "
     ]
    }
   ],
   "source": [
    "def fibo(num):\n",
    "    \n",
    "    increment = 0\n",
    "    a, b = 0, 1\n",
    "    \n",
    "    while increment < num:\n",
    "        \n",
    "        yield a\n",
    "        a, b = b, a+b\n",
    "        \n",
    "        increment += 1\n",
    "\n",
    "num = int(input(\"Enter the number:\"))\n",
    "\n",
    "for i in fibo(num):\n",
    "    print(i, end = \" \")"
   ]
  },
  {
   "cell_type": "markdown",
   "id": "c385fa25-0722-4245-b745-352005e23aa3",
   "metadata": {},
   "source": [
    "<h3><b>Day 1️⃣7️⃣: Context Managers</b></h1>\n",
    "<h5>Date: June 13, 2025"
   ]
  },
  {
   "cell_type": "markdown",
   "id": "ae46e64f-0250-4e54-8bb1-9b301969dd4b",
   "metadata": {},
   "source": [
    "🎯 Challenge\n",
    "-  Build a context manager for safe file handling"
   ]
  },
  {
   "cell_type": "code",
   "execution_count": 32,
   "id": "4b034749-c4cd-4211-9849-0762fe91d35e",
   "metadata": {},
   "outputs": [
    {
     "name": "stdout",
     "output_type": "stream",
     "text": [
      "IDC File is now opened!\n",
      "Hello IDC mates!\n",
      "IDC file is closed!, Thank you for using our service!\n"
     ]
    }
   ],
   "source": [
    "class FileHandling:\n",
    "\n",
    "    def __init__(self, name, mode):\n",
    "        self.name = name\n",
    "        self.mode = mode\n",
    "        \n",
    "    def __enter__(self):\n",
    "        self.file = open(self.name, self.mode)\n",
    "        print(\"IDC File is now opened!\")\n",
    "        return self.file\n",
    "\n",
    "    def __exit__(self, exc_type, exc_val, exc_tb):\n",
    "        self.file.close()\n",
    "        print(\"IDC file is closed!, Thank you for using our service!\")\n",
    "\n",
    "with FileHandling(\"idc.txt\",\"w+\") as f:\n",
    "    f.write(\"Hello IDC mates!\")\n",
    "    f.seek(0)\n",
    "    print(f.read())"
   ]
  },
  {
   "cell_type": "markdown",
   "id": "80903916-7ff9-4fa6-b643-8c6f839814ed",
   "metadata": {},
   "source": [
    "<h3><b>Day 1️⃣8️⃣: Metaclasses</b></h1>\n",
    "<h5>Date: June 14, 2025"
   ]
  },
  {
   "cell_type": "markdown",
   "id": "a137c402-25da-4883-ac7c-7d6612aec43b",
   "metadata": {},
   "source": [
    "🎯 Challenge\n",
    "-  Enforce a naming convention with a metaclass"
   ]
  },
  {
   "cell_type": "code",
   "execution_count": 2,
   "id": "1ad365b0-83dc-4c36-a1b1-930ff9dd3d97",
   "metadata": {},
   "outputs": [
    {
     "ename": "ValueError",
     "evalue": "Attribute 'name' must be in UPPERCASE",
     "output_type": "error",
     "traceback": [
      "\u001b[1;31m---------------------------------------------------------------------------\u001b[0m",
      "\u001b[1;31mValueError\u001b[0m                                Traceback (most recent call last)",
      "Cell \u001b[1;32mIn[2], line 13\u001b[0m\n\u001b[0;32m     10\u001b[0m     AGE \u001b[38;5;241m=\u001b[39m \u001b[38;5;241m0.55\u001b[39m\n\u001b[0;32m     12\u001b[0m \u001b[38;5;66;03m# This will raise an error because of 'name'\u001b[39;00m\n\u001b[1;32m---> 13\u001b[0m \u001b[38;5;28;01mclass\u001b[39;00m \u001b[38;5;21;01mBadClass\u001b[39;00m(metaclass\u001b[38;5;241m=\u001b[39mUpperCase):\n\u001b[0;32m     14\u001b[0m     name \u001b[38;5;241m=\u001b[39m \u001b[38;5;124m\"\u001b[39m\u001b[38;5;124mIDC\u001b[39m\u001b[38;5;124m\"\u001b[39m\n\u001b[0;32m     15\u001b[0m     AGE \u001b[38;5;241m=\u001b[39m \u001b[38;5;241m0.55\u001b[39m\n",
      "Cell \u001b[1;32mIn[2], line 5\u001b[0m, in \u001b[0;36mUpperCase.__new__\u001b[1;34m(cls, name, bases, class_dict)\u001b[0m\n\u001b[0;32m      3\u001b[0m \u001b[38;5;28;01mfor\u001b[39;00m attr_name \u001b[38;5;129;01min\u001b[39;00m class_dict:\n\u001b[0;32m      4\u001b[0m     \u001b[38;5;28;01mif\u001b[39;00m \u001b[38;5;129;01mnot\u001b[39;00m attr_name\u001b[38;5;241m.\u001b[39mstartswith(\u001b[38;5;124m'\u001b[39m\u001b[38;5;124m__\u001b[39m\u001b[38;5;124m'\u001b[39m) \u001b[38;5;129;01mand\u001b[39;00m \u001b[38;5;129;01mnot\u001b[39;00m attr_name\u001b[38;5;241m.\u001b[39misupper():\n\u001b[1;32m----> 5\u001b[0m         \u001b[38;5;28;01mraise\u001b[39;00m \u001b[38;5;167;01mValueError\u001b[39;00m(\u001b[38;5;124mf\u001b[39m\u001b[38;5;124m\"\u001b[39m\u001b[38;5;124mAttribute \u001b[39m\u001b[38;5;124m'\u001b[39m\u001b[38;5;132;01m{\u001b[39;00mattr_name\u001b[38;5;132;01m}\u001b[39;00m\u001b[38;5;124m'\u001b[39m\u001b[38;5;124m must be in UPPERCASE\u001b[39m\u001b[38;5;124m\"\u001b[39m)\n\u001b[0;32m      6\u001b[0m \u001b[38;5;28;01mreturn\u001b[39;00m \u001b[38;5;28msuper\u001b[39m()\u001b[38;5;241m.\u001b[39m\u001b[38;5;21m__new__\u001b[39m(\u001b[38;5;28mcls\u001b[39m, name, bases, class_dict)\n",
      "\u001b[1;31mValueError\u001b[0m: Attribute 'name' must be in UPPERCASE"
     ]
    }
   ],
   "source": [
    "class UpperCase(type):\n",
    "    def __new__(cls, name, bases, class_dict):\n",
    "        for attr_name in class_dict:\n",
    "            if not attr_name.startswith('__') and not attr_name.isupper():\n",
    "                raise ValueError(f\"Attribute '{attr_name}' must be in UPPERCASE\")\n",
    "        return super().__new__(cls, name, bases, class_dict)\n",
    "\n",
    "class GoodClass(metaclass=UpperCase):\n",
    "    NAME = \"IDC\"\n",
    "    AGE = 0.55\n",
    "    \n",
    "# This will raise an error because of 'name'\n",
    "class BadClass(metaclass=UpperCase):\n",
    "    name = \"IDC\"\n",
    "    AGE = 0.55"
   ]
  },
  {
   "cell_type": "markdown",
   "id": "2e92d4aa-58d3-4869-ba87-4fc669cdc0f0",
   "metadata": {},
   "source": [
    "<h3><b>Day 1️⃣9️⃣: Multithreading and Multiprocessing</b></h1>\n",
    "<h5>Date: June 15, 2025"
   ]
  },
  {
   "cell_type": "markdown",
   "id": "f954b37b-b14b-4113-b6ad-e40c7595d470",
   "metadata": {},
   "source": [
    "🎯 Challenge\n",
    "-  Download multiple files concurrently using threads"
   ]
  },
  {
   "cell_type": "code",
   "execution_count": 19,
   "id": "202c0f00-63d8-4079-9b2e-a810af812e86",
   "metadata": {},
   "outputs": [
    {
     "name": "stdout",
     "output_type": "stream",
     "text": [
      "Starting download: marvel-4k-phone-8a3sz1pzi9oprfry.webp\n",
      "Starting download: marvel-4k-phone-1f503uouzlvcqmmm.webp\n",
      "Starting download: marvel-4k-phone-1pfc8c0b0utgpycd.webp\n",
      "Download completed: marvel-4k-phone-8a3sz1pzi9oprfry.webp\n",
      "Download completed: marvel-4k-phone-1f503uouzlvcqmmm.webp\n",
      "Download completed: marvel-4k-phone-1pfc8c0b0utgpycd.webp\n",
      "All downloads completed.\n"
     ]
    }
   ],
   "source": [
    "import threading\n",
    "import requests\n",
    "import os\n",
    "\n",
    "# List of file URLs to download\n",
    "file_urls = [\n",
    "    \"https://wallpapers.com/images/high/marvel-4k-phone-8a3sz1pzi9oprfry.webp\",\n",
    "    \"https://wallpapers.com/images/high/marvel-4k-phone-1f503uouzlvcqmmm.webp\",\n",
    "    \"https://wallpapers.com/images/high/marvel-4k-phone-1pfc8c0b0utgpycd.webp\"\n",
    "]\n",
    "\n",
    "download_folder = r\"C:\\Users\\mohda\\Downloads\"\n",
    "os.makedirs(download_folder, exist_ok=True)\n",
    "\n",
    "# Function to download and save a file\n",
    "def download_file(url):\n",
    "    try:\n",
    "        file_name = url.split(\"/\")[-1]  # Get the file name from URL\n",
    "        file_path = os.path.join(download_folder, file_name)  # Full path\n",
    "\n",
    "        print(f\"Starting download: {file_name}\")\n",
    "        response = requests.get(url)\n",
    "\n",
    "        # Save the file\n",
    "        with open(file_path, \"wb\") as file:\n",
    "            file.write(response.content)\n",
    "            \n",
    "        print(f\"Download completed: {file_name}\")\n",
    "    except Exception as e:\n",
    "        print(f\"Failed to download {url} - {e}\")\n",
    "\n",
    "# Create and start threads\n",
    "threads = []\n",
    "for url in file_urls:\n",
    "    t = threading.Thread(target=download_file, args=(url,))\n",
    "    threads.append(t)\n",
    "    t.start()\n",
    "\n",
    "# Wait for all threads to complete\n",
    "for t in threads:\n",
    "    t.join()\n",
    "\n",
    "print(\"All downloads completed.\")"
   ]
  },
  {
   "cell_type": "markdown",
   "id": "ddddc2ac-4ba7-46c7-b20f-645cd55728e3",
   "metadata": {},
   "source": [
    "<h3><b>Day 2️⃣0️⃣: Networking with Python</b></h1>\n",
    "<h5>Date: June 16, 2025"
   ]
  },
  {
   "cell_type": "markdown",
   "id": "6c09d1c5-0200-470f-bfb1-138d38363864",
   "metadata": {},
   "source": [
    "🎯 Challenge\n",
    "-  Fetch and display a webpage’s content"
   ]
  },
  {
   "cell_type": "code",
   "execution_count": 21,
   "id": "ff82f0fc-5e24-4f6d-8576-c34bee90ff80",
   "metadata": {},
   "outputs": [
    {
     "name": "stdout",
     "output_type": "stream",
     "text": [
      "Webpage saved successfully at:\n",
      "C:\\Users\\mohda\\Downloads\\idc_homepage.html\n"
     ]
    }
   ],
   "source": [
    "import requests\n",
    "import os\n",
    "\n",
    "# URL of the webpage\n",
    "url = 'https://www.indiandataclub.com'\n",
    "output_dir = r\"C:\\Users\\mohda\\Downloads\"\n",
    "\n",
    "# File name\n",
    "filename = 'idc_homepage.html'\n",
    "os.makedirs(output_dir, exist_ok=True)\n",
    "\n",
    "# Full file path\n",
    "file_path = os.path.join(output_dir, filename)\n",
    "\n",
    "# Fetch the webpage\n",
    "response = requests.get(url)\n",
    "\n",
    "# Save the HTML content to the file\n",
    "if response.status_code == 200:\n",
    "    with open(file_path, 'w', encoding='utf-8') as f:\n",
    "        f.write(response.text)\n",
    "    print(f'Webpage saved successfully at:\\n{file_path}')\n",
    "else:\n",
    "    print(f'Failed to fetch webpage. Status code: {response.status_code}')\n"
   ]
  },
  {
   "cell_type": "markdown",
   "id": "6818d939-2afb-47b2-be6c-aea99eceb530",
   "metadata": {},
   "source": [
    "<h3><b>Day 2️⃣1️⃣: Web Scraping</b></h1>\n",
    "<h5>Date: June 17, 2025"
   ]
  },
  {
   "cell_type": "markdown",
   "id": "71327cdc-6284-4e9e-9459-0b4c83507445",
   "metadata": {},
   "source": [
    "🎯 Challenge\n",
    "-  Scrape headlines from a news site"
   ]
  },
  {
   "cell_type": "code",
   "execution_count": 23,
   "id": "7f830330-faea-4c01-8a70-d56471b0544c",
   "metadata": {},
   "outputs": [
    {
     "name": "stdout",
     "output_type": "stream",
     "text": [
      "BBC News Headlines:\n",
      "\n",
      "1. Trump says 'we’re looking at better than a ceasefire' as Iran and Israel exchange more strikes\n",
      "2. What are Trump's options for dealing with Iran?\n",
      "3. What the capsizing and relaunching of a warship tells us about North Korea's regime\n",
      "4. 'I hope you get cancer' -  tennis player Boulter reveals scale of online abuse\n",
      "5. Russia's deadliest attack on Kyiv for months kills 15 and wounds dozens\n",
      "6. What are Trump's options for dealing with Iran?\n",
      "7. Israeli forces kill 51 Palestinians waiting for aid in Gaza, witnesses and rescuers say\n",
      "8. The teen who filmed the Air India crash video the world saw\n",
      "9. BBC Verify Live: New satellite imagery shows damage from attack on Iran missile base\n",
      "10. What the capsizing and relaunching of a warship tells us about North Korea's regime\n"
     ]
    }
   ],
   "source": [
    "import requests\n",
    "from bs4 import BeautifulSoup\n",
    "\n",
    "# BBC News URL\n",
    "url = \"https://www.bbc.com/news\"\n",
    "\n",
    "# Send request\n",
    "response = requests.get(url)\n",
    "\n",
    "# Parse the page content\n",
    "soup = BeautifulSoup(response.text, \"html.parser\")\n",
    "\n",
    "# Find all headlines (h3 and h2 tags)\n",
    "headlines = soup.find_all([\"h2\", \"h3\"])\n",
    "\n",
    "print(\"BBC News Headlines:\\n\")\n",
    "\n",
    "# Print first 10 non-empty headlines\n",
    "count = 0\n",
    "for h in headlines:\n",
    "    text = h.get_text(strip=True)\n",
    "    if text:\n",
    "        count += 1\n",
    "        print(f\"{count}. {text}\")\n",
    "    if count == 10:\n",
    "        break\n"
   ]
  },
  {
   "cell_type": "markdown",
   "id": "416249ff-e04e-46a7-a15b-36bcb22ae574",
   "metadata": {},
   "source": [
    "<h3><b>Day 2️⃣2️⃣: Command-Line Application</b></h1>\n",
    "<h5>Date: June 18, 2025"
   ]
  },
  {
   "cell_type": "markdown",
   "id": "fec844a4-3e0b-441a-ac3b-fc98d2d66064",
   "metadata": {},
   "source": [
    "🎯 Challenge\n",
    "-  Build a temperature converter CLI tool"
   ]
  },
  {
   "cell_type": "code",
   "execution_count": 16,
   "id": "b75b3ee6-7213-49cd-b33d-b6bc3870a60b",
   "metadata": {},
   "outputs": [
    {
     "name": "stdin",
     "output_type": "stream",
     "text": [
      "Enter temperature in Celsius:  39.8\n"
     ]
    },
    {
     "name": "stdout",
     "output_type": "stream",
     "text": [
      "39.8°C is equal to 103.64°F\n"
     ]
    }
   ],
   "source": [
    "import argparse\n",
    "import sys\n",
    "\n",
    "# Ask user for input\n",
    "user_input = input(\"Enter temperature in Celsius: \")\n",
    "\n",
    "# Simulate command-line arguments\n",
    "sys.argv = [\"temp_converter\", user_input]\n",
    "\n",
    "# Setup argparse\n",
    "parser = argparse.ArgumentParser(description=\"Convert Celsius to Fahrenheit\")\n",
    "parser.add_argument(\"celsius\", type=float, help=\"Temperature in Celsius\")\n",
    "args = parser.parse_args()\n",
    "\n",
    "# Conversion logic\n",
    "fahrenheit = (args.celsius * 9/5) + 32\n",
    "print(f\"{args.celsius}°C is equal to {round(fahrenheit, 2)}°F\")"
   ]
  },
  {
   "cell_type": "markdown",
   "id": "4397f92c-7778-4924-b159-a6cadeb86800",
   "metadata": {},
   "source": [
    "<h3><b>Day 2️⃣3️⃣: Building GUIs with Kivy</b></h1>\n",
    "<h5>Date: June 19, 2025"
   ]
  },
  {
   "cell_type": "markdown",
   "id": "ddd8dc00-1054-4902-82d3-901b5b71a64b",
   "metadata": {},
   "source": [
    "🎯 Challenge\n",
    "- Convert the temperature converter CLI tool into a GUI tool"
   ]
  },
  {
   "cell_type": "code",
   "execution_count": null,
   "id": "ee0022c9-f89a-4b5b-861b-c7cd786b7130",
   "metadata": {},
   "outputs": [],
   "source": [
    "from kivy.app import App\n",
    "from kivy.uix.boxlayout import BoxLayout\n",
    "from kivy.uix.label import Label\n",
    "from kivy.uix.textinput import TextInput\n",
    "from kivy.uix.button import Button\n",
    "from kivy.uix.image import Image\n",
    "from kivy.core.window import Window\n",
    "from kivy.graphics import Color, RoundedRectangle\n",
    "import os\n",
    "\n",
    "class RoundedButton(Button):\n",
    "    def __init__(self, **kwargs):\n",
    "        super().__init__(**kwargs)\n",
    "        with self.canvas.before:\n",
    "            self.bg_color = Color(0.1, 0.6, 0.6, 1)\n",
    "            self.bg_rect = RoundedRectangle(pos=self.pos, size=self.size, radius=[12])\n",
    "        self.bind(pos=self.update_rect, size=self.update_rect)\n",
    "\n",
    "    def update_rect(self, *args):\n",
    "        self.bg_rect.pos = self.pos\n",
    "        self.bg_rect.size = self.size\n",
    "\n",
    "class TempConverter(BoxLayout):\n",
    "    def __init__(self, **kwargs):\n",
    "        super().__init__(orientation='vertical', spacing=20, padding=30, **kwargs)\n",
    "\n",
    "        # Font and Window setup\n",
    "        self.font_path = os.path.join(os.getcwd(), \"GoogleSans-Regular.ttf\")\n",
    "        Window.clearcolor = (0.1, 0.12, 0.15, 1)\n",
    "\n",
    "        # Background\n",
    "        with self.canvas.before:\n",
    "            Color(0.1, 0.12, 0.15, 1)\n",
    "            self.bg_rect = RoundedRectangle(pos=self.pos, size=self.size, radius=[20])\n",
    "        self.bind(pos=self.update_rect, size=self.update_rect)\n",
    "\n",
    "        # IDC Logo\n",
    "        self.logo = Image(\n",
    "            source=\"idc_logo.png\",\n",
    "            size_hint=(1, 0.25),\n",
    "            allow_stretch=True,\n",
    "            keep_ratio=True\n",
    "        )\n",
    "\n",
    "        # Header\n",
    "        self.header = Label(\n",
    "            text=\"Indian Data Club (IDC)\",\n",
    "            font_size=22,\n",
    "            font_name=self.font_path,\n",
    "            color=(0.9, 0.9, 0.9, 1),\n",
    "            size_hint=(1, 0.12)\n",
    "        )\n",
    "\n",
    "        # Title\n",
    "        self.title = Label(\n",
    "            text=\"Celsius to Fahrenheit Converter\",\n",
    "            font_size=18,\n",
    "            font_name=self.font_path,\n",
    "            color=(0.8, 0.8, 0.8, 1),\n",
    "            size_hint=(1, 0.1)\n",
    "        )\n",
    "\n",
    "        # Input Field\n",
    "        self.input = TextInput(\n",
    "            hint_text=\"Enter temperature in Celsius\",\n",
    "            multiline=False,\n",
    "            input_filter='float',\n",
    "            font_size=18,\n",
    "            font_name=self.font_path,\n",
    "            background_color=(0.2, 0.2, 0.25, 1),\n",
    "            foreground_color=(1, 1, 1, 1),\n",
    "            cursor_color=(1, 1, 1, 1),\n",
    "            padding_y=(10, 10),\n",
    "            size_hint=(1, 0.15),\n",
    "            background_normal='',\n",
    "            background_active=''\n",
    "        )\n",
    "\n",
    "        # Output Label\n",
    "        self.result_label = Label(\n",
    "            text=\"\",\n",
    "            font_size=20,\n",
    "            font_name=self.font_path,\n",
    "            color=(0.4, 0.7, 1, 1),\n",
    "            size_hint=(1, 0.1)\n",
    "        )\n",
    "\n",
    "        # Convert Button\n",
    "        self.convert_button = RoundedButton(\n",
    "            text=\"Convert\",\n",
    "            font_size=18,\n",
    "            font_name=self.font_path,\n",
    "            size_hint=(1, 0.15),\n",
    "            background_normal='',\n",
    "            background_color=(0, 0, 0, 0),\n",
    "            color=(1, 1, 1, 1)\n",
    "        )\n",
    "        self.convert_button.bind(on_press=self.convert_temp)\n",
    "\n",
    "        # Footer\n",
    "        self.footer = Label(\n",
    "            text=\"Created by Mohd Akif\",\n",
    "            font_size=14,\n",
    "            font_name=self.font_path,\n",
    "            color=(0.6, 0.6, 0.6, 1),\n",
    "            size_hint=(1, 0.1)\n",
    "        )\n",
    "\n",
    "        # Add widgets\n",
    "        self.add_widget(self.logo)\n",
    "        self.add_widget(self.header)\n",
    "        self.add_widget(self.title)\n",
    "        self.add_widget(self.input)\n",
    "        self.add_widget(self.result_label)\n",
    "        self.add_widget(self.convert_button)\n",
    "        self.add_widget(self.footer)\n",
    "\n",
    "    def update_rect(self, *args):\n",
    "        self.bg_rect.pos = self.pos\n",
    "        self.bg_rect.size = self.size\n",
    "\n",
    "    def convert_temp(self, instance):\n",
    "        try:\n",
    "            celsius = float(self.input.text)\n",
    "            fahrenheit = (celsius * 9 / 5) + 32\n",
    "            self.result_label.text = f\"{celsius:.2f}°C = {fahrenheit:.2f}°F\"\n",
    "        except ValueError:\n",
    "            self.result_label.text = \"Please enter a valid number.\"\n",
    "\n",
    "class TempApp(App):\n",
    "    def build(self):\n",
    "        Window.size = (420, 580)\n",
    "        Window.title = \"Temperature Converter\"\n",
    "        return TempConverter()\n",
    "\n",
    "if __name__ == \"__main__\":\n",
    "    TempApp().run()"
   ]
  },
  {
   "cell_type": "markdown",
   "id": "a8758920-52a6-4f82-92f7-b76ea291d998",
   "metadata": {},
   "source": [
    "<h3><b>Day 2️⃣4️⃣: Dataclasses in Python</b></h1>\n",
    "<h5>Date: June 20, 2025"
   ]
  },
  {
   "cell_type": "markdown",
   "id": "8256a3c8-b2a5-42fa-bfec-9525f424ed06",
   "metadata": {},
   "source": [
    "🎯 Challenge\n",
    "-  Create a dataclass to represent a library book with fields for title, author, ISBN, and publication year, including a method to display book details"
   ]
  },
  {
   "cell_type": "code",
   "execution_count": 17,
   "id": "71849189-cb94-413e-8db4-53b51aa57de9",
   "metadata": {},
   "outputs": [
    {
     "name": "stdout",
     "output_type": "stream",
     "text": [
      "Title: HBR’s 10 Must Reads on AI, Analytics, and the New Machine Age\n",
      "Author(s): Harvard Business Review; Michael E. Porter; Thomas H. Davenport; Paul R. Daugherty; H. James Wilson; et al.\n",
      "ISBN: 9781633696846\n",
      "Publication Year: 2019\n"
     ]
    }
   ],
   "source": [
    "from dataclasses import dataclass\n",
    "\n",
    "@dataclass\n",
    "class LibraryBook:\n",
    "    title: str\n",
    "    author: str\n",
    "    isbn: str\n",
    "    publication_year: int\n",
    "\n",
    "    def display_details(self):\n",
    "        print(f\"Title: {self.title}\")\n",
    "        print(f\"Author(s): {self.author}\")\n",
    "        print(f\"ISBN: {self.isbn}\")\n",
    "        print(f\"Publication Year: {self.publication_year}\")\n",
    "\n",
    "# Creating the object\n",
    "book = LibraryBook(\n",
    "    title=\"HBR’s 10 Must Reads on AI, Analytics, and the New Machine Age\",\n",
    "    author=\"Harvard Business Review; Michael E. Porter; Thomas H. Davenport; Paul R. Daugherty; H. James Wilson; et al.\",\n",
    "    isbn=\"9781633696846\",\n",
    "    publication_year=2019\n",
    ")\n",
    "\n",
    "book.display_details()"
   ]
  },
  {
   "cell_type": "markdown",
   "id": "350c70f5-f55a-4f33-ace1-6b5a4ff0cc73",
   "metadata": {},
   "source": [
    "<h3><b>Day 2️⃣5️⃣: Pydantic</b></h1>\n",
    "<h5>Date: June 21, 2025"
   ]
  },
  {
   "cell_type": "markdown",
   "id": "c0e57c43-72a4-4214-86ea-d9dccb4f366f",
   "metadata": {},
   "source": [
    "🎯 Challenge\n",
    "-  Build a Pydantic model for a user profile with fields for name, email, and age, including validation for email format and age range (18–100)"
   ]
  },
  {
   "cell_type": "code",
   "execution_count": 25,
   "id": "7bb78496-5467-4225-9b73-f6b950b6b04b",
   "metadata": {},
   "outputs": [
    {
     "name": "stdout",
     "output_type": "stream",
     "text": [
      "name='Deadpool' email='marvel.jesus@gmail.com' age=32\n"
     ]
    }
   ],
   "source": [
    "from pydantic import BaseModel, EmailStr, field_validator\n",
    "\n",
    "class UserProfile(BaseModel):\n",
    "    name: str\n",
    "    email: EmailStr\n",
    "    age: int\n",
    "\n",
    "    @field_validator('age')\n",
    "    def check_age(cls, value: int) -> int:\n",
    "        if not (18 <= value <= 100):\n",
    "            raise ValueError(\"Age must be between 18 and 100\")\n",
    "        return value\n",
    "\n",
    "# Example usage\n",
    "try:\n",
    "    user = UserProfile(\n",
    "        name=\"Deadpool\",\n",
    "        email=\"marvel.jesus@gmail.com\",\n",
    "        age= 32\n",
    "    )\n",
    "    print(user)\n",
    "except Exception as e:\n",
    "    print(\"Validation error:\", e)"
   ]
  },
  {
   "cell_type": "markdown",
   "id": "01d0ec3c-e0b9-48c7-86d6-4cdedea4c76b",
   "metadata": {},
   "source": [
    "<h3><b>Day 2️⃣6️⃣: Intro to APIs with FastAPI</b></h1>\n",
    "<h5>Date: June 22, 2025"
   ]
  },
  {
   "cell_type": "markdown",
   "id": "8f0880e8-0173-457e-8898-15d7dd769015",
   "metadata": {},
   "source": [
    "🎯 Challenge\n",
    "-  Develop a FastAPI application with endpoints to manage a library of books, including creating, reading, updating, and deleting books"
   ]
  },
  {
   "cell_type": "code",
   "execution_count": 3,
   "id": "dfadc473-3e6f-47bd-a4a1-2aa21827b181",
   "metadata": {},
   "outputs": [],
   "source": [
    "from fastapi import FastAPI, HTTPException\n",
    "from pydantic import BaseModel\n",
    "from typing import List, Optional\n",
    "\n",
    "app = FastAPI()\n",
    "\n",
    "@app.get(\"/\")\n",
    "def home():\n",
    "    return {\"message\": \"Welcome to the Library API! Visit /docs to use the API.\"}\n",
    "\n",
    "# Step 1: Define a Book model\n",
    "class Book(BaseModel):\n",
    "    id: int\n",
    "    title: str\n",
    "    author: str\n",
    "    description: Optional[str] = None\n",
    "\n",
    "# Step 2: Temporary storage (in-memory)\n",
    "books_db: List[Book] = []\n",
    "\n",
    "# Step 3: Create a new book\n",
    "@app.post(\"/books/\", response_model=Book)\n",
    "def create_book(book: Book):\n",
    "    # Check if ID already exists\n",
    "    for b in books_db:\n",
    "        if b.id == book.id:\n",
    "            raise HTTPException(status_code=400, detail=\"Book ID already exists.\")\n",
    "    books_db.append(book)\n",
    "    return book\n",
    "\n",
    "# Step 4: Get all books\n",
    "@app.get(\"/books/\", response_model=List[Book])\n",
    "def get_all_books():\n",
    "    return books_db\n",
    "\n",
    "# Step 5: Get a specific book by ID\n",
    "@app.get(\"/books/{book_id}\", response_model=Book)\n",
    "def get_book(book_id: int):\n",
    "    for book in books_db:\n",
    "        if book.id == book_id:\n",
    "            return book\n",
    "    raise HTTPException(status_code=404, detail=\"Book not found.\")\n",
    "\n",
    "# Step 6: Update a book\n",
    "@app.put(\"/books/{book_id}\", response_model=Book)\n",
    "def update_book(book_id: int, updated_book: Book):\n",
    "    for index, book in enumerate(books_db):\n",
    "        if book.id == book_id:\n",
    "            books_db[index] = updated_book\n",
    "            return updated_book\n",
    "    raise HTTPException(status_code=404, detail=\"Book not found.\")\n",
    "\n",
    "# Step 7: Delete a book\n",
    "@app.delete(\"/books/{book_id}\")\n",
    "def delete_book(book_id: int):\n",
    "    for index, book in enumerate(books_db):\n",
    "        if book.id == book_id:\n",
    "            del books_db[index]\n",
    "            return {\"message\": \"Book deleted successfully\"}\n",
    "    raise HTTPException(status_code=404, detail=\"Book not found.\")"
   ]
  },
  {
   "cell_type": "markdown",
   "id": "87903f5a-adf2-434d-98de-f42a3ea6bac3",
   "metadata": {},
   "source": [
    "<h3><b>Day 2️⃣7️⃣: ORMs & SQLAlchemy</b></h1>\n",
    "<h5>Date: June 23, 2025"
   ]
  },
  {
   "cell_type": "markdown",
   "id": "3bee3a76-5e6b-4fcf-bfde-ea2439eae83f",
   "metadata": {},
   "source": [
    "🎯 Challenge\n",
    "- Use SQLAlchemy in the book management APIs from the previous challenge and store the data in a SQLite database"
   ]
  },
  {
   "cell_type": "code",
   "execution_count": null,
   "id": "b96d12e0-c3a7-4475-b59f-a3acceb9c869",
   "metadata": {},
   "outputs": [],
   "source": [
    "from fastapi import FastAPI, HTTPException, Depends\n",
    "from sqlalchemy import Column, Integer, String, create_engine\n",
    "from sqlalchemy.orm import declarative_base, sessionmaker, Session\n",
    "from pydantic import BaseModel\n",
    "\n",
    "# Database setup\n",
    "DATABASE_URL = \"sqlite:///./books.db\"\n",
    "engine = create_engine(DATABASE_URL, connect_args={\"check_same_thread\": False})\n",
    "SessionLocal = sessionmaker(bind=engine, autocommit=False, autoflush=False)\n",
    "Base = declarative_base()\n",
    "\n",
    "# SQLAlchemy model\n",
    "class Book(Base):\n",
    "    __tablename__ = \"books\"\n",
    "\n",
    "    id = Column(Integer, primary_key=True, index=True)\n",
    "    title = Column(String, nullable=False)\n",
    "    author = Column(String, nullable=False)\n",
    "    description = Column(String)\n",
    "\n",
    "# Create tables\n",
    "Base.metadata.create_all(bind=engine)\n",
    "\n",
    "# Pydantic schemas\n",
    "class BookCreate(BaseModel):\n",
    "    title: str\n",
    "    author: str\n",
    "    description: str\n",
    "\n",
    "class BookResponse(BookCreate):\n",
    "    id: int\n",
    "\n",
    "    class Config:\n",
    "        orm_mode = True\n",
    "\n",
    "# Dependency to get DB session\n",
    "def get_db():\n",
    "    db = SessionLocal()\n",
    "    try:\n",
    "        yield db\n",
    "    finally:\n",
    "        db.close()\n",
    "\n",
    "# FastAPI app\n",
    "app = FastAPI()\n",
    "\n",
    "# Create a book\n",
    "@app.post(\"/books/\", response_model=BookResponse)\n",
    "def create_book(book: BookCreate, db: Session = Depends(get_db)):\n",
    "    new_book = Book(**book.dict())\n",
    "    db.add(new_book)\n",
    "    db.commit()\n",
    "    db.refresh(new_book)\n",
    "    return new_book\n",
    "\n",
    "# Get all books\n",
    "@app.get(\"/books/\", response_model=list[BookResponse])\n",
    "def get_books(db: Session = Depends(get_db)):\n",
    "    return db.query(Book).all()\n",
    "\n",
    "# Get book by ID\n",
    "@app.get(\"/books/{book_id}\", response_model=BookResponse)\n",
    "def get_book(book_id: int, db: Session = Depends(get_db)):\n",
    "    book = db.query(Book).filter(Book.id == book_id).first()\n",
    "    if not book:\n",
    "        raise HTTPException(status_code=404, detail=\"Book not found\")\n",
    "    return book\n",
    "\n",
    "# Update book\n",
    "@app.put(\"/books/{book_id}\", response_model=BookResponse)\n",
    "def update_book(book_id: int, updated: BookCreate, db: Session = Depends(get_db)):\n",
    "    book = db.query(Book).filter(Book.id == book_id).first()\n",
    "    if not book:\n",
    "        raise HTTPException(status_code=404, detail=\"Book not found\")\n",
    "    for key, value in updated.dict().items():\n",
    "        setattr(book, key, value)\n",
    "    db.commit()\n",
    "    db.refresh(book)\n",
    "    return book\n",
    "\n",
    "# Delete book\n",
    "@app.delete(\"/books/{book_id}\")\n",
    "def delete_book(book_id: int, db: Session = Depends(get_db)):\n",
    "    book = db.query(Book).filter(Book.id == book_id).first()\n",
    "    if not book:\n",
    "        raise HTTPException(status_code=404, detail=\"Book not found\")\n",
    "    db.delete(book)\n",
    "    db.commit()\n",
    "    return {\"message\": f\"Book with ID {book_id} deleted successfully\"}"
   ]
  },
  {
   "cell_type": "markdown",
   "id": "6214fef2-4fd7-417c-aee6-2c6380ca64ae",
   "metadata": {},
   "source": [
    "<h3><b>Day 2️⃣8️⃣: Clean Code</b></h1>\n",
    "<h5>Date: June 24, 2025"
   ]
  },
  {
   "cell_type": "markdown",
   "id": "68439d05-7815-40d2-93d2-4f3b9ee4ce85",
   "metadata": {},
   "source": [
    "🎯 Challenge\n",
    "\n",
    " - find the faults in your code (or some opensource code), improve it by applying clean code principles and make it readable (create a PR if doing it for any opensource project)."
   ]
  },
  {
   "cell_type": "code",
   "execution_count": 2,
   "id": "5fa9329f-691f-42e4-b496-aab4c250e3ce",
   "metadata": {},
   "outputs": [
    {
     "name": "stdout",
     "output_type": "stream",
     "text": [
      "               name  age      team\n",
      "0        Tony Stark   48  Avengers\n",
      "1      Steve Rogers  105  Avengers\n",
      "2      Peter Parker   18  Avengers\n",
      "3  Natasha Romanoff   35  Avengers\n",
      "4      Bruce Banner   45  Avengers\n",
      "['name', 'age', 'team']\n",
      "               age\n",
      "count    10.000000\n",
      "mean    139.700000\n",
      "std     303.161875\n",
      "min      18.000000\n",
      "25%      35.250000\n",
      "50%      40.500000\n",
      "75%      47.250000\n",
      "max    1000.000000\n",
      "               name   age        team\n",
      "0        Tony Stark    48    Avengers\n",
      "1      Steve Rogers   105    Avengers\n",
      "3  Natasha Romanoff    35    Avengers\n",
      "4      Bruce Banner    45    Avengers\n",
      "6   Stephen Strange    42   Defenders\n",
      "7          T'Challa    39    Avengers\n",
      "8     Carol Danvers    36    Avengers\n",
      "9              Loki  1000  Asgardians\n"
     ]
    }
   ],
   "source": [
    "import pandas as pd\n",
    "df = pd.read_csv('sample.csv')\n",
    "print(df.head())\n",
    "print(df.columns.tolist())\n",
    "print(df.describe())\n",
    "filtered_df = df[df['age'] > 30]\n",
    "print(filtered_df)\n",
    "filtered_df.to_csv('filtered_output.csv', index=False)"
   ]
  },
  {
   "cell_type": "code",
   "execution_count": 4,
   "id": "db0f8e1f-1805-4c5b-9540-2b938ac6ac3a",
   "metadata": {},
   "outputs": [
    {
     "name": "stdout",
     "output_type": "stream",
     "text": [
      "\n",
      "--- Preview of Data ---\n",
      "               name  age      team\n",
      "0        Tony Stark   48  Avengers\n",
      "1      Steve Rogers  105  Avengers\n",
      "2      Peter Parker   18  Avengers\n",
      "3  Natasha Romanoff   35  Avengers\n",
      "4      Bruce Banner   45  Avengers\n",
      "\n",
      "--- Columns Available ---\n",
      "['name', 'age', 'team']\n",
      "\n",
      "--- Summary Statistics ---\n",
      "               age\n",
      "count    10.000000\n",
      "mean    139.700000\n",
      "std     303.161875\n",
      "min      18.000000\n",
      "25%      35.250000\n",
      "50%      40.500000\n",
      "75%      47.250000\n",
      "max    1000.000000\n",
      "\n",
      "--- Characters older than 30 ---\n",
      "               name   age        team\n",
      "0        Tony Stark    48    Avengers\n",
      "1      Steve Rogers   105    Avengers\n",
      "3  Natasha Romanoff    35    Avengers\n",
      "4      Bruce Banner    45    Avengers\n",
      "6   Stephen Strange    42   Defenders\n",
      "7          T'Challa    39    Avengers\n",
      "8     Carol Danvers    36    Avengers\n",
      "9              Loki  1000  Asgardians\n",
      "\n",
      "[✓] Filtered data saved to 'filtered_output.csv'.\n"
     ]
    }
   ],
   "source": [
    "import pandas as pd\n",
    "import os\n",
    "from typing import Optional\n",
    "\n",
    "\n",
    "def load_marvel_data(file_path: str) -> Optional[pd.DataFrame]:\n",
    "    \"\"\"Load character data from a CSV file if it exists.\"\"\"\n",
    "    if not os.path.exists(file_path):\n",
    "        print(f\"[Error] File not found: {file_path}\")\n",
    "        return None\n",
    "    return pd.read_csv(file_path)\n",
    "\n",
    "\n",
    "def show_dataset_overview(df: pd.DataFrame) -> None:\n",
    "    \"\"\"Display basic information about the dataset.\"\"\"\n",
    "    print(\"\\n--- Preview of Data ---\")\n",
    "    print(df.head())\n",
    "\n",
    "    print(\"\\n--- Columns Available ---\")\n",
    "    print(df.columns.tolist())\n",
    "\n",
    "    print(\"\\n--- Summary Statistics ---\")\n",
    "    print(df.describe())\n",
    "\n",
    "\n",
    "def filter_characters_by_age(df: pd.DataFrame, min_age: int = 30) -> pd.DataFrame:\n",
    "    \"\"\"Return a DataFrame of characters older than the given age.\"\"\"\n",
    "    return df[df['age'] > min_age]\n",
    "\n",
    "\n",
    "def export_filtered_data(df: pd.DataFrame, output_file: str) -> None:\n",
    "    \"\"\"Save the filtered DataFrame to a CSV file.\"\"\"\n",
    "    df.to_csv(output_file, index=False)\n",
    "    print(f\"\\n[✓] Filtered data saved to '{output_file}'.\")\n",
    "\n",
    "\n",
    "def main():\n",
    "    input_file = \"sample.csv\"\n",
    "    output_file = \"filtered_output.csv\"\n",
    "\n",
    "    df = load_marvel_data(input_file)\n",
    "    if df is None:\n",
    "        return\n",
    "\n",
    "    show_dataset_overview(df)\n",
    "\n",
    "    age_limit = 30\n",
    "    filtered_df = filter_characters_by_age(df, min_age=age_limit)\n",
    "\n",
    "    print(f\"\\n--- Characters older than {age_limit} ---\")\n",
    "    print(filtered_df)\n",
    "\n",
    "    export_filtered_data(filtered_df, output_file)\n",
    "\n",
    "\n",
    "if __name__ == \"__main__\":\n",
    "    main()"
   ]
  },
  {
   "cell_type": "markdown",
   "id": "b0070fbd-4431-4518-93d8-f94351387db6",
   "metadata": {},
   "source": [
    "<h3><b>Day 2️⃣9️⃣: Mini-Project</b></h1>\n",
    "<h5>Date: June 25, 2025"
   ]
  },
  {
   "cell_type": "markdown",
   "id": "83bc6f42-c93e-45ac-a014-2a5c4afc1933",
   "metadata": {},
   "source": [
    "<b>Context:</b><br>\n",
    "Pune is one of India’s fastest-growing cities, with thousands of commuters depending daily on PMPML bus services to travel between residential areas, commercial hubs, and industrial zones.\n",
    "Understanding how people use different bus routes, boarding stations, and time slots helps the transport authority optimize resources, reduce overcrowding, and improve passenger convenience.\n",
    "\n",
    "<b>Objective:</b><br>\n",
    "The goal of this project is to analyze passenger usage patterns across major PMPML bus routes in Pune over a two-month period.\n",
    "We will use Python (Pandas, and Matplotlib) to:\n",
    "- Perform data cleaning and preprocessing on raw ridership data.\n",
    "- Identify the most and least used routes, stations, and peak travel times.\n",
    "- Compare weekday vs weekend usage to understand how demand changes.\n",
    "- Visualize trends with clear, insightful charts that can help the transport authority make data-driven decisions."
   ]
  },
  {
   "cell_type": "code",
   "execution_count": 1,
   "id": "439956b6-e403-46fe-b12f-2273c86d2338",
   "metadata": {},
   "outputs": [
    {
     "data": {
      "text/html": [
       "<div>\n",
       "<style scoped>\n",
       "    .dataframe tbody tr th:only-of-type {\n",
       "        vertical-align: middle;\n",
       "    }\n",
       "\n",
       "    .dataframe tbody tr th {\n",
       "        vertical-align: top;\n",
       "    }\n",
       "\n",
       "    .dataframe thead th {\n",
       "        text-align: right;\n",
       "    }\n",
       "</style>\n",
       "<table border=\"1\" class=\"dataframe\">\n",
       "  <thead>\n",
       "    <tr style=\"text-align: right;\">\n",
       "      <th></th>\n",
       "      <th>Date</th>\n",
       "      <th>Route Code</th>\n",
       "      <th>Route</th>\n",
       "      <th>Boarding Station</th>\n",
       "      <th>Passenger Count</th>\n",
       "      <th>Time Slot</th>\n",
       "    </tr>\n",
       "  </thead>\n",
       "  <tbody>\n",
       "    <tr>\n",
       "      <th>0</th>\n",
       "      <td>2024-02-26</td>\n",
       "      <td>R1</td>\n",
       "      <td>Swargate → Hinjewadi</td>\n",
       "      <td>Hinjewadi Phase 3</td>\n",
       "      <td>4</td>\n",
       "      <td>06:00-07:00</td>\n",
       "    </tr>\n",
       "    <tr>\n",
       "      <th>1</th>\n",
       "      <td>2024-02-20</td>\n",
       "      <td>R1</td>\n",
       "      <td>Swargate → Hinjewadi</td>\n",
       "      <td>Karve Nagar</td>\n",
       "      <td>12</td>\n",
       "      <td>06:00-07:00</td>\n",
       "    </tr>\n",
       "    <tr>\n",
       "      <th>2</th>\n",
       "      <td>2024-02-29</td>\n",
       "      <td>R3</td>\n",
       "      <td>Swargate → Hadapsar</td>\n",
       "      <td>Swargate Bus Depot</td>\n",
       "      <td>11</td>\n",
       "      <td>13:00-14:00</td>\n",
       "    </tr>\n",
       "    <tr>\n",
       "      <th>3</th>\n",
       "      <td>2024-02-01</td>\n",
       "      <td>R4</td>\n",
       "      <td>Swargate → Wakad</td>\n",
       "      <td>Hadapsar Gadital</td>\n",
       "      <td>10</td>\n",
       "      <td>18:00-19:00</td>\n",
       "    </tr>\n",
       "    <tr>\n",
       "      <th>4</th>\n",
       "      <td>2024-01-15</td>\n",
       "      <td>R1</td>\n",
       "      <td>Swargate → Hinjewadi</td>\n",
       "      <td>PMC Bus Stand</td>\n",
       "      <td>5</td>\n",
       "      <td>19:00-20:00</td>\n",
       "    </tr>\n",
       "    <tr>\n",
       "      <th>5</th>\n",
       "      <td>2024-02-27</td>\n",
       "      <td>R2</td>\n",
       "      <td>Swargate → Katraj</td>\n",
       "      <td>Wakad Chowk</td>\n",
       "      <td>31</td>\n",
       "      <td>17:00-18:00</td>\n",
       "    </tr>\n",
       "    <tr>\n",
       "      <th>6</th>\n",
       "      <td>2024-02-04</td>\n",
       "      <td>R3</td>\n",
       "      <td>Swargate → Hadapsar</td>\n",
       "      <td>Katraj Zoo</td>\n",
       "      <td>16</td>\n",
       "      <td>13:00-14:00</td>\n",
       "    </tr>\n",
       "    <tr>\n",
       "      <th>7</th>\n",
       "      <td>2024-02-10</td>\n",
       "      <td>R1</td>\n",
       "      <td>Swargate → Hinjewadi</td>\n",
       "      <td>Karve Nagar</td>\n",
       "      <td>41</td>\n",
       "      <td>16:00-17:00</td>\n",
       "    </tr>\n",
       "    <tr>\n",
       "      <th>8</th>\n",
       "      <td>2024-01-20</td>\n",
       "      <td>R5</td>\n",
       "      <td>Swargate → Kothrud</td>\n",
       "      <td>Hinjewadi Phase 3</td>\n",
       "      <td>21</td>\n",
       "      <td>13:00-14:00</td>\n",
       "    </tr>\n",
       "    <tr>\n",
       "      <th>9</th>\n",
       "      <td>2024-01-03</td>\n",
       "      <td>R2</td>\n",
       "      <td>Swargate → Katraj</td>\n",
       "      <td>Kothrud Stand</td>\n",
       "      <td>17</td>\n",
       "      <td>13:00-14:00</td>\n",
       "    </tr>\n",
       "    <tr>\n",
       "      <th>10</th>\n",
       "      <td>2024-02-26</td>\n",
       "      <td>R5</td>\n",
       "      <td>Swargate → Kothrud</td>\n",
       "      <td>Katraj Dairy</td>\n",
       "      <td>20</td>\n",
       "      <td>13:00-14:00</td>\n",
       "    </tr>\n",
       "    <tr>\n",
       "      <th>11</th>\n",
       "      <td>2024-01-16</td>\n",
       "      <td>R1</td>\n",
       "      <td>Swargate → Hinjewadi</td>\n",
       "      <td>Hinjewadi Phase 3</td>\n",
       "      <td>12</td>\n",
       "      <td>19:00-20:00</td>\n",
       "    </tr>\n",
       "    <tr>\n",
       "      <th>12</th>\n",
       "      <td>2024-01-29</td>\n",
       "      <td>R4</td>\n",
       "      <td>Swargate → Wakad</td>\n",
       "      <td>PMC Bus Stand</td>\n",
       "      <td>18</td>\n",
       "      <td>14:00-15:00</td>\n",
       "    </tr>\n",
       "    <tr>\n",
       "      <th>13</th>\n",
       "      <td>2024-01-06</td>\n",
       "      <td>R5</td>\n",
       "      <td>Swargate → Kothrud</td>\n",
       "      <td>Hadapsar Gadital</td>\n",
       "      <td>20</td>\n",
       "      <td>17:00-18:00</td>\n",
       "    </tr>\n",
       "    <tr>\n",
       "      <th>14</th>\n",
       "      <td>2024-01-09</td>\n",
       "      <td>R1</td>\n",
       "      <td>Swargate → Hinjewadi</td>\n",
       "      <td>Hadapsar Gadital</td>\n",
       "      <td>20</td>\n",
       "      <td>09:00-10:00</td>\n",
       "    </tr>\n",
       "    <tr>\n",
       "      <th>15</th>\n",
       "      <td>2024-01-04</td>\n",
       "      <td>R4</td>\n",
       "      <td>Swargate → Wakad</td>\n",
       "      <td>Katraj Zoo</td>\n",
       "      <td>25</td>\n",
       "      <td>09:00-10:00</td>\n",
       "    </tr>\n",
       "    <tr>\n",
       "      <th>16</th>\n",
       "      <td>2024-01-07</td>\n",
       "      <td>R4</td>\n",
       "      <td>Swargate → Wakad</td>\n",
       "      <td>Kothrud Depot</td>\n",
       "      <td>28</td>\n",
       "      <td>17:00-18:00</td>\n",
       "    </tr>\n",
       "    <tr>\n",
       "      <th>17</th>\n",
       "      <td>2024-01-18</td>\n",
       "      <td>R5</td>\n",
       "      <td>Swargate → Kothrud</td>\n",
       "      <td>Wakad Chowk</td>\n",
       "      <td>20</td>\n",
       "      <td>12:00-13:00</td>\n",
       "    </tr>\n",
       "    <tr>\n",
       "      <th>18</th>\n",
       "      <td>2024-01-14</td>\n",
       "      <td>R4</td>\n",
       "      <td>Swargate → Wakad</td>\n",
       "      <td>Wakad Chowk</td>\n",
       "      <td>47</td>\n",
       "      <td>07:00-08:00</td>\n",
       "    </tr>\n",
       "    <tr>\n",
       "      <th>19</th>\n",
       "      <td>2024-02-20</td>\n",
       "      <td>R5</td>\n",
       "      <td>Swargate → Kothrud</td>\n",
       "      <td>Wakad Chowk</td>\n",
       "      <td>19</td>\n",
       "      <td>12:00-13:00</td>\n",
       "    </tr>\n",
       "  </tbody>\n",
       "</table>\n",
       "</div>"
      ],
      "text/plain": [
       "          Date Route Code                 Route    Boarding Station  \\\n",
       "0   2024-02-26         R1  Swargate → Hinjewadi   Hinjewadi Phase 3   \n",
       "1   2024-02-20         R1  Swargate → Hinjewadi         Karve Nagar   \n",
       "2   2024-02-29         R3   Swargate → Hadapsar  Swargate Bus Depot   \n",
       "3   2024-02-01         R4      Swargate → Wakad    Hadapsar Gadital   \n",
       "4   2024-01-15         R1  Swargate → Hinjewadi       PMC Bus Stand   \n",
       "5   2024-02-27         R2     Swargate → Katraj         Wakad Chowk   \n",
       "6   2024-02-04         R3   Swargate → Hadapsar          Katraj Zoo   \n",
       "7   2024-02-10         R1  Swargate → Hinjewadi         Karve Nagar   \n",
       "8   2024-01-20         R5    Swargate → Kothrud   Hinjewadi Phase 3   \n",
       "9   2024-01-03         R2     Swargate → Katraj       Kothrud Stand   \n",
       "10  2024-02-26         R5    Swargate → Kothrud        Katraj Dairy   \n",
       "11  2024-01-16         R1  Swargate → Hinjewadi   Hinjewadi Phase 3   \n",
       "12  2024-01-29         R4      Swargate → Wakad       PMC Bus Stand   \n",
       "13  2024-01-06         R5    Swargate → Kothrud    Hadapsar Gadital   \n",
       "14  2024-01-09         R1  Swargate → Hinjewadi    Hadapsar Gadital   \n",
       "15  2024-01-04         R4      Swargate → Wakad          Katraj Zoo   \n",
       "16  2024-01-07         R4      Swargate → Wakad       Kothrud Depot   \n",
       "17  2024-01-18         R5    Swargate → Kothrud         Wakad Chowk   \n",
       "18  2024-01-14         R4      Swargate → Wakad         Wakad Chowk   \n",
       "19  2024-02-20         R5    Swargate → Kothrud         Wakad Chowk   \n",
       "\n",
       "    Passenger Count    Time Slot  \n",
       "0                 4  06:00-07:00  \n",
       "1                12  06:00-07:00  \n",
       "2                11  13:00-14:00  \n",
       "3                10  18:00-19:00  \n",
       "4                 5  19:00-20:00  \n",
       "5                31  17:00-18:00  \n",
       "6                16  13:00-14:00  \n",
       "7                41  16:00-17:00  \n",
       "8                21  13:00-14:00  \n",
       "9                17  13:00-14:00  \n",
       "10               20  13:00-14:00  \n",
       "11               12  19:00-20:00  \n",
       "12               18  14:00-15:00  \n",
       "13               20  17:00-18:00  \n",
       "14               20  09:00-10:00  \n",
       "15               25  09:00-10:00  \n",
       "16               28  17:00-18:00  \n",
       "17               20  12:00-13:00  \n",
       "18               47  07:00-08:00  \n",
       "19               19  12:00-13:00  "
      ]
     },
     "execution_count": 1,
     "metadata": {},
     "output_type": "execute_result"
    }
   ],
   "source": [
    "import pandas as pd\n",
    "\n",
    "df = pd.read_csv(\"data/pune_transport_usage.csv\", encoding='utf-8-sig')\n",
    "df.head(20)"
   ]
  },
  {
   "cell_type": "code",
   "execution_count": 2,
   "id": "9d102137-ec8e-4a5b-b201-f3214cdac93d",
   "metadata": {},
   "outputs": [
    {
     "name": "stdout",
     "output_type": "stream",
     "text": [
      "<class 'pandas.core.frame.DataFrame'>\n",
      "RangeIndex: 1000 entries, 0 to 999\n",
      "Data columns (total 6 columns):\n",
      " #   Column            Non-Null Count  Dtype \n",
      "---  ------            --------------  ----- \n",
      " 0   Date              1000 non-null   object\n",
      " 1   Route Code        1000 non-null   object\n",
      " 2   Route             1000 non-null   object\n",
      " 3   Boarding Station  1000 non-null   object\n",
      " 4   Passenger Count   1000 non-null   int64 \n",
      " 5   Time Slot         1000 non-null   object\n",
      "dtypes: int64(1), object(5)\n",
      "memory usage: 47.0+ KB\n"
     ]
    }
   ],
   "source": [
    "df.info()"
   ]
  },
  {
   "cell_type": "code",
   "execution_count": 3,
   "id": "f17a7617-9627-4d3d-854e-39f4d184b725",
   "metadata": {},
   "outputs": [
    {
     "data": {
      "text/html": [
       "<div>\n",
       "<style scoped>\n",
       "    .dataframe tbody tr th:only-of-type {\n",
       "        vertical-align: middle;\n",
       "    }\n",
       "\n",
       "    .dataframe tbody tr th {\n",
       "        vertical-align: top;\n",
       "    }\n",
       "\n",
       "    .dataframe thead th {\n",
       "        text-align: right;\n",
       "    }\n",
       "</style>\n",
       "<table border=\"1\" class=\"dataframe\">\n",
       "  <thead>\n",
       "    <tr style=\"text-align: right;\">\n",
       "      <th></th>\n",
       "      <th>Date</th>\n",
       "      <th>Route Code</th>\n",
       "      <th>Route</th>\n",
       "      <th>Boarding Station</th>\n",
       "      <th>Passenger Count</th>\n",
       "      <th>Time Slot</th>\n",
       "      <th>Day Type</th>\n",
       "    </tr>\n",
       "  </thead>\n",
       "  <tbody>\n",
       "    <tr>\n",
       "      <th>0</th>\n",
       "      <td>2024-02-26</td>\n",
       "      <td>R1</td>\n",
       "      <td>Swargate → Hinjewadi</td>\n",
       "      <td>Hinjewadi Phase 3</td>\n",
       "      <td>4</td>\n",
       "      <td>06:00-07:00</td>\n",
       "      <td>Weekday</td>\n",
       "    </tr>\n",
       "    <tr>\n",
       "      <th>1</th>\n",
       "      <td>2024-02-20</td>\n",
       "      <td>R1</td>\n",
       "      <td>Swargate → Hinjewadi</td>\n",
       "      <td>Karve Nagar</td>\n",
       "      <td>12</td>\n",
       "      <td>06:00-07:00</td>\n",
       "      <td>Weekday</td>\n",
       "    </tr>\n",
       "    <tr>\n",
       "      <th>2</th>\n",
       "      <td>2024-02-29</td>\n",
       "      <td>R3</td>\n",
       "      <td>Swargate → Hadapsar</td>\n",
       "      <td>Swargate Bus Depot</td>\n",
       "      <td>11</td>\n",
       "      <td>13:00-14:00</td>\n",
       "      <td>Weekday</td>\n",
       "    </tr>\n",
       "    <tr>\n",
       "      <th>3</th>\n",
       "      <td>2024-02-01</td>\n",
       "      <td>R4</td>\n",
       "      <td>Swargate → Wakad</td>\n",
       "      <td>Hadapsar Gadital</td>\n",
       "      <td>10</td>\n",
       "      <td>18:00-19:00</td>\n",
       "      <td>Weekday</td>\n",
       "    </tr>\n",
       "    <tr>\n",
       "      <th>4</th>\n",
       "      <td>2024-01-15</td>\n",
       "      <td>R1</td>\n",
       "      <td>Swargate → Hinjewadi</td>\n",
       "      <td>PMC Bus Stand</td>\n",
       "      <td>5</td>\n",
       "      <td>19:00-20:00</td>\n",
       "      <td>Weekday</td>\n",
       "    </tr>\n",
       "    <tr>\n",
       "      <th>5</th>\n",
       "      <td>2024-02-27</td>\n",
       "      <td>R2</td>\n",
       "      <td>Swargate → Katraj</td>\n",
       "      <td>Wakad Chowk</td>\n",
       "      <td>31</td>\n",
       "      <td>17:00-18:00</td>\n",
       "      <td>Weekday</td>\n",
       "    </tr>\n",
       "    <tr>\n",
       "      <th>6</th>\n",
       "      <td>2024-02-04</td>\n",
       "      <td>R3</td>\n",
       "      <td>Swargate → Hadapsar</td>\n",
       "      <td>Katraj Zoo</td>\n",
       "      <td>16</td>\n",
       "      <td>13:00-14:00</td>\n",
       "      <td>Weekend</td>\n",
       "    </tr>\n",
       "    <tr>\n",
       "      <th>7</th>\n",
       "      <td>2024-02-10</td>\n",
       "      <td>R1</td>\n",
       "      <td>Swargate → Hinjewadi</td>\n",
       "      <td>Karve Nagar</td>\n",
       "      <td>41</td>\n",
       "      <td>16:00-17:00</td>\n",
       "      <td>Weekend</td>\n",
       "    </tr>\n",
       "    <tr>\n",
       "      <th>8</th>\n",
       "      <td>2024-01-20</td>\n",
       "      <td>R5</td>\n",
       "      <td>Swargate → Kothrud</td>\n",
       "      <td>Hinjewadi Phase 3</td>\n",
       "      <td>21</td>\n",
       "      <td>13:00-14:00</td>\n",
       "      <td>Weekend</td>\n",
       "    </tr>\n",
       "    <tr>\n",
       "      <th>9</th>\n",
       "      <td>2024-01-03</td>\n",
       "      <td>R2</td>\n",
       "      <td>Swargate → Katraj</td>\n",
       "      <td>Kothrud Stand</td>\n",
       "      <td>17</td>\n",
       "      <td>13:00-14:00</td>\n",
       "      <td>Weekday</td>\n",
       "    </tr>\n",
       "  </tbody>\n",
       "</table>\n",
       "</div>"
      ],
      "text/plain": [
       "        Date Route Code                 Route    Boarding Station  \\\n",
       "0 2024-02-26         R1  Swargate → Hinjewadi   Hinjewadi Phase 3   \n",
       "1 2024-02-20         R1  Swargate → Hinjewadi         Karve Nagar   \n",
       "2 2024-02-29         R3   Swargate → Hadapsar  Swargate Bus Depot   \n",
       "3 2024-02-01         R4      Swargate → Wakad    Hadapsar Gadital   \n",
       "4 2024-01-15         R1  Swargate → Hinjewadi       PMC Bus Stand   \n",
       "5 2024-02-27         R2     Swargate → Katraj         Wakad Chowk   \n",
       "6 2024-02-04         R3   Swargate → Hadapsar          Katraj Zoo   \n",
       "7 2024-02-10         R1  Swargate → Hinjewadi         Karve Nagar   \n",
       "8 2024-01-20         R5    Swargate → Kothrud   Hinjewadi Phase 3   \n",
       "9 2024-01-03         R2     Swargate → Katraj       Kothrud Stand   \n",
       "\n",
       "   Passenger Count    Time Slot Day Type  \n",
       "0                4  06:00-07:00  Weekday  \n",
       "1               12  06:00-07:00  Weekday  \n",
       "2               11  13:00-14:00  Weekday  \n",
       "3               10  18:00-19:00  Weekday  \n",
       "4                5  19:00-20:00  Weekday  \n",
       "5               31  17:00-18:00  Weekday  \n",
       "6               16  13:00-14:00  Weekend  \n",
       "7               41  16:00-17:00  Weekend  \n",
       "8               21  13:00-14:00  Weekend  \n",
       "9               17  13:00-14:00  Weekday  "
      ]
     },
     "execution_count": 3,
     "metadata": {},
     "output_type": "execute_result"
    }
   ],
   "source": [
    "#Convert Date column into datetime object\n",
    "df['Date'] = pd.to_datetime(df['Date'])\n",
    "\n",
    "#Fill missing passenger counts with 0\n",
    "df['Passenger Count'] = df['Passenger Count'].fillna(0)\n",
    "\n",
    "#Add Day Type column (Weekday vs Weekend)\n",
    "df['Day Type'] = df['Date'].dt.dayofweek.apply(lambda x: 'Weekend' if x >= 5 else 'Weekday')\n",
    "\n",
    "df.to_csv(\"data/cleaned_pune_transport.csv\", index=False, encoding='utf-8-sig')\n",
    "\n",
    "df.head(10)"
   ]
  },
  {
   "cell_type": "code",
   "execution_count": 4,
   "id": "72ef244f-dccb-48c4-b8ee-11c734931b55",
   "metadata": {},
   "outputs": [
    {
     "name": "stdout",
     "output_type": "stream",
     "text": [
      "---------------Total Passengers-----------------\n",
      "\n",
      "Total Passengers: 22100\n"
     ]
    }
   ],
   "source": [
    "#Total Passengers\n",
    "print(\"---------------Total Passengers-----------------\\n\")\n",
    "total_passengers = df[\"Passenger Count\"].sum() \n",
    "print(\"Total Passengers:\",total_passengers)"
   ]
  },
  {
   "cell_type": "code",
   "execution_count": 5,
   "id": "484d23ed-60c4-403e-9adf-5635f37513cd",
   "metadata": {},
   "outputs": [
    {
     "name": "stdout",
     "output_type": "stream",
     "text": [
      "\n",
      "---------------Top Busiest Route-----------------\n"
     ]
    },
    {
     "data": {
      "text/plain": [
       "Route\n",
       "Swargate → Katraj       4846\n",
       "Swargate → Hadapsar     4580\n",
       "Swargate → Hinjewadi    4286\n",
       "Swargate → Kothrud      4235\n",
       "Swargate → Wakad        4153\n",
       "Name: Passenger Count, dtype: int64"
      ]
     },
     "metadata": {},
     "output_type": "display_data"
    }
   ],
   "source": [
    "#Top routes\n",
    "print(\"\\n---------------Top Busiest Route-----------------\")\n",
    "top_routes = df.groupby(\"Route\")[\"Passenger Count\"].sum().sort_values(ascending = False)\n",
    "display(top_routes)"
   ]
  },
  {
   "cell_type": "code",
   "execution_count": 9,
   "id": "f834727c-3ada-463d-8f08-37674ecce5c3",
   "metadata": {},
   "outputs": [
    {
     "name": "stdout",
     "output_type": "stream",
     "text": [
      "\n",
      "---------------Busiest route by station-----------------\n",
      "                                         Passenger Count\n",
      "Route                Boarding Station                   \n",
      "Swargate → Hadapsar  PMC Bus Stand                   638\n",
      "                     Kothrud Depot                   514\n",
      "                     Katraj Dairy                    455\n",
      "                     Karve Nagar                     427\n",
      "                     Hinjewadi Phase 3               426\n",
      "                     Hinjewadi Phase 1               423\n",
      "                     Wakad Chowk                     423\n",
      "                     Katraj Zoo                      372\n",
      "                     Swargate Bus Depot              348\n",
      "                     Hadapsar Gadital                308\n",
      "                     Kothrud Stand                   246\n",
      "Swargate → Hinjewadi Hadapsar Gadital                634\n",
      "                     Kothrud Stand                   521\n",
      "                     Karve Nagar                     493\n",
      "                     Katraj Dairy                    432\n",
      "                     Hinjewadi Phase 3               423\n",
      "                     Wakad Chowk                     332\n",
      "                     Swargate Bus Depot              330\n",
      "                     Katraj Zoo                      329\n",
      "                     Kothrud Depot                   318\n",
      "                     PMC Bus Stand                   284\n",
      "                     Hinjewadi Phase 1               190\n",
      "Swargate → Katraj    Hinjewadi Phase 1               720\n",
      "                     Swargate Bus Depot              547\n",
      "                     Hadapsar Gadital                537\n",
      "                     Katraj Dairy                    477\n",
      "                     Hinjewadi Phase 3               447\n",
      "                     Wakad Chowk                     436\n",
      "                     Kothrud Depot                   423\n",
      "                     Kothrud Stand                   359\n",
      "                     Katraj Zoo                      341\n",
      "                     Karve Nagar                     291\n",
      "                     PMC Bus Stand                   268\n",
      "Swargate → Kothrud   Swargate Bus Depot              605\n",
      "                     Hinjewadi Phase 3               467\n",
      "                     Katraj Zoo                      450\n",
      "                     Wakad Chowk                     429\n",
      "                     Hinjewadi Phase 1               418\n",
      "                     Katraj Dairy                    388\n",
      "                     Kothrud Stand                   387\n",
      "                     PMC Bus Stand                   316\n",
      "                     Hadapsar Gadital                313\n",
      "                     Karve Nagar                     284\n",
      "                     Kothrud Depot                   178\n",
      "Swargate → Wakad     Kothrud Depot                   760\n",
      "                     PMC Bus Stand                   519\n",
      "                     Katraj Zoo                      482\n",
      "                     Hadapsar Gadital                464\n",
      "                     Hinjewadi Phase 1               345\n",
      "                     Karve Nagar                     337\n",
      "                     Wakad Chowk                     289\n",
      "                     Kothrud Stand                   273\n",
      "                     Swargate Bus Depot              271\n",
      "                     Katraj Dairy                    250\n",
      "                     Hinjewadi Phase 3               163\n"
     ]
    }
   ],
   "source": [
    "#Busiest route by station\n",
    "print(\"\\n---------------Busiest route by station-----------------\")\n",
    "Busiest_route_by_station = pd.pivot_table(df,index = [\"Route\",\"Boarding Station\"], values = \"Passenger Count\", aggfunc = \"sum\")\n",
    "Busiest_route_by_station = (Busiest_route_by_station.groupby(level=0, group_keys=False).apply(lambda x: x.sort_values(\"Passenger Count\", ascending=False)))\n",
    "print(Busiest_route_by_station)"
   ]
  },
  {
   "cell_type": "code",
   "execution_count": 10,
   "id": "b42d39e1-2b02-4095-9cdd-8076b11964c0",
   "metadata": {},
   "outputs": [
    {
     "name": "stdout",
     "output_type": "stream",
     "text": [
      "\n",
      "---------------Busiest stations-----------------\n",
      "Boarding Station\n",
      "Hadapsar Gadital      2256\n",
      "Kothrud Depot         2193\n",
      "Swargate Bus Depot    2101\n",
      "Hinjewadi Phase 1     2096\n",
      "PMC Bus Stand         2025\n",
      "Katraj Dairy          2002\n",
      "Katraj Zoo            1974\n",
      "Hinjewadi Phase 3     1926\n",
      "Wakad Chowk           1909\n",
      "Karve Nagar           1832\n",
      "Kothrud Stand         1786\n",
      "Name: Passenger Count, dtype: int64\n"
     ]
    }
   ],
   "source": [
    "#Busiest stations\n",
    "print(\"\\n---------------Busiest stations-----------------\")\n",
    "Busiest_stations = df.groupby(\"Boarding Station\")[\"Passenger Count\"].sum().sort_values(ascending = False)\n",
    "print(Busiest_stations)"
   ]
  },
  {
   "cell_type": "code",
   "execution_count": 11,
   "id": "fc23494f-93cf-4844-a9bb-0f9d421953fb",
   "metadata": {},
   "outputs": [
    {
     "name": "stdout",
     "output_type": "stream",
     "text": [
      "\n",
      "---------------Busiest station by route-----------------\n",
      "                                         Passenger Count\n",
      "Boarding Station   Route                                \n",
      "Hadapsar Gadital   Swargate → Hinjewadi              634\n",
      "                   Swargate → Katraj                 537\n",
      "                   Swargate → Wakad                  464\n",
      "                   Swargate → Kothrud                313\n",
      "                   Swargate → Hadapsar               308\n",
      "Hinjewadi Phase 1  Swargate → Katraj                 720\n",
      "                   Swargate → Hadapsar               423\n",
      "                   Swargate → Kothrud                418\n",
      "                   Swargate → Wakad                  345\n",
      "                   Swargate → Hinjewadi              190\n",
      "Hinjewadi Phase 3  Swargate → Kothrud                467\n",
      "                   Swargate → Katraj                 447\n",
      "                   Swargate → Hadapsar               426\n",
      "                   Swargate → Hinjewadi              423\n",
      "                   Swargate → Wakad                  163\n",
      "Karve Nagar        Swargate → Hinjewadi              493\n",
      "                   Swargate → Hadapsar               427\n",
      "                   Swargate → Wakad                  337\n",
      "                   Swargate → Katraj                 291\n",
      "                   Swargate → Kothrud                284\n",
      "Katraj Dairy       Swargate → Katraj                 477\n",
      "                   Swargate → Hadapsar               455\n",
      "                   Swargate → Hinjewadi              432\n",
      "                   Swargate → Kothrud                388\n",
      "                   Swargate → Wakad                  250\n",
      "Katraj Zoo         Swargate → Wakad                  482\n",
      "                   Swargate → Kothrud                450\n",
      "                   Swargate → Hadapsar               372\n",
      "                   Swargate → Katraj                 341\n",
      "                   Swargate → Hinjewadi              329\n",
      "Kothrud Depot      Swargate → Wakad                  760\n",
      "                   Swargate → Hadapsar               514\n",
      "                   Swargate → Katraj                 423\n",
      "                   Swargate → Hinjewadi              318\n",
      "                   Swargate → Kothrud                178\n",
      "Kothrud Stand      Swargate → Hinjewadi              521\n",
      "                   Swargate → Kothrud                387\n",
      "                   Swargate → Katraj                 359\n",
      "                   Swargate → Wakad                  273\n",
      "                   Swargate → Hadapsar               246\n",
      "PMC Bus Stand      Swargate → Hadapsar               638\n",
      "                   Swargate → Wakad                  519\n",
      "                   Swargate → Kothrud                316\n",
      "                   Swargate → Hinjewadi              284\n",
      "                   Swargate → Katraj                 268\n",
      "Swargate Bus Depot Swargate → Kothrud                605\n",
      "                   Swargate → Katraj                 547\n",
      "                   Swargate → Hadapsar               348\n",
      "                   Swargate → Hinjewadi              330\n",
      "                   Swargate → Wakad                  271\n",
      "Wakad Chowk        Swargate → Katraj                 436\n",
      "                   Swargate → Kothrud                429\n",
      "                   Swargate → Hadapsar               423\n",
      "                   Swargate → Hinjewadi              332\n",
      "                   Swargate → Wakad                  289\n"
     ]
    }
   ],
   "source": [
    "#Busiest station by route\n",
    "print(\"\\n---------------Busiest station by route-----------------\")\n",
    "Busiest_stations_by_route = pd.pivot_table(df,index = [\"Boarding Station\",\"Route\"], values = \"Passenger Count\", aggfunc = \"sum\")\n",
    "Busiest_stations_by_route = (Busiest_stations_by_route.groupby(level=0, group_keys=False).apply(lambda x: x.sort_values(\"Passenger Count\", ascending=False)))\n",
    "print(Busiest_stations_by_route)"
   ]
  },
  {
   "cell_type": "code",
   "execution_count": 13,
   "id": "235784ad-6780-4110-9031-89fb751d2004",
   "metadata": {},
   "outputs": [
    {
     "name": "stdout",
     "output_type": "stream",
     "text": [
      "\n",
      "---------------Peak time slots-----------------\n",
      "Time Slot\n",
      "06:00-07:00     683\n",
      "07:00-08:00    2215\n",
      "08:00-09:00    2231\n",
      "09:00-10:00    1458\n",
      "10:00-11:00    1262\n",
      "11:00-12:00    1385\n",
      "12:00-13:00    1316\n",
      "13:00-14:00    1531\n",
      "14:00-15:00    1480\n",
      "15:00-16:00    1640\n",
      "16:00-17:00    2709\n",
      "17:00-18:00    2664\n",
      "18:00-19:00     825\n",
      "19:00-20:00     701\n",
      "Name: Passenger Count, dtype: int64\n"
     ]
    }
   ],
   "source": [
    "#Peak time slots\n",
    "print(\"\\n---------------Peak time slots-----------------\")\n",
    "peak_time_slots = df.groupby(\"Time Slot\")[\"Passenger Count\"].sum()\n",
    "print(peak_time_slots)"
   ]
  },
  {
   "cell_type": "code",
   "execution_count": 14,
   "id": "5a3e51e8-5766-4dbc-9171-6dbefcddd699",
   "metadata": {},
   "outputs": [
    {
     "name": "stdout",
     "output_type": "stream",
     "text": [
      "\n",
      "---------------Weekend vs Weekday-----------------\n",
      "Day Type\n",
      "Weekday    16373\n",
      "Weekend     5727\n",
      "Name: Passenger Count, dtype: int64\n"
     ]
    }
   ],
   "source": [
    "#Weekend vs Weekday\n",
    "print(\"\\n---------------Weekend vs Weekday-----------------\")\n",
    "day_type = df.groupby(\"Day Type\")[\"Passenger Count\"].sum().sort_values(ascending = False)\n",
    "print(day_type)"
   ]
  },
  {
   "cell_type": "code",
   "execution_count": 16,
   "id": "fb11cc02-cbfa-439c-bd24-80667cb6d16c",
   "metadata": {},
   "outputs": [
    {
     "data": {
      "image/png": "[encoded data removed]",
      "text/plain": [
       "<Figure size 500x400 with 1 Axes>"
      ]
     },
     "metadata": {},
     "output_type": "display_data"
    }
   ],
   "source": [
    "import matplotlib.pyplot as plt\n",
    "\n",
    "# Passengers by Route\n",
    "plt.figure(figsize=(5,4))\n",
    "top_routes.plot(kind='bar', color='skyblue')\n",
    "plt.title(\"Passengers by Route\")\n",
    "plt.ylabel(\"Total Passengers\")\n",
    "plt.xticks(rotation=45)\n",
    "plt.tight_layout()\n",
    "plt.savefig(\"data/plots/passengers_by_route.png\")\n",
    "plt.show()"
   ]
  },
  {
   "cell_type": "code",
   "execution_count": 19,
   "id": "42936944-ee9f-4f6e-98ee-8f0d12658114",
   "metadata": {},
   "outputs": [
    {
     "data": {
      "image/png": "[encoded data removed]",
      "text/plain": [
       "<Figure size 500x400 with 1 Axes>"
      ]
     },
     "metadata": {},
     "output_type": "display_data"
    }
   ],
   "source": [
    "# Passengers by Time Slot\n",
    "plt.figure(figsize=(5,4))\n",
    "peak_time_slots.plot(kind='bar', color='coral')\n",
    "plt.title(\"Passengers by Time Slot\")\n",
    "plt.ylabel(\"Total Passengers\")\n",
    "plt.xticks(rotation=45)\n",
    "plt.tight_layout()\n",
    "plt.savefig(\"data/plots/passengers_by_timeslot.png\")\n",
    "plt.show()"
   ]
  },
  {
   "cell_type": "code",
   "execution_count": 17,
   "id": "2efc5c5d-4a4e-4fc9-85ac-539a5804d82b",
   "metadata": {},
   "outputs": [
    {
     "data": {
      "image/png": "[encoded data removed]",
      "text/plain": [
       "<Figure size 500x400 with 1 Axes>"
      ]
     },
     "metadata": {},
     "output_type": "display_data"
    }
   ],
   "source": [
    "# Weekday vs Weekend\n",
    "plt.figure(figsize=(5,4))\n",
    "day_type.plot(kind='pie', autopct='%1.1f%%', startangle=90)\n",
    "plt.title(\"Weekday vs Weekend Usage\")\n",
    "plt.ylabel('')\n",
    "plt.tight_layout()\n",
    "plt.savefig(\"data/plots/weekday_vs_weekend.png\")\n",
    "plt.show()"
   ]
  },
  {
   "cell_type": "markdown",
   "id": "7c7322f3-aac2-40f3-8afd-ee6761433f96",
   "metadata": {},
   "source": [
    "## ✅ **Key Insights**\n",
    "\n",
    "### 1. **Top Busiest Routes**\n",
    "\n",
    "* **Swargate → Katraj** is the busiest route with **4,846** passengers.\n",
    "* The top 5 routes (all starting at Swargate) contribute significantly to the total ridership, indicating Swargate’s role as a major hub.\n",
    "* Routes to **Hadapsar**, **Hinjewadi**, **Kothrud**, and **Wakad** are next in line.\n",
    "\n",
    "➡️ **Interpretation:** Swargate is the central interchange for commuters traveling to major residential, commercial, and IT hubs.\n",
    "\n",
    "---\n",
    "\n",
    "### 2. **Busiest Stations**\n",
    "\n",
    "* **Hadapsar Gadital**, **Kothrud Depot**, **Swargate Bus Depot**, and **Hinjewadi Phase 1** are the top boarding stations (>2000 passengers each).\n",
    "* These stops are likely near large residential or employment clusters.\n",
    "* Some stations like **PMC Bus Stand**, **Katraj Dairy**, and **Katraj Zoo** also see high footfall.\n",
    "\n",
    "➡️ **Interpretation:** Key stations are a mix of major terminals, depots, and feeder stops to IT parks and residential pockets.\n",
    "\n",
    "---\n",
    "\n",
    "### 3. **Station vs Route Combinations**\n",
    "\n",
    "* Some stations serve as major boarding points across multiple routes.\n",
    "  For example:\n",
    "\n",
    "  * **Hadapsar Gadital** is busy for **Swargate → Hinjewadi**, **Swargate → Katraj**, **Swargate → Wakad**.\n",
    "  * **Hinjewadi Phase 1** and **Hinjewadi Phase 3** serve multiple routes, showing the tech park influence.\n",
    "  * **Kothrud Depot** is the busiest single station for the **Swargate → Wakad** route.\n",
    "\n",
    "➡️ **Interpretation:** These multi-route boarding stations could be bottlenecks during peak hours.\n",
    "\n",
    "---\n",
    "\n",
    "### 4. **Peak Travel Times**\n",
    "\n",
    "* Highest demand is from **07:00-10:00** and **16:00-18:00**, aligning with typical office and school timings.\n",
    "* Extreme peak is **16:00-18:00**, with over **5,000+** passengers.\n",
    "* Demand drops sharply after 19:00.\n",
    "\n",
    "➡️ **Interpretation:** There is a clear weekday commuter rush, especially in the evenings.\n",
    "\n",
    "---\n",
    "\n",
    "### 5. **Weekday vs Weekend**\n",
    "\n",
    "* Weekdays account for **74%** of ridership.\n",
    "* Weekends see significantly lower usage, about **26%**.\n",
    "\n",
    "➡️ **Interpretation:** This indicates that PMPML services primarily cater to office workers and students.\n"
   ]
  },
  {
   "cell_type": "markdown",
   "id": "64c26a5b-dea0-434d-9759-e94619abaec9",
   "metadata": {},
   "source": [
    "## ✅ **Recommendations**\n",
    "\n",
    "### 1. **Optimize High-Demand Routes**\n",
    "\n",
    "* Increase bus frequency on the **Swargate → Katraj**, **Swargate → Hadapsar**, and **Swargate → Hinjewadi** routes during peak hours.\n",
    "* Consider express or limited-stop services on these routes during rush hours to reduce travel time.\n",
    "\n",
    "---\n",
    "\n",
    "### 2. **Reduce Overcrowding at Busy Stations**\n",
    "\n",
    "* Deploy additional buses or larger capacity buses at boarding hotspots like **Hadapsar Gadital**, **Hinjewadi Phase 1**, **Swargate Bus Depot**, and **Kothrud Depot** during peak slots.\n",
    "* Improve queuing systems and crowd management at these major terminals.\n",
    "\n",
    "---\n",
    "\n",
    "### 3. **Stagger Peak Load**\n",
    "\n",
    "* Work with large employers in Hinjewadi, Hadapsar, and Kothrud areas to encourage staggered work timings."
   ]
  },
  {
   "cell_type": "code",
   "execution_count": null,
   "id": "49bffd72-06e5-49e6-9a95-9c4560a26c61",
   "metadata": {},
   "outputs": [],
   "source": []
  }
 ],
 "metadata": {
  "kernelspec": {
   "display_name": "Python [conda env:base] *",
   "language": "python",
   "name": "conda-base-py"
  },
  "language_info": {
   "codemirror_mode": {
    "name": "ipython",
    "version": 3
   },
   "file_extension": ".py",
   "mimetype": "text/x-python",
   "name": "python",
   "nbconvert_exporter": "python",
   "pygments_lexer": "ipython3",
   "version": "3.12.7"
  }
 },
 "nbformat": 4,
 "nbformat_minor": 5
}
