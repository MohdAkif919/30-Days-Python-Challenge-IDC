{
 "cells": [
  {
   "cell_type": "markdown",
   "id": "3f4411bd-3e6a-402b-b167-c73561a1cce3",
   "metadata": {},
   "source": [
    "<H3><CENTER>INDIAN DATA CLUB (IDC)"
   ]
  },
  {
   "cell_type": "markdown",
   "id": "340b73b5-6d2a-427f-9252-4d63754c106d",
   "metadata": {},
   "source": [
    "<h1>#30DaysOfPython 🐍"
   ]
  },
  {
   "cell_type": "markdown",
   "id": "97ad62f5-6ab1-44c5-a365-d14afd13a9f9",
   "metadata": {},
   "source": [
    "<h3><b>Day 0️⃣1️⃣: Introduction to Python</b></h1>\n",
    "<h5>Date: May 28, 2025"
   ]
  },
  {
   "cell_type": "markdown",
   "id": "124d2791-9462-49cd-b2e6-a143d9a3c0ad",
   "metadata": {},
   "source": [
    "🎯 Challenge\n",
    "- Write a program that prints \"Hello, World!\" followed by your name"
   ]
  },
  {
   "cell_type": "code",
   "execution_count": 15,
   "id": "d6c8dc47-7067-4acb-803d-9562e2bc25f3",
   "metadata": {},
   "outputs": [
    {
     "name": "stdout",
     "output_type": "stream",
     "text": [
      "Hello, World!\n",
      "I am Mohd Akif\n",
      "I am very excited for 30 days Python challenge\n",
      "Looking forward to rock!\n"
     ]
    }
   ],
   "source": [
    "# Approach 1: Using print() function\n",
    "print(\"Hello, World!\\nI am Mohd Akif\\nI am very excited for 30 days Python challenge\\nLooking forward to rock!\")"
   ]
  },
  {
   "cell_type": "code",
   "execution_count": 26,
   "id": "4e73dcf8-ba20-4006-a10f-97deece913b0",
   "metadata": {},
   "outputs": [
    {
     "name": "stdin",
     "output_type": "stream",
     "text": [
      "Aapka naam kya hai? : Mohd Akif\n"
     ]
    },
    {
     "name": "stdout",
     "output_type": "stream",
     "text": [
      "\n",
      "Hello, World!\n",
      "I am Mohd Akif \n",
      "I am very excited for 30 days Python challenge\n",
      "Looking forward to rock!\n"
     ]
    }
   ],
   "source": [
    "# Approach 2: Using input() function\n",
    "name = input(\"Aapka naam kya hai? :\") #input() function takes input from the user\n",
    "print(\"\\nHello, World!\\nI am\", name, \"\\nI am very excited for 30 days Python challenge\\nLooking forward to rock!\")"
   ]
  },
  {
   "cell_type": "markdown",
   "id": "928e3c01-5e4b-4f10-9c9d-388ad8c6a573",
   "metadata": {},
   "source": [
    "<h3><b>Day 0️⃣2️⃣: Variables and Data Types</b></h1>\n",
    "<h5>Date: May 29, 2025"
   ]
  },
  {
   "cell_type": "markdown",
   "id": "482e9e36-52e2-4567-b4f4-18bb8b892465",
   "metadata": {},
   "source": [
    "🎯 Challenge\n",
    "- Calculate the area of a rectangle using user-input length and width"
   ]
  },
  {
   "cell_type": "code",
   "execution_count": 14,
   "id": "fd3daa1d-9837-494d-b817-f2f71b39ff28",
   "metadata": {},
   "outputs": [
    {
     "name": "stdin",
     "output_type": "stream",
     "text": [
      "Enter the length: 1.3\n",
      "Enter the width: 2.6\n"
     ]
    },
    {
     "name": "stdout",
     "output_type": "stream",
     "text": [
      "Area of rectangle: 3.3800000000000003\n"
     ]
    }
   ],
   "source": [
    "length = float(input(\"Enter the length:\"))\n",
    "width = float(input(\"Enter the width:\"))\n",
    "print(\"Area of rectangle:\", length*width)"
   ]
  },
  {
   "cell_type": "markdown",
   "id": "0baa7761-e258-49d6-a29f-822bfb0b9e81",
   "metadata": {},
   "source": [
    "<h3><b>Day 0️⃣3️⃣: Lists, Tuples, and Dictionaries</b></h1>\n",
    "<h5>Date: May 30, 2025"
   ]
  },
  {
   "cell_type": "markdown",
   "id": "2497932f-d306-4fd4-9a56-e2f29b829960",
   "metadata": {},
   "source": [
    "🎯 Challenge\n",
    "- Create an inventory system tracking items and quantities with a dictionary"
   ]
  },
  {
   "cell_type": "code",
   "execution_count": 1,
   "id": "0fb93104-b92d-4ac8-a465-1cff643da9b5",
   "metadata": {},
   "outputs": [
    {
     "name": "stdout",
     "output_type": "stream",
     "text": [
      "*** Welcome to IDC Sabzi Wala ***\n",
      "\n",
      "Stock availability:\n",
      "\n",
      "1. Aloo (Potato): 5 kg\n",
      "2. Dhaniya (Coriander): 10 kg\n",
      "3. Karela (Balsam Pear): 0 kg\n",
      "4. Bayegan (Brinjal): 8 kg\n",
      "5. Paalak (Spinach): 3 kg\n"
     ]
    },
    {
     "name": "stdin",
     "output_type": "stream",
     "text": [
      "\n",
      "Enter between 1-5 to place your order:  5\n",
      "Enter the quantity of paalak you want to purchase (in kg):  5\n"
     ]
    },
    {
     "name": "stdout",
     "output_type": "stream",
     "text": [
      "\n",
      "Sorry, only 3 kg of paalak is available.\n",
      "\n",
      "Updated Stock:\n",
      "\n",
      "Aloo: 5 kg\n",
      "Dhaniya: 10 kg\n",
      "Karela: 0 kg\n",
      "Bayegan: 8 kg\n",
      "Paalak: 3 kg\n"
     ]
    }
   ],
   "source": [
    "sabzi = {\"aloo\": 5, \"dhaniya\": 10, \"karela\": 0, \"bayegan\": 8, \"paalak\": 3}\n",
    "\n",
    "# Mapping order_id to sabzi keys\n",
    "sabzi_menu = {1: \"aloo\", 2: \"dhaniya\", 3: \"karela\", 4: \"bayegan\", 5: \"paalak\"}\n",
    "\n",
    "print(\"*** Welcome to IDC Sabzi Wala ***\\n\")\n",
    "\n",
    "print(\"Stock availability:\\n\")\n",
    "print(\"1. Aloo (Potato):\", sabzi[\"aloo\"], \"kg\")\n",
    "print(\"2. Dhaniya (Coriander):\", sabzi[\"dhaniya\"], \"kg\")\n",
    "print(\"3. Karela (Balsam Pear):\", sabzi[\"karela\"], \"kg\")\n",
    "print(\"4. Bayegan (Brinjal):\", sabzi[\"bayegan\"], \"kg\")\n",
    "print(\"5. Paalak (Spinach):\", sabzi[\"paalak\"], \"kg\")\n",
    "\n",
    "order_id = int(input(\"\\nEnter between 1-5 to place your order: \")) #1\n",
    "\n",
    "if (order_id < 1) or (order_id > 5):\n",
    "    print(\"\\nPlease enter a correct order number (1-5)!\")\n",
    "else:\n",
    "    selected_item = sabzi_menu[order_id] #aloo\n",
    "    quantity = int(input(f\"Enter the quantity of {selected_item} you want to purchase (in kg): \")) #3\n",
    "\n",
    "    if quantity <= sabzi[selected_item]: #aloo ; 3 <= 5\n",
    "        sabzi[selected_item] -= quantity # 2\n",
    "        print(f\"\\nOrder successful! You bought {quantity} kg of {selected_item}.\")\n",
    "    else:\n",
    "        print(f\"\\nSorry, only {sabzi[selected_item]} kg of {selected_item} is available.\")\n",
    "\n",
    "# Print updated stock\n",
    "print(\"\\nUpdated Stock:\\n\")\n",
    "for item, stock in sabzi.items():\n",
    "    print(f\"{item.capitalize()}: {stock} kg\")\n"
   ]
  },
  {
   "cell_type": "markdown",
   "id": "a8a8fe3e-5aba-481a-826b-fb8f32cb1a63",
   "metadata": {},
   "source": [
    "<h3><b>Day 0️⃣4️⃣: Control Structures</b></h1>\n",
    "<h5>Date: May 31, 2025"
   ]
  },
  {
   "cell_type": "markdown",
   "id": "a75db35e-fdeb-4e07-a909-0141e3b99b7b",
   "metadata": {},
   "source": [
    "🎯 Challenge\n",
    "- Check if a user-entered number is prime"
   ]
  },
  {
   "cell_type": "code",
   "execution_count": 2,
   "id": "efd00e1d-85dd-4537-8594-ece365001fbb",
   "metadata": {},
   "outputs": [
    {
     "name": "stdin",
     "output_type": "stream",
     "text": [
      "Enter the number: 5\n"
     ]
    },
    {
     "name": "stdout",
     "output_type": "stream",
     "text": [
      "5 is a prime number\n"
     ]
    }
   ],
   "source": [
    "number = int(input(\"Enter the number:\")) #number = 4\n",
    "\n",
    "count = 0 #3\n",
    "\n",
    "if number <= 1:\n",
    "    print(f\"{number} is neither prime nor composite\")\n",
    "else:\n",
    "    for i in range (1, number+1): #1, 2, 3, 4\n",
    "        if number % i == 0:\n",
    "            count+=1\n",
    "    if count > 2:\n",
    "        print(f\"{number} is a composite number\")\n",
    "    else:\n",
    "        print(f\"{number} is a prime number\")"
   ]
  },
  {
   "cell_type": "markdown",
   "id": "5cd3a1d5-dec1-4a42-9773-b8937b8f8563",
   "metadata": {},
   "source": [
    "<h3><b>Day 0️⃣5️⃣: Functions</b></h1>\n",
    "<h5>Date: June 1, 2025"
   ]
  },
  {
   "cell_type": "markdown",
   "id": "4c797e79-0cb9-4cb2-b876-1467746da85f",
   "metadata": {},
   "source": [
    "🎯 Challenge\n",
    "- Write a function that computes the sum and average of a list of numbers"
   ]
  },
  {
   "cell_type": "code",
   "execution_count": 138,
   "id": "84bb8372-cd03-438c-9071-bc7af40f0048",
   "metadata": {},
   "outputs": [
    {
     "name": "stdin",
     "output_type": "stream",
     "text": [
      "\n",
      "Enter the number of element you want to have in your list: 5\n",
      "Enter the 1 element: 1\n",
      "Enter the 2 element: 2\n",
      "Enter the 3 element: 3\n",
      "Enter the 4 element: 4\n",
      "Enter the 5 element: 5\n"
     ]
    },
    {
     "name": "stdout",
     "output_type": "stream",
     "text": [
      "\n",
      "The list is: [1, 2, 3, 4, 5]\n",
      "Sum: 15\n",
      "Avg: 3.0\n"
     ]
    }
   ],
   "source": [
    "list_value = [] # ['1','2','3','4',5']\n",
    "\n",
    "number_of_element = int(input(\"\\nEnter the number of element you want to have in your list:\"))\n",
    "\n",
    "for i in range(number_of_element):\n",
    "    \n",
    "    element = int(input(f\"Enter the {i+1} element:\"))\n",
    "    list_value.append(element) #append() is used to insert a value in the end of the list\n",
    "\n",
    "print(\"\\nThe list is:\",list_value)\n",
    "\n",
    "def calc(num_list):\n",
    "    \n",
    "    total = 0\n",
    "    avg = 0\n",
    "    \n",
    "    for i in num_list: # i iterates (travel) through each element of num_list and then store its different values in each iteration\n",
    "        total += i # It means total = total + i\n",
    "        \n",
    "    avg = total/len(num_list) #len() is used to calculate the number of elements present in an object(in our case it is a list).\n",
    "    \n",
    "    print(\"Sum:\", total)\n",
    "    print(\"Avg:\",avg)\n",
    "    \n",
    "calc(list_value) #We are calling this function to perform its task which was defined"
   ]
  },
  {
   "cell_type": "markdown",
   "id": "869ea905-59e5-419b-b9d8-12dce3af9152",
   "metadata": {},
   "source": [
    "<h3><b>Day 0️⃣6️⃣: Modules and Packages</b></h1>\n",
    "<h5>Date: June 2, 2025"
   ]
  },
  {
   "cell_type": "markdown",
   "id": "9fde9927-075c-449a-aa52-1182a4162bb5",
   "metadata": {},
   "source": [
    "🎯 Challenge\n",
    "- Generate a random 8-character password"
   ]
  },
  {
   "cell_type": "code",
   "execution_count": 151,
   "id": "2dd7571c-a55d-4160-af01-24cc83fe5874",
   "metadata": {},
   "outputs": [
    {
     "name": "stdout",
     "output_type": "stream",
     "text": [
      "Random 8-character password: +5'3\\!4%\n"
     ]
    }
   ],
   "source": [
    "import secrets, string\n",
    "\n",
    "# Define the set of characters to choose from: digits (0-9) and punctuation marks (e.g., !, @, #, etc.)\n",
    "list_of_characters = string.digits + string.punctuation\n",
    "\n",
    "password = \"\"  # Initialize an empty string to store the generated password\n",
    "\n",
    "# Loop 8 times to generate an 8-character password\n",
    "for i in range(8):\n",
    "    # Randomly select a character from the list_of_characters variable and append it to the password variable\n",
    "    password = password + secrets.choice(list_of_characters)\n",
    "    \n",
    "# Print the generated random password\n",
    "print(\"Random 8-character password:\", password)\n"
   ]
  },
  {
   "cell_type": "code",
   "execution_count": null,
   "id": "7d9c2f46-23b4-4563-8f26-770b0ec7df87",
   "metadata": {},
   "outputs": [],
   "source": []
  }
 ],
 "metadata": {
  "kernelspec": {
   "display_name": "Python [conda env:base] *",
   "language": "python",
   "name": "conda-base-py"
  },
  "language_info": {
   "codemirror_mode": {
    "name": "ipython",
    "version": 3
   },
   "file_extension": ".py",
   "mimetype": "text/x-python",
   "name": "python",
   "nbconvert_exporter": "python",
   "pygments_lexer": "ipython3",
   "version": "3.12.7"
  }
 },
 "nbformat": 4,
 "nbformat_minor": 5
}
