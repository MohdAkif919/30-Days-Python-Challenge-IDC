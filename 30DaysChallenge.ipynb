{
 "cells": [
  {
   "cell_type": "markdown",
   "id": "3f4411bd-3e6a-402b-b167-c73561a1cce3",
   "metadata": {},
   "source": [
    "<H3><CENTER>INDIAN DATA CLUB (IDC)"
   ]
  },
  {
   "cell_type": "markdown",
   "id": "340b73b5-6d2a-427f-9252-4d63754c106d",
   "metadata": {},
   "source": [
    "<h1>#30DaysOfPython 🐍"
   ]
  },
  {
   "cell_type": "markdown",
   "id": "97ad62f5-6ab1-44c5-a365-d14afd13a9f9",
   "metadata": {},
   "source": [
    "<h3><b>Day 0️⃣1️⃣: Introduction to Python</b></h1>\n",
    "<h5>Date: May 28, 2025"
   ]
  },
  {
   "cell_type": "markdown",
   "id": "124d2791-9462-49cd-b2e6-a143d9a3c0ad",
   "metadata": {},
   "source": [
    "🎯 Challenge\n",
    "- Write a program that prints \"Hello, World!\" followed by your name"
   ]
  },
  {
   "cell_type": "code",
   "execution_count": 15,
   "id": "d6c8dc47-7067-4acb-803d-9562e2bc25f3",
   "metadata": {},
   "outputs": [
    {
     "name": "stdout",
     "output_type": "stream",
     "text": [
      "Hello, World!\n",
      "I am Mohd Akif\n",
      "I am very excited for 30 days Python challenge\n",
      "Looking forward to rock!\n"
     ]
    }
   ],
   "source": [
    "# Approach 1: Using print() function\n",
    "print(\"Hello, World!\\nI am Mohd Akif\\nI am very excited for 30 days Python challenge\\nLooking forward to rock!\")"
   ]
  },
  {
   "cell_type": "code",
   "execution_count": 26,
   "id": "4e73dcf8-ba20-4006-a10f-97deece913b0",
   "metadata": {},
   "outputs": [
    {
     "name": "stdin",
     "output_type": "stream",
     "text": [
      "Aapka naam kya hai? : Mohd Akif\n"
     ]
    },
    {
     "name": "stdout",
     "output_type": "stream",
     "text": [
      "\n",
      "Hello, World!\n",
      "I am Mohd Akif \n",
      "I am very excited for 30 days Python challenge\n",
      "Looking forward to rock!\n"
     ]
    }
   ],
   "source": [
    "# Approach 2: Using input() function\n",
    "name = input(\"Aapka naam kya hai? :\") #input() function takes input from the user\n",
    "print(\"\\nHello, World!\\nI am\", name, \"\\nI am very excited for 30 days Python challenge\\nLooking forward to rock!\")"
   ]
  },
  {
   "cell_type": "markdown",
   "id": "928e3c01-5e4b-4f10-9c9d-388ad8c6a573",
   "metadata": {},
   "source": [
    "<h3><b>Day 0️⃣2️⃣: Variables and Data Types</b></h1>\n",
    "<h5>Date: May 29, 2025"
   ]
  },
  {
   "cell_type": "markdown",
   "id": "482e9e36-52e2-4567-b4f4-18bb8b892465",
   "metadata": {},
   "source": [
    "🎯 Challenge\n",
    "- Calculate the area of a rectangle using user-input length and width"
   ]
  },
  {
   "cell_type": "code",
   "execution_count": 14,
   "id": "fd3daa1d-9837-494d-b817-f2f71b39ff28",
   "metadata": {},
   "outputs": [
    {
     "name": "stdin",
     "output_type": "stream",
     "text": [
      "Enter the length: 1.3\n",
      "Enter the width: 2.6\n"
     ]
    },
    {
     "name": "stdout",
     "output_type": "stream",
     "text": [
      "Area of rectangle: 3.3800000000000003\n"
     ]
    }
   ],
   "source": [
    "length = float(input(\"Enter the length:\"))\n",
    "width = float(input(\"Enter the width:\"))\n",
    "print(\"Area of rectangle:\", length*width)"
   ]
  },
  {
   "cell_type": "markdown",
   "id": "0baa7761-e258-49d6-a29f-822bfb0b9e81",
   "metadata": {},
   "source": [
    "<h3><b>Day 0️⃣3️⃣: Lists, Tuples, and Dictionaries</b></h1>\n",
    "<h5>Date: May 30, 2025"
   ]
  },
  {
   "cell_type": "markdown",
   "id": "2497932f-d306-4fd4-9a56-e2f29b829960",
   "metadata": {},
   "source": [
    "🎯 Challenge\n",
    "- Create an inventory system tracking items and quantities with a dictionary"
   ]
  },
  {
   "cell_type": "code",
   "execution_count": 1,
   "id": "0fb93104-b92d-4ac8-a465-1cff643da9b5",
   "metadata": {},
   "outputs": [
    {
     "name": "stdout",
     "output_type": "stream",
     "text": [
      "*** Welcome to IDC Sabzi Wala ***\n",
      "\n",
      "Stock availability:\n",
      "\n",
      "1. Aloo (Potato): 5 kg\n",
      "2. Dhaniya (Coriander): 10 kg\n",
      "3. Karela (Balsam Pear): 0 kg\n",
      "4. Bayegan (Brinjal): 8 kg\n",
      "5. Paalak (Spinach): 3 kg\n"
     ]
    },
    {
     "name": "stdin",
     "output_type": "stream",
     "text": [
      "\n",
      "Enter between 1-5 to place your order:  5\n",
      "Enter the quantity of paalak you want to purchase (in kg):  5\n"
     ]
    },
    {
     "name": "stdout",
     "output_type": "stream",
     "text": [
      "\n",
      "Sorry, only 3 kg of paalak is available.\n",
      "\n",
      "Updated Stock:\n",
      "\n",
      "Aloo: 5 kg\n",
      "Dhaniya: 10 kg\n",
      "Karela: 0 kg\n",
      "Bayegan: 8 kg\n",
      "Paalak: 3 kg\n"
     ]
    }
   ],
   "source": [
    "sabzi = {\"aloo\": 5, \"dhaniya\": 10, \"karela\": 0, \"bayegan\": 8, \"paalak\": 3}\n",
    "\n",
    "# Mapping order_id to sabzi keys\n",
    "sabzi_menu = {1: \"aloo\", 2: \"dhaniya\", 3: \"karela\", 4: \"bayegan\", 5: \"paalak\"}\n",
    "\n",
    "print(\"*** Welcome to IDC Sabzi Wala ***\\n\")\n",
    "\n",
    "print(\"Stock availability:\\n\")\n",
    "print(\"1. Aloo (Potato):\", sabzi[\"aloo\"], \"kg\")\n",
    "print(\"2. Dhaniya (Coriander):\", sabzi[\"dhaniya\"], \"kg\")\n",
    "print(\"3. Karela (Balsam Pear):\", sabzi[\"karela\"], \"kg\")\n",
    "print(\"4. Bayegan (Brinjal):\", sabzi[\"bayegan\"], \"kg\")\n",
    "print(\"5. Paalak (Spinach):\", sabzi[\"paalak\"], \"kg\")\n",
    "\n",
    "order_id = int(input(\"\\nEnter between 1-5 to place your order: \")) #1\n",
    "\n",
    "if (order_id < 1) or (order_id > 5):\n",
    "    print(\"\\nPlease enter a correct order number (1-5)!\")\n",
    "else:\n",
    "    selected_item = sabzi_menu[order_id] #aloo\n",
    "    quantity = int(input(f\"Enter the quantity of {selected_item} you want to purchase (in kg): \")) #3\n",
    "\n",
    "    if quantity <= sabzi[selected_item]: #aloo ; 3 <= 5\n",
    "        sabzi[selected_item] -= quantity # 2\n",
    "        print(f\"\\nOrder successful! You bought {quantity} kg of {selected_item}.\")\n",
    "    else:\n",
    "        print(f\"\\nSorry, only {sabzi[selected_item]} kg of {selected_item} is available.\")\n",
    "\n",
    "# Print updated stock\n",
    "print(\"\\nUpdated Stock:\\n\")\n",
    "for item, stock in sabzi.items():\n",
    "    print(f\"{item.capitalize()}: {stock} kg\")\n"
   ]
  },
  {
   "cell_type": "markdown",
   "id": "a8a8fe3e-5aba-481a-826b-fb8f32cb1a63",
   "metadata": {},
   "source": [
    "<h3><b>Day 0️⃣4️⃣: Control Structures</b></h1>\n",
    "<h5>Date: May 31, 2025"
   ]
  },
  {
   "cell_type": "markdown",
   "id": "a75db35e-fdeb-4e07-a909-0141e3b99b7b",
   "metadata": {},
   "source": [
    "🎯 Challenge\n",
    "- Check if a user-entered number is prime"
   ]
  },
  {
   "cell_type": "code",
   "execution_count": 2,
   "id": "efd00e1d-85dd-4537-8594-ece365001fbb",
   "metadata": {},
   "outputs": [
    {
     "name": "stdin",
     "output_type": "stream",
     "text": [
      "Enter the number: 5\n"
     ]
    },
    {
     "name": "stdout",
     "output_type": "stream",
     "text": [
      "5 is a prime number\n"
     ]
    }
   ],
   "source": [
    "number = int(input(\"Enter the number:\")) #number = 4\n",
    "\n",
    "count = 0 #3\n",
    "\n",
    "if number <= 1:\n",
    "    print(f\"{number} is neither prime nor composite\")\n",
    "else:\n",
    "    for i in range (1, number+1): #1, 2, 3, 4\n",
    "        if number % i == 0:\n",
    "            count+=1\n",
    "    if count > 2:\n",
    "        print(f\"{number} is a composite number\")\n",
    "    else:\n",
    "        print(f\"{number} is a prime number\")"
   ]
  },
  {
   "cell_type": "markdown",
   "id": "5cd3a1d5-dec1-4a42-9773-b8937b8f8563",
   "metadata": {},
   "source": [
    "<h3><b>Day 0️⃣5️⃣: Functions</b></h1>\n",
    "<h5>Date: June 1, 2025"
   ]
  },
  {
   "cell_type": "markdown",
   "id": "4c797e79-0cb9-4cb2-b876-1467746da85f",
   "metadata": {},
   "source": [
    "🎯 Challenge\n",
    "- Write a function that computes the sum and average of a list of numbers"
   ]
  },
  {
   "cell_type": "code",
   "execution_count": 138,
   "id": "84bb8372-cd03-438c-9071-bc7af40f0048",
   "metadata": {},
   "outputs": [
    {
     "name": "stdin",
     "output_type": "stream",
     "text": [
      "\n",
      "Enter the number of element you want to have in your list: 5\n",
      "Enter the 1 element: 1\n",
      "Enter the 2 element: 2\n",
      "Enter the 3 element: 3\n",
      "Enter the 4 element: 4\n",
      "Enter the 5 element: 5\n"
     ]
    },
    {
     "name": "stdout",
     "output_type": "stream",
     "text": [
      "\n",
      "The list is: [1, 2, 3, 4, 5]\n",
      "Sum: 15\n",
      "Avg: 3.0\n"
     ]
    }
   ],
   "source": [
    "list_value = [] # ['1','2','3','4',5']\n",
    "\n",
    "number_of_element = int(input(\"\\nEnter the number of element you want to have in your list:\"))\n",
    "\n",
    "for i in range(number_of_element):\n",
    "    \n",
    "    element = int(input(f\"Enter the {i+1} element:\"))\n",
    "    list_value.append(element) #append() is used to insert a value in the end of the list\n",
    "\n",
    "print(\"\\nThe list is:\",list_value)\n",
    "\n",
    "def calc(num_list):\n",
    "    \n",
    "    total = 0\n",
    "    avg = 0\n",
    "    \n",
    "    for i in num_list: # i iterates (travel) through each element of num_list and then store its different values in each iteration\n",
    "        total += i # It means total = total + i\n",
    "        \n",
    "    avg = total/len(num_list) #len() is used to calculate the number of elements present in an object(in our case it is a list).\n",
    "    \n",
    "    print(\"Sum:\", total)\n",
    "    print(\"Avg:\",avg)\n",
    "    \n",
    "calc(list_value) #We are calling this function to perform its task which was defined"
   ]
  },
  {
   "cell_type": "markdown",
   "id": "869ea905-59e5-419b-b9d8-12dce3af9152",
   "metadata": {},
   "source": [
    "<h3><b>Day 0️⃣6️⃣: Modules and Packages</b></h1>\n",
    "<h5>Date: June 2, 2025"
   ]
  },
  {
   "cell_type": "markdown",
   "id": "9fde9927-075c-449a-aa52-1182a4162bb5",
   "metadata": {},
   "source": [
    "🎯 Challenge\n",
    "- Generate a random 8-character password"
   ]
  },
  {
   "cell_type": "code",
   "execution_count": 151,
   "id": "2dd7571c-a55d-4160-af01-24cc83fe5874",
   "metadata": {},
   "outputs": [
    {
     "name": "stdout",
     "output_type": "stream",
     "text": [
      "Random 8-character password: +5'3\\!4%\n"
     ]
    }
   ],
   "source": [
    "import secrets, string\n",
    "\n",
    "# Define the set of characters to choose from: digits (0-9) and punctuation marks (e.g., !, @, #, etc.)\n",
    "list_of_characters = string.digits + string.punctuation\n",
    "\n",
    "password = \"\"  # Initialize an empty string to store the generated password\n",
    "\n",
    "# Loop 8 times to generate an 8-character password\n",
    "for i in range(8):\n",
    "    # Randomly select a character from the list_of_characters variable and append it to the password variable\n",
    "    password = password + secrets.choice(list_of_characters)\n",
    "    \n",
    "# Print the generated random password\n",
    "print(\"Random 8-character password:\", password)\n"
   ]
  },
  {
   "cell_type": "markdown",
   "id": "52dbf3e5-4586-4c16-818a-89cd946dec7b",
   "metadata": {},
   "source": [
    "<h3><b>Day 0️⃣7️⃣: File Handling</b></h1>\n",
    "<h5>Date: June 3, 2025"
   ]
  },
  {
   "cell_type": "markdown",
   "id": "67713b51-d594-4a26-9dc2-5a6069109aed",
   "metadata": {},
   "source": [
    "🎯 Challenge\n",
    "- Count word frequencies in a text file"
   ]
  },
  {
   "cell_type": "code",
   "execution_count": 26,
   "id": "bee93b15-046f-480d-bff8-17e146d7e130",
   "metadata": {},
   "outputs": [
    {
     "name": "stdout",
     "output_type": "stream",
     "text": [
      "the : 8\n",
      "indian : 1\n",
      "data : 7\n",
      "club : 3\n",
      "idc : 4\n",
      "is : 3\n",
      "a : 3\n",
      "nonprofit : 1\n",
      "organization : 1\n",
      "established : 2\n",
      "in : 5\n",
      "november : 1\n",
      "2024 : 1\n",
      "headquartered : 1\n",
      "hyderabad : 1\n",
      "telangana : 2\n",
      "inaugurated : 1\n",
      "by : 1\n",
      "honorable : 1\n",
      "education : 1\n",
      "minister : 1\n",
      "of : 3\n",
      "aims : 1\n",
      "to : 8\n",
      "build : 1\n",
      "india's : 1\n",
      "most : 1\n",
      "unified : 1\n",
      "community : 4\n",
      "bringing : 1\n",
      "together : 1\n",
      "enthusiasts : 1\n",
      "and : 19\n",
      "professionals : 2\n",
      "collaborate : 1\n",
      "share : 1\n",
      "experiences : 1\n",
      "network : 1\n",
      "mission : 2\n",
      "activities : 1\n",
      "idc's : 2\n",
      "foster : 2\n",
      "collaborative : 1\n",
      "environment : 1\n",
      "where : 1\n",
      "individuals : 2\n",
      "passionate : 1\n",
      "about : 1\n",
      "can : 2\n",
      "connect : 2\n",
      "grow : 1\n",
      "organizes : 1\n",
      "various : 1\n",
      "events : 6\n",
      "initiatives : 2\n",
      "including : 1\n",
      "workshops : 1\n",
      "webinars : 1\n",
      "sessions : 1\n",
      "focused : 1\n",
      "on : 4\n",
      "tools : 1\n",
      "user : 1\n",
      "experience : 1\n",
      "design : 1\n",
      "such : 2\n",
      "as : 2\n",
      "power : 1\n",
      "bi : 1\n",
      "dashboard : 1\n",
      "development : 1\n",
      "featuring : 1\n",
      "industry : 2\n",
      "experts : 1\n",
      "like : 4\n",
      "ashish : 1\n",
      "babaria : 1\n",
      "challenges : 3\n",
      "competitions : 1\n",
      "30 : 1\n",
      "days : 1\n",
      "python : 1\n",
      "challenge : 1\n",
      "encourage : 1\n",
      "members : 2\n",
      "enhance : 1\n",
      "their : 2\n",
      "programming : 1\n",
      "skills : 1\n",
      "through : 2\n",
      "daily : 1\n",
      "tasks : 1\n",
      "support : 1\n",
      "networking : 1\n",
      "meetups : 1\n",
      "at : 3\n",
      "venues : 1\n",
      "microsoft : 1\n",
      "campus : 1\n",
      "provide : 1\n",
      "opportunities : 1\n",
      "for : 3\n",
      "engage : 2\n",
      "with : 1\n",
      "peers : 1\n",
      "outreach : 1\n",
      "has : 1\n",
      "university : 2\n",
      "chapters : 1\n",
      "chandigarh : 1\n",
      "students : 1\n",
      "communities : 1\n",
      "academic : 1\n",
      "level : 1\n",
      "maintains : 1\n",
      "an : 1\n",
      "active : 1\n",
      "presence : 1\n",
      "social : 2\n",
      "media : 2\n",
      "platforms : 1\n",
      "instagram : 2\n",
      "linkedin : 2\n",
      "sharing : 1\n",
      "updates : 1\n",
      "highlights : 1\n",
      "get : 1\n",
      "involved : 1\n",
      "interested : 1\n",
      "joining : 1\n",
      "official : 1\n",
      "website : 1\n",
      "or : 2\n",
      "channels : 1\n",
      "participation : 1\n",
      "discussions : 1\n",
      "open : 1\n",
      "all : 1\n",
      "providing : 1\n",
      "platform : 1\n",
      "continuous : 1\n",
      "learning : 1\n",
      "professional : 1\n",
      "growth : 1\n",
      "field : 1\n",
      "science : 1\n",
      "analytics : 1\n",
      "more : 1\n",
      "information : 1\n",
      "stay : 1\n",
      "updated : 1\n",
      "upcoming : 1\n",
      "visit : 1\n",
      "page : 1\n",
      "profile : 1\n"
     ]
    }
   ],
   "source": [
    "import string  # Import string module to access punctuation characters\n",
    "\n",
    "file = open(\"idc.txt\", \"r\")  # Open the file in read mode\n",
    "\n",
    "frequency = {}  # Create an empty dictionary to store word counts\n",
    "\n",
    "for line in file:  # Loop through each line in the file\n",
    "    word = line.split()  # Split the line into words\n",
    "    for count_of_words in word:  # Loop through each word\n",
    "        \n",
    "        # Convert word to lowercase and remove punctuation from start/end\n",
    "        count_of_words = count_of_words.lower().strip(string.punctuation)\n",
    "        \n",
    "        # Update the word count in the dictionary\n",
    "        if count_of_words in frequency:\n",
    "            frequency[count_of_words] += 1\n",
    "        else:\n",
    "            frequency[count_of_words] = 1\n",
    "\n",
    "for key, val in frequency.items():  # Loop through each word and its count\n",
    "    print(f\"{key} : {val}\")  # Print word and its frequency\n"
   ]
  },
  {
   "cell_type": "markdown",
   "id": "72a37e5b-b1d8-43e1-b96e-158381cf7daa",
   "metadata": {},
   "source": [
    "Steps of Day 7 Challenge:\n",
    "\n",
    "1. Open the file in read mode\n",
    "2. Create an empty dictionary to store the word and its frequency\n",
    "3. Loop through each line of the file or let's say we will pick each line of the file\n",
    "4. Split the line into words and store all the words in a variable\n",
    "5. Remove punctuations and convert all words into lower-case\n",
    "6. Loop through each word or let's say we will pick each word\n",
    "7. Check if the word is present in the dictionary. If yes, increment its occurence value by 1 everytime, if not then keep it as 1 only\n",
    "8. Print the dictionary"
   ]
  },
  {
   "cell_type": "markdown",
   "id": "5c8f779b-eefb-4106-aa95-468d255a0321",
   "metadata": {},
   "source": [
    "<h3><b>Day 0️⃣8️⃣: Object-Oriented Programming (Part 1)</b></h1>\n",
    "<h5>Date: June 4, 2025"
   ]
  },
  {
   "cell_type": "markdown",
   "id": "6249773e-c221-42fb-9335-e6691bdb5506",
   "metadata": {},
   "source": [
    "🎯 Challenge\n",
    "- Create a Car class with attributes and a display method"
   ]
  },
  {
   "cell_type": "code",
   "execution_count": 16,
   "id": "9a771c7c-70cd-4580-9e28-71792f64e5c1",
   "metadata": {},
   "outputs": [
    {
     "name": "stdout",
     "output_type": "stream",
     "text": [
      "**Car Information**\n",
      "\n",
      "Name: Taarzan\n",
      "Model: The Wonder Car\n",
      "Color: Purple\n",
      "Price: Rs.60000\n",
      "Owner: Raj\n"
     ]
    }
   ],
   "source": [
    "class Car:\n",
    "    def __init__(self, name, model, color, price, owner):\n",
    "        self.name = name\n",
    "        self.model = model\n",
    "        self.color = color\n",
    "        self.price = price\n",
    "        self.owner = owner\n",
    "\n",
    "    def car_info(self):\n",
    "        print(\"**Car Information**\\n\")\n",
    "        print(\"Name:\",self.name)\n",
    "        print(\"Model:\",self.model)\n",
    "        print(\"Color:\",self.color)\n",
    "        print(\"Price:\", self.price)\n",
    "        print(\"Owner:\", self.owner)\n",
    "\n",
    "taarzan = Car(\"Taarzan\",\"The Wonder Car\",\"Purple\",\"Rs.60000\",\"Raj\")\n",
    "taarzan.car_info()"
   ]
  },
  {
   "cell_type": "markdown",
   "id": "f4c75a95-164b-4480-afbd-2b14d9bb638a",
   "metadata": {},
   "source": [
    "<h3><b>Day 0️⃣9️⃣: Object-Oriented Programming (Part 2)</b></h1>\n",
    "<h5>Date: June 5, 2025"
   ]
  },
  {
   "cell_type": "markdown",
   "id": "3b0073f0-27f1-4376-9dfa-ab973ab318eb",
   "metadata": {},
   "source": [
    "🎯 Challenge\n",
    "- Extend Car into an ElectricCar subclass with battery capacity"
   ]
  },
  {
   "cell_type": "code",
   "execution_count": 24,
   "id": "f536debc-3869-42de-acf9-836524e250e1",
   "metadata": {},
   "outputs": [
    {
     "name": "stdout",
     "output_type": "stream",
     "text": [
      "**Car Information**\n",
      "\n",
      "Name: Tata\n",
      "Model: Nexon EV\n",
      "Color: Black\n",
      "\n",
      "I am an EV, and my battery capacity is: 46.08 kWh\n"
     ]
    }
   ],
   "source": [
    "class Car:\n",
    "    def __init__(self, name, model, color):\n",
    "        self.name = name\n",
    "        self.model = model\n",
    "        self.color = color\n",
    "\n",
    "class ElectricCar(Car):\n",
    "    def __init__(self, name, model, color, battery):\n",
    "        super().__init__(name, model, color)\n",
    "        self.battery = battery\n",
    "        \n",
    "    def battery_info(self):\n",
    "        print(\"\\nI am an EV, and my battery capacity is:\",self.battery,\"kWh\")\n",
    "\n",
    "    def display_info(self):\n",
    "        print(\"**Car Information**\\n\")\n",
    "        print(\"Name:\", self.name)\n",
    "        print(\"Model:\",self.model)\n",
    "        print(\"Color:\",self.color)\n",
    "\n",
    "nexon = ElectricCar(\"Tata\", \"Nexon EV\", \"Black\", 46.08)\n",
    "nexon.display_info()\n",
    "nexon.battery_info()"
   ]
  },
  {
   "cell_type": "markdown",
   "id": "96921120-5de4-40c8-b803-2e0fdf7c543f",
   "metadata": {},
   "source": [
    "<h3><b>Day 1️⃣0️⃣: Exception Handling</b></h1>\n",
    "<h5>Date: June 6, 2025"
   ]
  },
  {
   "cell_type": "markdown",
   "id": "9a5198dd-e668-4e2f-b20a-dbabc8579e77",
   "metadata": {},
   "source": [
    "🎯 Challenge\n",
    "- Read numbers from a file and handle errors gracefully"
   ]
  },
  {
   "cell_type": "code",
   "execution_count": 23,
   "id": "831bbcac-8cbe-4da9-94af-64c7165ce34c",
   "metadata": {},
   "outputs": [
    {
     "name": "stdout",
     "output_type": "stream",
     "text": [
      "Content of the file:\n",
      "\n",
      "Saanp\n",
      "7.5\n",
      "Indian Data Club\n",
      "34\n",
      "-5\n",
      "88\n",
      "\n",
      "Skipping invalid number on line 1: 'Saanp'\n",
      "Skipping invalid number on line 3: 'Indian Data Club'\n",
      "Valid numbers: [7.5, 34.0, -5.0, 88.0]\n"
     ]
    }
   ],
   "source": [
    "def read_numbers_from_file(filename):\n",
    "    numbers = []\n",
    "    try:\n",
    "        with open(filename, 'r') as file:\n",
    "            for line_number, line in enumerate(file, start=1):\n",
    "                try:\n",
    "                    number = float(line.strip())\n",
    "                    numbers.append(number)\n",
    "                except ValueError:\n",
    "                    print(f\"Skipping invalid number on line {line_number}: '{line.strip()}'\")\n",
    "    except FileNotFoundError:\n",
    "        print(f\"Error: The file '{filename}' does not exist.\")\n",
    "    \n",
    "    return numbers\n",
    "\n",
    "filename = \"numbers.txt\"\n",
    "\n",
    "#Reading the content of file\n",
    "f = open(filename)\n",
    "print(\"Content of the file:\\n\")\n",
    "print(f.read())\n",
    "\n",
    "#Reading numbers from the file\n",
    "valid_numbers = read_numbers_from_file(filename)\n",
    "print(\"Valid numbers:\", valid_numbers)\n"
   ]
  },
  {
   "cell_type": "markdown",
   "id": "66480750-848f-4df4-aceb-2d272c9f5cda",
   "metadata": {},
   "source": [
    "<h3><b>Day 1️⃣1️⃣: Working with Dates and Times</b></h1>\n",
    "<h5>Date: June 7, 2025"
   ]
  },
  {
   "cell_type": "markdown",
   "id": "9dfec550-b351-4771-b177-68a27ee02d1f",
   "metadata": {},
   "source": [
    "🎯 Challenge\n",
    "- Calculate the days between two dates"
   ]
  },
  {
   "cell_type": "code",
   "execution_count": 14,
   "id": "5c0171fe-e9ef-4311-8338-fb1ebd58dab3",
   "metadata": {},
   "outputs": [
    {
     "name": "stdout",
     "output_type": "stream",
     "text": [
      "My Birthday: 2002-11-24\n",
      "Current date: 2025-06-08\n",
      "Difference between these two days: 8232 days\n"
     ]
    }
   ],
   "source": [
    "from datetime import date\n",
    "\n",
    "my_birthday = date(2002,11,24)\n",
    "current_date = date.today() #today() returns the current date\n",
    "\n",
    "print(f\"My Birthday: {my_birthday}\")\n",
    "print(f\"Current date: {current_date}\")\n",
    "\n",
    "difference = abs((my_birthday - current_date).days)\n",
    "\n",
    "print(f\"Difference between these two days: {difference} days\")"
   ]
  },
  {
   "cell_type": "markdown",
   "id": "cb69d603-f4eb-4c3c-974d-ea74275816df",
   "metadata": {},
   "source": [
    "<h3><b>Day 1️⃣2️⃣: Regular Expressions</b></h1>\n",
    "<h5>Date: June 8, 2025"
   ]
  },
  {
   "cell_type": "markdown",
   "id": "98bcfe95-d43f-41cb-97f6-c37f2296f4ca",
   "metadata": {},
   "source": [
    "🎯 Challenge\n",
    "- Validate gmail addresses using regex"
   ]
  },
  {
   "cell_type": "code",
   "execution_count": 55,
   "id": "08a4cb3c-4026-464d-b59b-a00f2441751b",
   "metadata": {},
   "outputs": [
    {
     "name": "stdout",
     "output_type": "stream",
     "text": [
      "The text:\n",
      "\n",
      " Hello I am Akif and my email addresss is mohdakif919@gmail.com, nice to meet you.\n",
      "    My friend's email is ironman3000@gmail.com and also my other friend's email is thor@thoringtime.com\n",
      "\n",
      "The email addresses from the above text:\n",
      "\n",
      "['mohdakif919@gmail.com', 'ironman3000@gmail.com', 'thor@thoringtime.com'] \n",
      "\n",
      "The email address 'mohdakif919@gmail.com': Valid\n",
      "The email address 'ironman3000@gmail.com': Valid\n",
      "The email address 'thor@thoringtime.com': Invalid\n"
     ]
    }
   ],
   "source": [
    "import re\n",
    "\n",
    "# Function to extract all email addresses from a given text\n",
    "def email_extract(email):\n",
    "    # General email pattern: matches most standard email formats\n",
    "    pattern = r\"[a-zA-Z0-9._%+-]+@[a-zA-Z0-9.-]+\\.[a-zA-Z]{2,}\"\n",
    "    \n",
    "    # Find all matches in the input string\n",
    "    result = re.findall(pattern, email)\n",
    "\n",
    "    return result\n",
    "\n",
    "# Function to validate if an email is specifically a Gmail address\n",
    "def validate_email(email):\n",
    "    # Pattern restricted to gmail only\n",
    "    pattern = r\"[a-zA-Z0-9._%+-]+@gmail\\.com\"\n",
    "    \n",
    "    # Use re.match to validate if the email matches the pattern\n",
    "    if re.match(pattern, email):\n",
    "        return \"Valid\"\n",
    "    else:\n",
    "        return \"Invalid\"\n",
    "\n",
    "# Multiline text containing multiple email addresses\n",
    "text = '''Hello I am Akif and my email addresss is mohdakif919@gmail.com, nice to meet you.\n",
    "    My friend's email is ironman3000@gmail.com and also my other friend's email is thor@thoringtime.com'''\n",
    "\n",
    "# Display the original text\n",
    "print(\"The text:\\n\\n\", text)\n",
    "\n",
    "# Extract all email addresses from the given text\n",
    "email_container = email_extract(text)\n",
    "\n",
    "# Display the extracted email addresses\n",
    "print(\"\\nThe email addresses from the above text:\\n\")\n",
    "print(email_container, \"\\n\")\n",
    "\n",
    "# Loop through each extracted email address and check if it's a valid Gmail address\n",
    "for gmail_addresses in email_container:\n",
    "    print(f\"The email address '{gmail_addresses}': {validate_email(gmail_addresses)}\")\n"
   ]
  },
  {
   "cell_type": "markdown",
   "id": "c25d2f17-027d-4c80-9875-a1869252d38a",
   "metadata": {},
   "source": [
    "To extract any email addresses: [a-zA-Z0-9._%+-]+@[a-zA-Z0-9.-]+\\.[a-zA-Z]{2,}\n",
    "\n",
    "\n",
    "1. [a-zA-Z0-9._%+-]+@  -> Matches the local part of the email (before the @ symbol). e.g. : mohd.akif@\n",
    "\n",
    "2. [a-zA-Z0-9.-]+  -> This matches the domain name (e.g. gmail, yahoo, sub.domain, abc-xyz123) \n",
    "\n",
    "3. \\.  -> This matches the .(dot) character between the domain and the extension.\n",
    "\n",
    "4. [a-zA-Z]{2,}  -> This matches the top-level domain like .com, .in, .net, .org, etc."
   ]
  },
  {
   "cell_type": "markdown",
   "id": "698f10c7-1ed0-4b6c-93fe-79947764035f",
   "metadata": {},
   "source": [
    "To extract only gmail addresses: [a-zA-Z0-9._%+-]+@gmail\\.com\n",
    "\n",
    "\n",
    "1. [a-zA-Z0-9._%+-]+@  -> Matches the local part of the email (before the @ symbol). e.g. : mohd.akif@\n",
    "\n",
    "2. gmail\\.com  -> Matches the gmail.com part (which is going to be fixed)"
   ]
  },
  {
   "cell_type": "markdown",
   "id": "513e6194-d013-4e7f-bad8-b3874ac2952a",
   "metadata": {},
   "source": [
    "<h3><b>Day 1️⃣3️⃣: Data Structures</b></h1>\n",
    "<h5>Date: June 9, 2025"
   ]
  },
  {
   "cell_type": "markdown",
   "id": "c54de804-9bd5-4936-ad8e-341c0a2642e8",
   "metadata": {},
   "source": [
    "🎯 Challenge\n",
    "- Implement a stack with push, pop, and peek"
   ]
  },
  {
   "cell_type": "code",
   "execution_count": 42,
   "id": "9c19cd05-f043-4b12-96e7-edf959073489",
   "metadata": {},
   "outputs": [
    {
     "name": "stdout",
     "output_type": "stream",
     "text": [
      "50\n",
      "50\n",
      "40\n"
     ]
    }
   ],
   "source": [
    "class stack:\n",
    "    \n",
    "    # Constructor to initialize an empty list to store stack elements\n",
    "    def __init__(self):\n",
    "        self.stack_data = []\n",
    "\n",
    "    # Method to push (add) an element to the top of the stack\n",
    "    def push(self, element):\n",
    "        self.stack_data.append(element)\n",
    "\n",
    "    # Method to pop (remove and return) the top element of the stack\n",
    "    def pop(self):\n",
    "        # If the stack is empty, raise an error\n",
    "        if len(self.stack_data) == 0:\n",
    "            raise IndexError(\"No element is inside the stack\")\n",
    "            \n",
    "        # Remove and return the top element\n",
    "        return self.stack_data.pop()\n",
    "\n",
    "    # Method to peek (view) the top element of the stack without removing it\n",
    "    def peek(self):\n",
    "        # If the stack is empty, raise an error\n",
    "        if len(self.stack_data) == 0:\n",
    "            raise IndexError(\"No element is inside the stack\")\n",
    "            \n",
    "        # Return the top element without removing it\n",
    "        return self.stack_data[-1]\n",
    "\n",
    "# Create a new stack object\n",
    "stack1 = stack()\n",
    "\n",
    "# Push elements onto the stack\n",
    "stack1.push(20)\n",
    "stack1.push(30)\n",
    "stack1.push(40)\n",
    "stack1.push(50)\n",
    "\n",
    "# View the top element (should be 50)\n",
    "print(stack1.peek())  # Output: 50\n",
    "\n",
    "# Pop the top element (removes 50)\n",
    "print(stack1.pop())   # Output: 50\n",
    "\n",
    "# Pop the next top element (removes 40)\n",
    "print(stack1.pop())   # Output: 40\n"
   ]
  },
  {
   "cell_type": "code",
   "execution_count": null,
   "id": "a7c3de09-56b2-48ee-be8d-0a64024c0bb2",
   "metadata": {},
   "outputs": [],
   "source": [
    "list1 = [1,2,3,4,5]\n",
    "list1.append(6) #to push element 6 into [1,2,3,4,5]\n",
    "list1"
   ]
  },
  {
   "cell_type": "code",
   "execution_count": 40,
   "id": "673d5ac0-0d93-4b37-b6c5-040246e4e224",
   "metadata": {},
   "outputs": [
    {
     "data": {
      "text/plain": [
       "[1, 2, 3, 4, 5]"
      ]
     },
     "execution_count": 40,
     "metadata": {},
     "output_type": "execute_result"
    }
   ],
   "source": [
    "list1.pop() # to return and delete the top element, i.e. 6\n",
    "list1"
   ]
  },
  {
   "cell_type": "code",
   "execution_count": 41,
   "id": "e9b9e59c-8183-4520-b215-48d0a7fa09f0",
   "metadata": {},
   "outputs": [
    {
     "data": {
      "text/plain": [
       "5"
      ]
     },
     "execution_count": 41,
     "metadata": {},
     "output_type": "execute_result"
    }
   ],
   "source": [
    "list1[-1]"
   ]
  },
  {
   "cell_type": "code",
   "execution_count": 34,
   "id": "38cdf1e8-8b50-45b6-8c94-8221d2d7143f",
   "metadata": {},
   "outputs": [
    {
     "data": {
      "text/plain": [
       "[1, 2, 3, 4, 5]"
      ]
     },
     "execution_count": 34,
     "metadata": {},
     "output_type": "execute_result"
    }
   ],
   "source": [
    "list1"
   ]
  },
  {
   "cell_type": "markdown",
   "id": "cbe0ed5b-acf6-44e7-8f5a-d1492bc4796d",
   "metadata": {},
   "source": [
    "<h3><b>Day 1️⃣4️⃣: Recursion</b></h1>\n",
    "<h5>Date: June 10, 2025"
   ]
  },
  {
   "cell_type": "markdown",
   "id": "f95af58e-a4e7-4346-a55a-0921cc169895",
   "metadata": {},
   "source": [
    "🎯 Challenge\n",
    "- Calculate factorial recursively"
   ]
  },
  {
   "cell_type": "code",
   "execution_count": 11,
   "id": "deab4500-17a9-450a-858b-9cdc19ad518c",
   "metadata": {},
   "outputs": [
    {
     "name": "stdin",
     "output_type": "stream",
     "text": [
      "Enter the number:  7\n"
     ]
    },
    {
     "name": "stdout",
     "output_type": "stream",
     "text": [
      "Factorial of 7 is: 5040\n"
     ]
    }
   ],
   "source": [
    "def fact(n):\n",
    "    \n",
    "    if n < 0:\n",
    "        raise ValueError(\"Cannot calculate factorial of a negative number\")\n",
    "        \n",
    "    elif n == 0 or n == 1:\n",
    "        return 1\n",
    "        \n",
    "    else:\n",
    "        return n * fact(n - 1)\n",
    "\n",
    "try:\n",
    "    number = int(input(\"Enter the number: \"))\n",
    "    print(f\"Factorial of {number} is: {fact(number)}\")\n",
    "    \n",
    "except ValueError as e:\n",
    "    print(e)\n"
   ]
  },
  {
   "cell_type": "markdown",
   "id": "47a1749b-9617-4e31-83b5-2ee70852381b",
   "metadata": {},
   "source": [
    "n * fact(n-1)\n",
    "\n",
    "1. fact(5)\n",
    "   → not 0 or 1, so go to else:\n",
    "   → return 5 * fact(4)\n",
    "\n",
    "2. fact(4)\n",
    "   → return 4 * fact(3)\n",
    "\n",
    "3. fact(3)\n",
    "   → return 3 * fact(2)\n",
    "\n",
    "4. fact(2)\n",
    "   → return 2 * fact(1)\n",
    "\n",
    "5. fact(1)\n",
    "   → base case → return 1\n",
    "\n",
    "---\n",
    "\n",
    "Now the function starts the calls in reverse order:\n",
    "\n",
    "6. fact(2) → 2 * fact(1) → 2 * 1 = 2\n",
    "\n",
    "7. fact(3) → 3 * fact(2) → 3 * 2 = 6\n",
    "\n",
    "8. fact(4) → 4 * fact(3) → 4 * 6 = 24\n",
    "\n",
    "9. fact(5) → 5 * fact(4) → 5 * 24 = 120"
   ]
  },
  {
   "cell_type": "markdown",
   "id": "003ee9d6-9152-4dbf-b627-d4dc3cc2ace3",
   "metadata": {},
   "source": [
    "<h3><b>Day 1️⃣5️⃣: Decorators</b></h1>\n",
    "<h5>Date: June 11, 2025"
   ]
  },
  {
   "cell_type": "markdown",
   "id": "94ee6257-0951-49c6-abb5-bf218c46a6a1",
   "metadata": {},
   "source": [
    "🎯 Challenge\n",
    "- Create a decorator to log function execution time"
   ]
  },
  {
   "cell_type": "code",
   "execution_count": 71,
   "id": "12650bad-bb68-45db-95b8-7b5dc44b84e4",
   "metadata": {
    "scrolled": true
   },
   "outputs": [
    {
     "name": "stdout",
     "output_type": "stream",
     "text": [
      "fact took 0.0035 miliseconds\n"
     ]
    }
   ],
   "source": [
    "import time\n",
    "\n",
    "def time_calc(func):\n",
    "    \n",
    "    def wrapper(*args, **kwargs):\n",
    "        \n",
    "        start = time.perf_counter()\n",
    "        result = func(*args, **kwargs)\n",
    "        end = time.perf_counter()\n",
    "        print(func.__name__+\" took \" + str(round(((end-start)*1000),4)) + \" miliseconds\")\n",
    "        return result\n",
    "        \n",
    "    return wrapper\n",
    "        \n",
    "@time_calc\n",
    "def fact(n):\n",
    "    if n == 0 or n == 1:\n",
    "        return 1\n",
    "    else:\n",
    "        result = 1\n",
    "        for number in range (n,1,-1):\n",
    "            result *= number\n",
    "\n",
    "fact(5)"
   ]
  },
  {
   "cell_type": "markdown",
   "id": "20e42aa0-d41e-4232-b54f-689dc6408517",
   "metadata": {},
   "source": [
    "<h3><b>Day 1️⃣6️⃣: Generators and Iterators</b></h1>\n",
    "<h5>Date: June 12, 2025"
   ]
  },
  {
   "cell_type": "markdown",
   "id": "5cbc941d-5ea9-45d4-ba7d-9e340f81cad9",
   "metadata": {},
   "source": [
    "🎯 Challenge\n",
    "-  Generate the first n Fibonacci numbers with a generator"
   ]
  },
  {
   "cell_type": "code",
   "execution_count": 20,
   "id": "dc5d509f-23ae-4a9b-b9d9-1dc6c8883958",
   "metadata": {},
   "outputs": [
    {
     "name": "stdin",
     "output_type": "stream",
     "text": [
      "Enter the number: 10\n"
     ]
    },
    {
     "name": "stdout",
     "output_type": "stream",
     "text": [
      "0 1 1 2 3 5 8 13 21 34 "
     ]
    }
   ],
   "source": [
    "def fibo(num):\n",
    "    \n",
    "    increment = 0\n",
    "    a, b = 0, 1\n",
    "    \n",
    "    while increment < num:\n",
    "        \n",
    "        yield a\n",
    "        a, b = b, a+b\n",
    "        \n",
    "        increment += 1\n",
    "\n",
    "num = int(input(\"Enter the number:\"))\n",
    "\n",
    "for i in fibo(num):\n",
    "    print(i, end = \" \")"
   ]
  },
  {
   "cell_type": "markdown",
   "id": "c385fa25-0722-4245-b745-352005e23aa3",
   "metadata": {},
   "source": [
    "<h3><b>Day 1️⃣7️⃣: Context Managers</b></h1>\n",
    "<h5>Date: June 13, 2025"
   ]
  },
  {
   "cell_type": "markdown",
   "id": "ae46e64f-0250-4e54-8bb1-9b301969dd4b",
   "metadata": {},
   "source": [
    "🎯 Challenge\n",
    "-  Build a context manager for safe file handling"
   ]
  },
  {
   "cell_type": "code",
   "execution_count": 32,
   "id": "4b034749-c4cd-4211-9849-0762fe91d35e",
   "metadata": {},
   "outputs": [
    {
     "name": "stdout",
     "output_type": "stream",
     "text": [
      "IDC File is now opened!\n",
      "Hello IDC mates!\n",
      "IDC file is closed!, Thank you for using our service!\n"
     ]
    }
   ],
   "source": [
    "class FileHandling:\n",
    "\n",
    "    def __init__(self, name, mode):\n",
    "        self.name = name\n",
    "        self.mode = mode\n",
    "        \n",
    "    def __enter__(self):\n",
    "        self.file = open(self.name, self.mode)\n",
    "        print(\"IDC File is now opened!\")\n",
    "        return self.file\n",
    "\n",
    "    def __exit__(self, exc_type, exc_val, exc_tb):\n",
    "        self.file.close()\n",
    "        print(\"IDC file is closed!, Thank you for using our service!\")\n",
    "\n",
    "with FileHandling(\"idc.txt\",\"w+\") as f:\n",
    "    f.write(\"Hello IDC mates!\")\n",
    "    f.seek(0)\n",
    "    print(f.read())"
   ]
  },
  {
   "cell_type": "markdown",
   "id": "80903916-7ff9-4fa6-b643-8c6f839814ed",
   "metadata": {},
   "source": [
    "<h3><b>Day 1️⃣8️⃣: Metaclasses</b></h1>\n",
    "<h5>Date: June 14, 2025"
   ]
  },
  {
   "cell_type": "markdown",
   "id": "a137c402-25da-4883-ac7c-7d6612aec43b",
   "metadata": {},
   "source": [
    "🎯 Challenge\n",
    "-  Enforce a naming convention with a metaclass"
   ]
  },
  {
   "cell_type": "code",
   "execution_count": 2,
   "id": "1ad365b0-83dc-4c36-a1b1-930ff9dd3d97",
   "metadata": {},
   "outputs": [
    {
     "ename": "ValueError",
     "evalue": "Attribute 'name' must be in UPPERCASE",
     "output_type": "error",
     "traceback": [
      "\u001b[1;31m---------------------------------------------------------------------------\u001b[0m",
      "\u001b[1;31mValueError\u001b[0m                                Traceback (most recent call last)",
      "Cell \u001b[1;32mIn[2], line 13\u001b[0m\n\u001b[0;32m     10\u001b[0m     AGE \u001b[38;5;241m=\u001b[39m \u001b[38;5;241m0.55\u001b[39m\n\u001b[0;32m     12\u001b[0m \u001b[38;5;66;03m# This will raise an error because of 'name'\u001b[39;00m\n\u001b[1;32m---> 13\u001b[0m \u001b[38;5;28;01mclass\u001b[39;00m \u001b[38;5;21;01mBadClass\u001b[39;00m(metaclass\u001b[38;5;241m=\u001b[39mUpperCase):\n\u001b[0;32m     14\u001b[0m     name \u001b[38;5;241m=\u001b[39m \u001b[38;5;124m\"\u001b[39m\u001b[38;5;124mIDC\u001b[39m\u001b[38;5;124m\"\u001b[39m\n\u001b[0;32m     15\u001b[0m     AGE \u001b[38;5;241m=\u001b[39m \u001b[38;5;241m0.55\u001b[39m\n",
      "Cell \u001b[1;32mIn[2], line 5\u001b[0m, in \u001b[0;36mUpperCase.__new__\u001b[1;34m(cls, name, bases, class_dict)\u001b[0m\n\u001b[0;32m      3\u001b[0m \u001b[38;5;28;01mfor\u001b[39;00m attr_name \u001b[38;5;129;01min\u001b[39;00m class_dict:\n\u001b[0;32m      4\u001b[0m     \u001b[38;5;28;01mif\u001b[39;00m \u001b[38;5;129;01mnot\u001b[39;00m attr_name\u001b[38;5;241m.\u001b[39mstartswith(\u001b[38;5;124m'\u001b[39m\u001b[38;5;124m__\u001b[39m\u001b[38;5;124m'\u001b[39m) \u001b[38;5;129;01mand\u001b[39;00m \u001b[38;5;129;01mnot\u001b[39;00m attr_name\u001b[38;5;241m.\u001b[39misupper():\n\u001b[1;32m----> 5\u001b[0m         \u001b[38;5;28;01mraise\u001b[39;00m \u001b[38;5;167;01mValueError\u001b[39;00m(\u001b[38;5;124mf\u001b[39m\u001b[38;5;124m\"\u001b[39m\u001b[38;5;124mAttribute \u001b[39m\u001b[38;5;124m'\u001b[39m\u001b[38;5;132;01m{\u001b[39;00mattr_name\u001b[38;5;132;01m}\u001b[39;00m\u001b[38;5;124m'\u001b[39m\u001b[38;5;124m must be in UPPERCASE\u001b[39m\u001b[38;5;124m\"\u001b[39m)\n\u001b[0;32m      6\u001b[0m \u001b[38;5;28;01mreturn\u001b[39;00m \u001b[38;5;28msuper\u001b[39m()\u001b[38;5;241m.\u001b[39m\u001b[38;5;21m__new__\u001b[39m(\u001b[38;5;28mcls\u001b[39m, name, bases, class_dict)\n",
      "\u001b[1;31mValueError\u001b[0m: Attribute 'name' must be in UPPERCASE"
     ]
    }
   ],
   "source": [
    "class UpperCase(type):\n",
    "    def __new__(cls, name, bases, class_dict):\n",
    "        for attr_name in class_dict:\n",
    "            if not attr_name.startswith('__') and not attr_name.isupper():\n",
    "                raise ValueError(f\"Attribute '{attr_name}' must be in UPPERCASE\")\n",
    "        return super().__new__(cls, name, bases, class_dict)\n",
    "\n",
    "class GoodClass(metaclass=UpperCase):\n",
    "    NAME = \"IDC\"\n",
    "    AGE = 0.55\n",
    "    \n",
    "# This will raise an error because of 'name'\n",
    "class BadClass(metaclass=UpperCase):\n",
    "    name = \"IDC\"\n",
    "    AGE = 0.55"
   ]
  },
  {
   "cell_type": "markdown",
   "id": "2e92d4aa-58d3-4869-ba87-4fc669cdc0f0",
   "metadata": {},
   "source": [
    "<h3><b>Day 1️⃣9️⃣: Multithreading and Multiprocessing</b></h1>\n",
    "<h5>Date: June 15, 2025"
   ]
  },
  {
   "cell_type": "markdown",
   "id": "f954b37b-b14b-4113-b6ad-e40c7595d470",
   "metadata": {},
   "source": [
    "🎯 Challenge\n",
    "-  Download multiple files concurrently using threads"
   ]
  },
  {
   "cell_type": "code",
   "execution_count": 19,
   "id": "202c0f00-63d8-4079-9b2e-a810af812e86",
   "metadata": {},
   "outputs": [
    {
     "name": "stdout",
     "output_type": "stream",
     "text": [
      "Starting download: marvel-4k-phone-8a3sz1pzi9oprfry.webp\n",
      "Starting download: marvel-4k-phone-1f503uouzlvcqmmm.webp\n",
      "Starting download: marvel-4k-phone-1pfc8c0b0utgpycd.webp\n",
      "Download completed: marvel-4k-phone-8a3sz1pzi9oprfry.webp\n",
      "Download completed: marvel-4k-phone-1f503uouzlvcqmmm.webp\n",
      "Download completed: marvel-4k-phone-1pfc8c0b0utgpycd.webp\n",
      "All downloads completed.\n"
     ]
    }
   ],
   "source": [
    "import threading\n",
    "import requests\n",
    "import os\n",
    "\n",
    "# List of file URLs to download\n",
    "file_urls = [\n",
    "    \"https://wallpapers.com/images/high/marvel-4k-phone-8a3sz1pzi9oprfry.webp\",\n",
    "    \"https://wallpapers.com/images/high/marvel-4k-phone-1f503uouzlvcqmmm.webp\",\n",
    "    \"https://wallpapers.com/images/high/marvel-4k-phone-1pfc8c0b0utgpycd.webp\"\n",
    "]\n",
    "\n",
    "download_folder = r\"C:\\Users\\mohda\\Downloads\"\n",
    "os.makedirs(download_folder, exist_ok=True)\n",
    "\n",
    "# Function to download and save a file\n",
    "def download_file(url):\n",
    "    try:\n",
    "        file_name = url.split(\"/\")[-1]  # Get the file name from URL\n",
    "        file_path = os.path.join(download_folder, file_name)  # Full path\n",
    "\n",
    "        print(f\"Starting download: {file_name}\")\n",
    "        response = requests.get(url)\n",
    "\n",
    "        # Save the file\n",
    "        with open(file_path, \"wb\") as file:\n",
    "            file.write(response.content)\n",
    "            \n",
    "        print(f\"Download completed: {file_name}\")\n",
    "    except Exception as e:\n",
    "        print(f\"Failed to download {url} - {e}\")\n",
    "\n",
    "# Create and start threads\n",
    "threads = []\n",
    "for url in file_urls:\n",
    "    t = threading.Thread(target=download_file, args=(url,))\n",
    "    threads.append(t)\n",
    "    t.start()\n",
    "\n",
    "# Wait for all threads to complete\n",
    "for t in threads:\n",
    "    t.join()\n",
    "\n",
    "print(\"All downloads completed.\")"
   ]
  },
  {
   "cell_type": "markdown",
   "id": "ddddc2ac-4ba7-46c7-b20f-645cd55728e3",
   "metadata": {},
   "source": [
    "<h3><b>Day 2️⃣0️⃣: Networking with Python</b></h1>\n",
    "<h5>Date: June 16, 2025"
   ]
  },
  {
   "cell_type": "markdown",
   "id": "6c09d1c5-0200-470f-bfb1-138d38363864",
   "metadata": {},
   "source": [
    "🎯 Challenge\n",
    "-  Fetch and display a webpage’s content"
   ]
  },
  {
   "cell_type": "code",
   "execution_count": 21,
   "id": "ff82f0fc-5e24-4f6d-8576-c34bee90ff80",
   "metadata": {},
   "outputs": [
    {
     "name": "stdout",
     "output_type": "stream",
     "text": [
      "Webpage saved successfully at:\n",
      "C:\\Users\\mohda\\Downloads\\idc_homepage.html\n"
     ]
    }
   ],
   "source": [
    "import requests\n",
    "import os\n",
    "\n",
    "# URL of the webpage\n",
    "url = 'https://www.indiandataclub.com'\n",
    "output_dir = r\"C:\\Users\\mohda\\Downloads\"\n",
    "\n",
    "# File name\n",
    "filename = 'idc_homepage.html'\n",
    "os.makedirs(output_dir, exist_ok=True)\n",
    "\n",
    "# Full file path\n",
    "file_path = os.path.join(output_dir, filename)\n",
    "\n",
    "# Fetch the webpage\n",
    "response = requests.get(url)\n",
    "\n",
    "# Save the HTML content to the file\n",
    "if response.status_code == 200:\n",
    "    with open(file_path, 'w', encoding='utf-8') as f:\n",
    "        f.write(response.text)\n",
    "    print(f'Webpage saved successfully at:\\n{file_path}')\n",
    "else:\n",
    "    print(f'Failed to fetch webpage. Status code: {response.status_code}')\n"
   ]
  },
  {
   "cell_type": "markdown",
   "id": "6818d939-2afb-47b2-be6c-aea99eceb530",
   "metadata": {},
   "source": [
    "<h3><b>Day 2️⃣1️⃣: Web Scraping</b></h1>\n",
    "<h5>Date: June 17, 2025"
   ]
  },
  {
   "cell_type": "markdown",
   "id": "71327cdc-6284-4e9e-9459-0b4c83507445",
   "metadata": {},
   "source": [
    "🎯 Challenge\n",
    "-  Scrape headlines from a news site"
   ]
  },
  {
   "cell_type": "code",
   "execution_count": 23,
   "id": "7f830330-faea-4c01-8a70-d56471b0544c",
   "metadata": {},
   "outputs": [
    {
     "name": "stdout",
     "output_type": "stream",
     "text": [
      "BBC News Headlines:\n",
      "\n",
      "1. Trump says 'we’re looking at better than a ceasefire' as Iran and Israel exchange more strikes\n",
      "2. What are Trump's options for dealing with Iran?\n",
      "3. What the capsizing and relaunching of a warship tells us about North Korea's regime\n",
      "4. 'I hope you get cancer' -  tennis player Boulter reveals scale of online abuse\n",
      "5. Russia's deadliest attack on Kyiv for months kills 15 and wounds dozens\n",
      "6. What are Trump's options for dealing with Iran?\n",
      "7. Israeli forces kill 51 Palestinians waiting for aid in Gaza, witnesses and rescuers say\n",
      "8. The teen who filmed the Air India crash video the world saw\n",
      "9. BBC Verify Live: New satellite imagery shows damage from attack on Iran missile base\n",
      "10. What the capsizing and relaunching of a warship tells us about North Korea's regime\n"
     ]
    }
   ],
   "source": [
    "import requests\n",
    "from bs4 import BeautifulSoup\n",
    "\n",
    "# BBC News URL\n",
    "url = \"https://www.bbc.com/news\"\n",
    "\n",
    "# Send request\n",
    "response = requests.get(url)\n",
    "\n",
    "# Parse the page content\n",
    "soup = BeautifulSoup(response.text, \"html.parser\")\n",
    "\n",
    "# Find all headlines (h3 and h2 tags)\n",
    "headlines = soup.find_all([\"h2\", \"h3\"])\n",
    "\n",
    "print(\"BBC News Headlines:\\n\")\n",
    "\n",
    "# Print first 10 non-empty headlines\n",
    "count = 0\n",
    "for h in headlines:\n",
    "    text = h.get_text(strip=True)\n",
    "    if text:\n",
    "        count += 1\n",
    "        print(f\"{count}. {text}\")\n",
    "    if count == 10:\n",
    "        break\n"
   ]
  },
  {
   "cell_type": "markdown",
   "id": "416249ff-e04e-46a7-a15b-36bcb22ae574",
   "metadata": {},
   "source": [
    "<h3><b>Day 2️⃣2️⃣: Command-Line Application</b></h1>\n",
    "<h5>Date: June 17, 2025"
   ]
  },
  {
   "cell_type": "markdown",
   "id": "fec844a4-3e0b-441a-ac3b-fc98d2d66064",
   "metadata": {},
   "source": [
    "🎯 Challenge\n",
    "-  Build a temperature converter CLI tool"
   ]
  },
  {
   "cell_type": "code",
   "execution_count": 16,
   "id": "b75b3ee6-7213-49cd-b33d-b6bc3870a60b",
   "metadata": {},
   "outputs": [
    {
     "name": "stdin",
     "output_type": "stream",
     "text": [
      "Enter temperature in Celsius:  39.8\n"
     ]
    },
    {
     "name": "stdout",
     "output_type": "stream",
     "text": [
      "39.8°C is equal to 103.64°F\n"
     ]
    }
   ],
   "source": [
    "import argparse\n",
    "import sys\n",
    "\n",
    "# Ask user for input\n",
    "user_input = input(\"Enter temperature in Celsius: \")\n",
    "\n",
    "# Simulate command-line arguments\n",
    "sys.argv = [\"temp_converter\", user_input]\n",
    "\n",
    "# Setup argparse\n",
    "parser = argparse.ArgumentParser(description=\"Convert Celsius to Fahrenheit\")\n",
    "parser.add_argument(\"celsius\", type=float, help=\"Temperature in Celsius\")\n",
    "args = parser.parse_args()\n",
    "\n",
    "# Conversion logic\n",
    "fahrenheit = (args.celsius * 9/5) + 32\n",
    "print(f\"{args.celsius}°C is equal to {round(fahrenheit, 2)}°F\")"
   ]
  },
  {
   "cell_type": "code",
   "execution_count": null,
   "id": "6a8f7589-bcfd-4f92-b0ac-82e13231bfae",
   "metadata": {},
   "outputs": [],
   "source": []
  }
 ],
 "metadata": {
  "kernelspec": {
   "display_name": "Python [conda env:base] *",
   "language": "python",
   "name": "conda-base-py"
  },
  "language_info": {
   "codemirror_mode": {
    "name": "ipython",
    "version": 3
   },
   "file_extension": ".py",
   "mimetype": "text/x-python",
   "name": "python",
   "nbconvert_exporter": "python",
   "pygments_lexer": "ipython3",
   "version": "3.12.7"
  }
 },
 "nbformat": 4,
 "nbformat_minor": 5
}
